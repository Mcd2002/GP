{
  "nbformat": 4,
  "nbformat_minor": 0,
  "metadata": {
    "colab": {
      "provenance": []
    },
    "kernelspec": {
      "name": "python3",
      "display_name": "Python 3"
    },
    "language_info": {
      "name": "python"
    }
  },
  "cells": [
    {
      "cell_type": "code",
      "execution_count": null,
      "metadata": {
        "id": "psLbM5XRfQQL"
      },
      "outputs": [],
      "source": []
    },
    {
      "cell_type": "markdown",
      "source": [
        "### Multi class classification using FFNN"
      ],
      "metadata": {
        "id": "YueHRXDxgGln"
      }
    },
    {
      "cell_type": "code",
      "source": [
        "import numpy as np\n",
        "import pandas as pd\n",
        "import matplotlib.pyplot as plt\n",
        "import tensorflow as tf"
      ],
      "metadata": {
        "id": "SLxeLxAXgKAD"
      },
      "execution_count": null,
      "outputs": []
    },
    {
      "cell_type": "code",
      "source": [],
      "metadata": {
        "id": "pW-QGxF5gK9_"
      },
      "execution_count": null,
      "outputs": []
    },
    {
      "cell_type": "markdown",
      "source": [
        "### Accessing the dataset"
      ],
      "metadata": {
        "id": "FIJl-NQIgtNb"
      }
    },
    {
      "cell_type": "code",
      "source": [
        "from tensorflow.keras.datasets import fashion_mnist"
      ],
      "metadata": {
        "id": "iSeiQ_t-gvFs"
      },
      "execution_count": null,
      "outputs": []
    },
    {
      "cell_type": "code",
      "source": [
        "(X_train,y_train),(X_test,y_test)=fashion_mnist.load_data()"
      ],
      "metadata": {
        "colab": {
          "base_uri": "https://localhost:8080/"
        },
        "id": "26cRs3J-hEWP",
        "outputId": "d8784b11-981a-44c9-b262-9354ae1007af"
      },
      "execution_count": null,
      "outputs": [
        {
          "output_type": "stream",
          "name": "stdout",
          "text": [
            "Downloading data from https://storage.googleapis.com/tensorflow/tf-keras-datasets/train-labels-idx1-ubyte.gz\n",
            "29515/29515 [==============================] - 0s 0us/step\n",
            "Downloading data from https://storage.googleapis.com/tensorflow/tf-keras-datasets/train-images-idx3-ubyte.gz\n",
            "26421880/26421880 [==============================] - 0s 0us/step\n",
            "Downloading data from https://storage.googleapis.com/tensorflow/tf-keras-datasets/t10k-labels-idx1-ubyte.gz\n",
            "5148/5148 [==============================] - 0s 0us/step\n",
            "Downloading data from https://storage.googleapis.com/tensorflow/tf-keras-datasets/t10k-images-idx3-ubyte.gz\n",
            "4422102/4422102 [==============================] - 0s 0us/step\n"
          ]
        }
      ]
    },
    {
      "cell_type": "code",
      "source": [
        "X_train.shape,y_train.shape,X_test.shape,y_test.shape"
      ],
      "metadata": {
        "colab": {
          "base_uri": "https://localhost:8080/"
        },
        "id": "UEaxbsA3hf73",
        "outputId": "edbd521e-ddb2-487c-e28c-2553d28f4c5e"
      },
      "execution_count": null,
      "outputs": [
        {
          "output_type": "execute_result",
          "data": {
            "text/plain": [
              "((60000, 28, 28), (60000,), (10000, 28, 28), (10000,))"
            ]
          },
          "metadata": {},
          "execution_count": 8
        }
      ]
    },
    {
      "cell_type": "code",
      "source": [],
      "metadata": {
        "id": "BwIqdQ5zho7r"
      },
      "execution_count": null,
      "outputs": []
    },
    {
      "cell_type": "markdown",
      "source": [
        "## Visualisation of the training data"
      ],
      "metadata": {
        "id": "9uZrE1yAhzUv"
      }
    },
    {
      "cell_type": "code",
      "source": [
        "plt.imshow(X_train[0],'Greys')\n",
        "plt.title(y_train[0]);"
      ],
      "metadata": {
        "colab": {
          "base_uri": "https://localhost:8080/",
          "height": 281
        },
        "id": "RJlYxkFbh194",
        "outputId": "f2937657-86fd-446e-c78d-41c58cd6028d"
      },
      "execution_count": null,
      "outputs": [
        {
          "output_type": "display_data",
          "data": {
            "text/plain": [
              "<Figure size 432x288 with 1 Axes>"
            ],
            "image/png": "[encoded data removed]"
          },
          "metadata": {
            "needs_background": "light"
          }
        }
      ]
    },
    {
      "cell_type": "code",
      "source": [],
      "metadata": {
        "id": "h0uCbRlQiDMK"
      },
      "execution_count": null,
      "outputs": []
    },
    {
      "cell_type": "markdown",
      "source": [
        "0\tT-shirt/top\n",
        "\n",
        "1\tTrouser\n",
        "\n",
        "2\tPullover\n",
        "\n",
        "3\tDress\n",
        "\n",
        "4\tCoat\n",
        "\n",
        "5\tSandal\n",
        "\n",
        "6\tShirt\n",
        "\n",
        "7\tSneaker\n",
        "\n",
        "8\tBag\n",
        "\n",
        "9\tAnkle boot"
      ],
      "metadata": {
        "id": "L7OwRLRGikIt"
      }
    },
    {
      "cell_type": "code",
      "source": [
        "## Creating a dictionary of fashion accessories\n",
        "fashion_dict={0:'T-shirt/top',\n",
        "              1:'Trouser',\n",
        "              2:'Pullover',\n",
        "              3:'Dress',\n",
        "              4:'Coat',\n",
        "              5:'Sandal',\n",
        "              6:'Shirt',\n",
        "              7:'Sneaker',\n",
        "              8:'Bag',\n",
        "              9:'Ankle boot'}"
      ],
      "metadata": {
        "id": "fVpJYu28il7b"
      },
      "execution_count": null,
      "outputs": []
    },
    {
      "cell_type": "code",
      "source": [
        "plt.imshow(X_train[0],'Greys')\n",
        "plt.title(fashion_dict[y_train[0]]);"
      ],
      "metadata": {
        "colab": {
          "base_uri": "https://localhost:8080/",
          "height": 281
        },
        "id": "ANYb_D9kjXER",
        "outputId": "33fa6b99-ea51-4d16-c9db-27706ef70839"
      },
      "execution_count": null,
      "outputs": [
        {
          "output_type": "display_data",
          "data": {
            "text/plain": [
              "<Figure size 432x288 with 1 Axes>"
            ],
            "image/png": "[encoded data removed]"
          },
          "metadata": {
            "needs_background": "light"
          }
        }
      ]
    },
    {
      "cell_type": "code",
      "source": [
        "plt.imshow(X_train[1],'Greys')\n",
        "plt.title(fashion_dict[y_train[1]]);"
      ],
      "metadata": {
        "colab": {
          "base_uri": "https://localhost:8080/",
          "height": 281
        },
        "id": "8AU4ytSdjhrc",
        "outputId": "26daa19e-15dc-46c8-c8bf-93e3fceb7b20"
      },
      "execution_count": null,
      "outputs": [
        {
          "output_type": "display_data",
          "data": {
            "text/plain": [
              "<Figure size 432x288 with 1 Axes>"
            ],
            "image/png": "[encoded data removed]"
          },
          "metadata": {
            "needs_background": "light"
          }
        }
      ]
    },
    {
      "cell_type": "code",
      "source": [
        "plt.imshow(X_train[100],'Greys')\n",
        "plt.title(fashion_dict[y_train[100]]);"
      ],
      "metadata": {
        "colab": {
          "base_uri": "https://localhost:8080/",
          "height": 281
        },
        "id": "Sjxg68DRkAOi",
        "outputId": "479360bb-c2ac-4d42-b4da-28b9c0758e45"
      },
      "execution_count": null,
      "outputs": [
        {
          "output_type": "display_data",
          "data": {
            "text/plain": [
              "<Figure size 432x288 with 1 Axes>"
            ],
            "image/png": "[encoded data removed]"
          },
          "metadata": {
            "needs_background": "light"
          }
        }
      ]
    },
    {
      "cell_type": "code",
      "source": [
        "plt.imshow(X_train[5000],'Greys')\n",
        "plt.title(fashion_dict[y_train[5000]]);"
      ],
      "metadata": {
        "colab": {
          "base_uri": "https://localhost:8080/",
          "height": 281
        },
        "id": "MkiQtKxQkJVc",
        "outputId": "fdccc098-36ed-49e6-e676-048b6fd01e8c"
      },
      "execution_count": null,
      "outputs": [
        {
          "output_type": "display_data",
          "data": {
            "text/plain": [
              "<Figure size 432x288 with 1 Axes>"
            ],
            "image/png": "[encoded data removed]"
          },
          "metadata": {
            "needs_background": "light"
          }
        }
      ]
    },
    {
      "cell_type": "code",
      "source": [
        "plt.imshow(X_train[15000],'Greys')\n",
        "plt.title(fashion_dict[y_train[15000]]);"
      ],
      "metadata": {
        "colab": {
          "base_uri": "https://localhost:8080/",
          "height": 281
        },
        "id": "fY9rw9XWkMLk",
        "outputId": "5ad57407-a8b9-48a9-97ea-601034fb5fd4"
      },
      "execution_count": null,
      "outputs": [
        {
          "output_type": "display_data",
          "data": {
            "text/plain": [
              "<Figure size 432x288 with 1 Axes>"
            ],
            "image/png": "[encoded data removed]"
          },
          "metadata": {
            "needs_background": "light"
          }
        }
      ]
    },
    {
      "cell_type": "code",
      "source": [
        "plt.imshow(X_train[50000],'Greys')\n",
        "plt.title(fashion_dict[y_train[50000]]);"
      ],
      "metadata": {
        "colab": {
          "base_uri": "https://localhost:8080/",
          "height": 281
        },
        "id": "KPtTSeuGkPsH",
        "outputId": "ae86586f-162a-4027-9b40-8e40e13f751f"
      },
      "execution_count": null,
      "outputs": [
        {
          "output_type": "display_data",
          "data": {
            "text/plain": [
              "<Figure size 432x288 with 1 Axes>"
            ],
            "image/png": "[encoded data removed]"
          },
          "metadata": {
            "needs_background": "light"
          }
        }
      ]
    },
    {
      "cell_type": "code",
      "source": [
        "plt.imshow(X_train[59999],'Greys')\n",
        "plt.title(fashion_dict[y_train[59999]]);"
      ],
      "metadata": {
        "colab": {
          "base_uri": "https://localhost:8080/",
          "height": 281
        },
        "id": "rV9fU7dukVW4",
        "outputId": "536c3c2a-6709-4aca-f422-5886a4f778eb"
      },
      "execution_count": null,
      "outputs": [
        {
          "output_type": "display_data",
          "data": {
            "text/plain": [
              "<Figure size 432x288 with 1 Axes>"
            ],
            "image/png": "[encoded data removed]"
          },
          "metadata": {
            "needs_background": "light"
          }
        }
      ]
    },
    {
      "cell_type": "code",
      "source": [
        "y_train"
      ],
      "metadata": {
        "colab": {
          "base_uri": "https://localhost:8080/"
        },
        "id": "5N_Usz7xkeQb",
        "outputId": "2db4393e-cf0d-42e7-8e3d-23fc07741373"
      },
      "execution_count": null,
      "outputs": [
        {
          "output_type": "execute_result",
          "data": {
            "text/plain": [
              "array([9, 0, 0, ..., 3, 0, 5], dtype=uint8)"
            ]
          },
          "metadata": {},
          "execution_count": 21
        }
      ]
    },
    {
      "cell_type": "code",
      "source": [
        "pd.DataFrame(y_train).value_counts()"
      ],
      "metadata": {
        "colab": {
          "base_uri": "https://localhost:8080/"
        },
        "id": "rWDbzbxXkhSX",
        "outputId": "4ba84d00-650c-4498-f7a2-b6bf8b4665f7"
      },
      "execution_count": null,
      "outputs": [
        {
          "output_type": "execute_result",
          "data": {
            "text/plain": [
              "0    6000\n",
              "1    6000\n",
              "2    6000\n",
              "3    6000\n",
              "4    6000\n",
              "5    6000\n",
              "6    6000\n",
              "7    6000\n",
              "8    6000\n",
              "9    6000\n",
              "dtype: int64"
            ]
          },
          "metadata": {},
          "execution_count": 22
        }
      ]
    },
    {
      "cell_type": "code",
      "source": [],
      "metadata": {
        "colab": {
          "base_uri": "https://localhost:8080/",
          "height": 287
        },
        "id": "G45QOozGkq_6",
        "outputId": "bd888bc2-79d8-48c3-d0eb-6b9de198de9d"
      },
      "execution_count": null,
      "outputs": [
        {
          "output_type": "error",
          "ename": "AttributeError",
          "evalue": "ignored",
          "traceback": [
            "\u001b[0;31m---------------------------------------------------------------------------\u001b[0m",
            "\u001b[0;31mAttributeError\u001b[0m                            Traceback (most recent call last)",
            "\u001b[0;32m<ipython-input-24-452e0ddebcd4>\u001b[0m in \u001b[0;36m<module>\u001b[0;34m\u001b[0m\n\u001b[0;32m----> 1\u001b[0;31m \u001b[0mpd\u001b[0m\u001b[0;34m.\u001b[0m\u001b[0mDataFrame\u001b[0m\u001b[0;34m(\u001b[0m\u001b[0my_train\u001b[0m\u001b[0;34m)\u001b[0m\u001b[0;34m.\u001b[0m\u001b[0munique\u001b[0m\u001b[0;34m(\u001b[0m\u001b[0;34m)\u001b[0m\u001b[0;34m\u001b[0m\u001b[0;34m\u001b[0m\u001b[0m\n\u001b[0m",
            "\u001b[0;32m/usr/local/lib/python3.8/dist-packages/pandas/core/generic.py\u001b[0m in \u001b[0;36m__getattr__\u001b[0;34m(self, name)\u001b[0m\n\u001b[1;32m   5485\u001b[0m         ):\n\u001b[1;32m   5486\u001b[0m             \u001b[0;32mreturn\u001b[0m \u001b[0mself\u001b[0m\u001b[0;34m[\u001b[0m\u001b[0mname\u001b[0m\u001b[0;34m]\u001b[0m\u001b[0;34m\u001b[0m\u001b[0;34m\u001b[0m\u001b[0m\n\u001b[0;32m-> 5487\u001b[0;31m         \u001b[0;32mreturn\u001b[0m \u001b[0mobject\u001b[0m\u001b[0;34m.\u001b[0m\u001b[0m__getattribute__\u001b[0m\u001b[0;34m(\u001b[0m\u001b[0mself\u001b[0m\u001b[0;34m,\u001b[0m \u001b[0mname\u001b[0m\u001b[0;34m)\u001b[0m\u001b[0;34m\u001b[0m\u001b[0;34m\u001b[0m\u001b[0m\n\u001b[0m\u001b[1;32m   5488\u001b[0m \u001b[0;34m\u001b[0m\u001b[0m\n\u001b[1;32m   5489\u001b[0m     \u001b[0;32mdef\u001b[0m \u001b[0m__setattr__\u001b[0m\u001b[0;34m(\u001b[0m\u001b[0mself\u001b[0m\u001b[0;34m,\u001b[0m \u001b[0mname\u001b[0m\u001b[0;34m:\u001b[0m \u001b[0mstr\u001b[0m\u001b[0;34m,\u001b[0m \u001b[0mvalue\u001b[0m\u001b[0;34m)\u001b[0m \u001b[0;34m->\u001b[0m \u001b[0;32mNone\u001b[0m\u001b[0;34m:\u001b[0m\u001b[0;34m\u001b[0m\u001b[0;34m\u001b[0m\u001b[0m\n",
            "\u001b[0;31mAttributeError\u001b[0m: 'DataFrame' object has no attribute 'unique'"
          ]
        }
      ]
    },
    {
      "cell_type": "markdown",
      "source": [
        "## Building the model"
      ],
      "metadata": {
        "id": "Pmz542FJk83n"
      }
    },
    {
      "cell_type": "code",
      "source": [
        "fashion_1=tf.keras.Sequential()\n",
        "fashion_1.add(tf.keras.layers.Flatten())\n",
        "fashion_1.add(tf.keras.layers.Dense(300,activation='relu'))\n",
        "fashion_1.add(tf.keras.layers.Dense(10,activation='softmax'))                                      ## 28*28 = 784inputs and 10 outputs"
      ],
      "metadata": {
        "id": "ni_EEPIekwSL"
      },
      "execution_count": null,
      "outputs": []
    },
    {
      "cell_type": "markdown",
      "source": [
        "## flatten- image provided it will split into flatten layer\n",
        "no activation - linear activation\n",
        "binary i unit - sigmoid\n",
        "if we use 2 unit we can use softmax\n",
        "multi class - activation - softmax\n",
        "regression - 1unit - Default- linear"
      ],
      "metadata": {
        "id": "w5xavOrImV8c"
      }
    },
    {
      "cell_type": "code",
      "source": [],
      "metadata": {
        "id": "xDz2LmCjofQh"
      },
      "execution_count": null,
      "outputs": []
    },
    {
      "cell_type": "markdown",
      "source": [
        "## Compiling the model"
      ],
      "metadata": {
        "id": "nWLeEWaUogSe"
      }
    },
    {
      "cell_type": "code",
      "source": [
        "fashion_1.compile(loss=tf.keras.losses.SparseCategoricalCrossentropy(),    # category index of the most likely matching category\n",
        "                  optimizer=tf.keras.optimizers.Adam(),\n",
        "                  metrics=['accuracy'])"
      ],
      "metadata": {
        "id": "j09fTTNooh3h"
      },
      "execution_count": null,
      "outputs": []
    },
    {
      "cell_type": "markdown",
      "source": [
        "## Training the model"
      ],
      "metadata": {
        "id": "SY-KW2DCpEbX"
      }
    },
    {
      "cell_type": "code",
      "source": [
        "tf.random.set_seed(100)\n",
        "history=fashion_1.fit(X_train,y_train,epochs=25)\n",
        "                        #1875=60000/785"
      ],
      "metadata": {
        "colab": {
          "base_uri": "https://localhost:8080/",
          "height": 1000
        },
        "id": "UdSqg0EspBaJ",
        "outputId": "9f77b08e-34b4-4eab-deb2-52e28d831dfd"
      },
      "execution_count": null,
      "outputs": [
        {
          "output_type": "stream",
          "name": "stdout",
          "text": [
            "Epoch 1/25\n",
            "1875/1875 [==============================] - 4s 2ms/step - loss: 0.4197 - accuracy: 0.8551\n",
            "Epoch 2/25\n",
            "1875/1875 [==============================] - 4s 2ms/step - loss: 0.4247 - accuracy: 0.8540\n",
            "Epoch 3/25\n",
            "1875/1875 [==============================] - 4s 2ms/step - loss: 0.4180 - accuracy: 0.8550\n",
            "Epoch 4/25\n",
            "1875/1875 [==============================] - 4s 2ms/step - loss: 0.4105 - accuracy: 0.8561\n",
            "Epoch 5/25\n",
            "1875/1875 [==============================] - 4s 2ms/step - loss: 0.4119 - accuracy: 0.8588\n",
            "Epoch 6/25\n",
            "1875/1875 [==============================] - 4s 2ms/step - loss: 0.4171 - accuracy: 0.8553\n",
            "Epoch 7/25\n",
            "1875/1875 [==============================] - 4s 2ms/step - loss: 0.4104 - accuracy: 0.8580\n",
            "Epoch 8/25\n",
            "1875/1875 [==============================] - 4s 2ms/step - loss: 0.4175 - accuracy: 0.8557\n",
            "Epoch 9/25\n",
            "1875/1875 [==============================] - 4s 2ms/step - loss: 0.4140 - accuracy: 0.8574\n",
            "Epoch 10/25\n",
            "1875/1875 [==============================] - 4s 2ms/step - loss: 0.4222 - accuracy: 0.8587\n",
            "Epoch 11/25\n",
            "1875/1875 [==============================] - 4s 2ms/step - loss: 0.4453 - accuracy: 0.8457\n",
            "Epoch 12/25\n",
            "1875/1875 [==============================] - 4s 2ms/step - loss: 0.4235 - accuracy: 0.8541\n",
            "Epoch 13/25\n",
            "1875/1875 [==============================] - 4s 2ms/step - loss: 0.4112 - accuracy: 0.8608\n",
            "Epoch 14/25\n",
            "1875/1875 [==============================] - 4s 2ms/step - loss: 0.4013 - accuracy: 0.8604\n",
            "Epoch 15/25\n",
            "1875/1875 [==============================] - 4s 2ms/step - loss: 0.4025 - accuracy: 0.8620\n",
            "Epoch 16/25\n",
            "1875/1875 [==============================] - 4s 2ms/step - loss: 0.4048 - accuracy: 0.8598\n",
            "Epoch 17/25\n",
            "1875/1875 [==============================] - 4s 2ms/step - loss: 0.4140 - accuracy: 0.8601\n",
            "Epoch 18/25\n",
            "1875/1875 [==============================] - 4s 2ms/step - loss: 0.4106 - accuracy: 0.8621\n",
            "Epoch 19/25\n",
            "1875/1875 [==============================] - 4s 2ms/step - loss: 0.4039 - accuracy: 0.8654\n",
            "Epoch 20/25\n",
            "1875/1875 [==============================] - 4s 2ms/step - loss: 0.4312 - accuracy: 0.8514\n",
            "Epoch 21/25\n",
            "1875/1875 [==============================] - 4s 2ms/step - loss: 0.4135 - accuracy: 0.8575\n",
            "Epoch 22/25\n",
            "1875/1875 [==============================] - 4s 2ms/step - loss: 0.3938 - accuracy: 0.8633\n",
            "Epoch 23/25\n",
            "1875/1875 [==============================] - 4s 2ms/step - loss: 0.3999 - accuracy: 0.8652\n",
            "Epoch 24/25\n",
            "1875/1875 [==============================] - 4s 2ms/step - loss: 0.3987 - accuracy: 0.8641\n",
            "Epoch 25/25\n",
            "1875/1875 [==============================] - 4s 2ms/step - loss: 0.3992 - accuracy: 0.8647\n"
          ]
        },
        {
          "output_type": "error",
          "ename": "NameError",
          "evalue": "ignored",
          "traceback": [
            "\u001b[0;31m---------------------------------------------------------------------------\u001b[0m",
            "\u001b[0;31mNameError\u001b[0m                                 Traceback (most recent call last)",
            "\u001b[0;32m<ipython-input-28-839549162220>\u001b[0m in \u001b[0;36m<module>\u001b[0;34m\u001b[0m\n\u001b[1;32m      1\u001b[0m \u001b[0mtf\u001b[0m\u001b[0;34m.\u001b[0m\u001b[0mrandom\u001b[0m\u001b[0;34m.\u001b[0m\u001b[0mset_seed\u001b[0m\u001b[0;34m(\u001b[0m\u001b[0;36m100\u001b[0m\u001b[0;34m)\u001b[0m\u001b[0;34m\u001b[0m\u001b[0;34m\u001b[0m\u001b[0m\n\u001b[1;32m      2\u001b[0m \u001b[0mhistory\u001b[0m\u001b[0;34m=\u001b[0m\u001b[0mfashion_1\u001b[0m\u001b[0;34m.\u001b[0m\u001b[0mfit\u001b[0m\u001b[0;34m(\u001b[0m\u001b[0mX_train\u001b[0m\u001b[0;34m,\u001b[0m\u001b[0my_train\u001b[0m\u001b[0;34m,\u001b[0m\u001b[0mepochs\u001b[0m\u001b[0;34m=\u001b[0m\u001b[0;36m25\u001b[0m\u001b[0;34m)\u001b[0m\u001b[0;34m\u001b[0m\u001b[0;34m\u001b[0m\u001b[0m\n\u001b[0;32m----> 3\u001b[0;31m \u001b[0mpd\u001b[0m\u001b[0;34m.\u001b[0m\u001b[0mDataFrame\u001b[0m\u001b[0;34m(\u001b[0m\u001b[0mhistory_1\u001b[0m\u001b[0;34m.\u001b[0m\u001b[0mhistory\u001b[0m\u001b[0;34m)\u001b[0m\u001b[0;34m.\u001b[0m\u001b[0mplot\u001b[0m\u001b[0;34m(\u001b[0m\u001b[0;34m)\u001b[0m\u001b[0;34m;\u001b[0m                        \u001b[0;31m#1875=60000/785\u001b[0m\u001b[0;34m\u001b[0m\u001b[0;34m\u001b[0m\u001b[0m\n\u001b[0m",
            "\u001b[0;31mNameError\u001b[0m: name 'history_1' is not defined"
          ]
        }
      ]
    },
    {
      "cell_type": "code",
      "source": [
        "pd.DataFrame(history.history).plot();"
      ],
      "metadata": {
        "colab": {
          "base_uri": "https://localhost:8080/",
          "height": 265
        },
        "id": "tJH8x3h8pk5j",
        "outputId": "38ccb40a-1cf0-4a98-bf86-ab31c9f39cbf"
      },
      "execution_count": null,
      "outputs": [
        {
          "output_type": "display_data",
          "data": {
            "text/plain": [
              "<Figure size 432x288 with 1 Axes>"
            ],
            "image/png": "[encoded data removed]"
          },
          "metadata": {
            "needs_background": "light"
          }
        }
      ]
    },
    {
      "cell_type": "markdown",
      "source": [
        "## Evaluation of the  model"
      ],
      "metadata": {
        "id": "6sLGkAHerDYh"
      }
    },
    {
      "cell_type": "code",
      "source": [
        "test_loss,test_accuracy=fashion_1.evaluate(X_test,y_test)\n",
        "print('Test loss:',test_loss,'\\nTest Accuracy:',test_accuracy)"
      ],
      "metadata": {
        "colab": {
          "base_uri": "https://localhost:8080/"
        },
        "id": "eEqqwF6uqyC2",
        "outputId": "9aeaaf4c-517b-4226-a50c-c5ea35fc7299"
      },
      "execution_count": null,
      "outputs": [
        {
          "output_type": "stream",
          "name": "stdout",
          "text": [
            "313/313 [==============================] - 1s 3ms/step - loss: 0.6172 - accuracy: 0.8347\n",
            "Test loss: 0.6172389388084412 \n",
            "Test Accuracy: 0.8346999883651733\n"
          ]
        }
      ]
    },
    {
      "cell_type": "code",
      "source": [
        "it is working fine in training but not in testing ....so it is overfitting"
      ],
      "metadata": {
        "id": "aUPZmY6frkko"
      },
      "execution_count": null,
      "outputs": []
    },
    {
      "cell_type": "markdown",
      "source": [
        "## Improve the model"
      ],
      "metadata": {
        "id": "NWUb4jwospQ_"
      }
    },
    {
      "cell_type": "code",
      "source": [
        "fashion_2=tf.keras.Sequential()\n",
        "fashion_2.add(tf.keras.layers.Flatten())\n",
        "fashion_2.add(tf.keras.layers.Dense(300,activation='relu'))\n",
        "fashion_2.add(tf.keras.layers.Dense(100,activation='relu')) # added one layer\n",
        "fashion_2.add(tf.keras.layers.Dense(10,activation='softmax'))"
      ],
      "metadata": {
        "id": "jQmA-aBXsm_l"
      },
      "execution_count": null,
      "outputs": []
    },
    {
      "cell_type": "markdown",
      "source": [
        "softmax functions are multi-class sigmoids, meaning they are used in determining probability of multiple classes at once."
      ],
      "metadata": {
        "id": "dHanPMG7OgLf"
      }
    },
    {
      "cell_type": "code",
      "source": [
        "fashion_2.compile(loss=tf.keras.losses.SparseCategoricalCrossentropy(),\n",
        "                  optimizer=tf.keras.optimizers.Adam(),\n",
        "                  metrics=['accuracy'])"
      ],
      "metadata": {
        "id": "tStyDIGfs_-F"
      },
      "execution_count": null,
      "outputs": []
    },
    {
      "cell_type": "code",
      "source": [
        "tf.random.set_seed(100)\n",
        "history=fashion_2.fit(X_train,y_train,epochs=25)"
      ],
      "metadata": {
        "colab": {
          "base_uri": "https://localhost:8080/"
        },
        "id": "kECB2NpetEPf",
        "outputId": "4c6f39e5-3f73-4c00-b1ff-40497b6d4803"
      },
      "execution_count": null,
      "outputs": [
        {
          "output_type": "stream",
          "name": "stdout",
          "text": [
            "Epoch 1/25\n",
            "1875/1875 [==============================] - 5s 3ms/step - loss: 2.2530 - accuracy: 0.7698\n",
            "Epoch 2/25\n",
            "1875/1875 [==============================] - 4s 2ms/step - loss: 0.4925 - accuracy: 0.8300\n",
            "Epoch 3/25\n",
            "1875/1875 [==============================] - 4s 2ms/step - loss: 0.4449 - accuracy: 0.8418\n",
            "Epoch 4/25\n",
            "1875/1875 [==============================] - 4s 2ms/step - loss: 0.4187 - accuracy: 0.8517\n",
            "Epoch 5/25\n",
            "1875/1875 [==============================] - 4s 2ms/step - loss: 0.3995 - accuracy: 0.8584\n",
            "Epoch 6/25\n",
            "1875/1875 [==============================] - 6s 3ms/step - loss: 0.3867 - accuracy: 0.8638\n",
            "Epoch 7/25\n",
            "1875/1875 [==============================] - 4s 2ms/step - loss: 0.3741 - accuracy: 0.8682\n",
            "Epoch 8/25\n",
            "1875/1875 [==============================] - 4s 2ms/step - loss: 0.3659 - accuracy: 0.8710\n",
            "Epoch 9/25\n",
            "1875/1875 [==============================] - 4s 2ms/step - loss: 0.3561 - accuracy: 0.8743\n",
            "Epoch 10/25\n",
            "1875/1875 [==============================] - 4s 2ms/step - loss: 0.3425 - accuracy: 0.8786\n",
            "Epoch 11/25\n",
            "1875/1875 [==============================] - 4s 2ms/step - loss: 0.3445 - accuracy: 0.8779\n",
            "Epoch 12/25\n",
            "1875/1875 [==============================] - 4s 2ms/step - loss: 0.3370 - accuracy: 0.8812\n",
            "Epoch 13/25\n",
            "1875/1875 [==============================] - 4s 2ms/step - loss: 0.3331 - accuracy: 0.8808\n",
            "Epoch 14/25\n",
            "1875/1875 [==============================] - 5s 2ms/step - loss: 0.3305 - accuracy: 0.8824\n",
            "Epoch 15/25\n",
            "1875/1875 [==============================] - 4s 2ms/step - loss: 0.3232 - accuracy: 0.8845\n",
            "Epoch 16/25\n",
            "1875/1875 [==============================] - 5s 2ms/step - loss: 0.3179 - accuracy: 0.8864\n",
            "Epoch 17/25\n",
            "1875/1875 [==============================] - 4s 2ms/step - loss: 0.3204 - accuracy: 0.8873\n",
            "Epoch 18/25\n",
            "1875/1875 [==============================] - 4s 2ms/step - loss: 0.3109 - accuracy: 0.8888\n",
            "Epoch 19/25\n",
            "1875/1875 [==============================] - 4s 2ms/step - loss: 0.3158 - accuracy: 0.8885\n",
            "Epoch 20/25\n",
            "1875/1875 [==============================] - 4s 2ms/step - loss: 0.3027 - accuracy: 0.8923\n",
            "Epoch 21/25\n",
            "1875/1875 [==============================] - 5s 3ms/step - loss: 0.3017 - accuracy: 0.8925\n",
            "Epoch 22/25\n",
            "1875/1875 [==============================] - 4s 2ms/step - loss: 0.3028 - accuracy: 0.8933\n",
            "Epoch 23/25\n",
            "1875/1875 [==============================] - 4s 2ms/step - loss: 0.2983 - accuracy: 0.8944\n",
            "Epoch 24/25\n",
            "1875/1875 [==============================] - 4s 2ms/step - loss: 0.2963 - accuracy: 0.8937\n",
            "Epoch 25/25\n",
            "1875/1875 [==============================] - 4s 2ms/step - loss: 0.2932 - accuracy: 0.8971\n"
          ]
        }
      ]
    },
    {
      "cell_type": "code",
      "source": [
        "pd.DataFrame(history.history).plot();"
      ],
      "metadata": {
        "colab": {
          "base_uri": "https://localhost:8080/",
          "height": 265
        },
        "id": "33UUPj-MtIij",
        "outputId": "4ac0f4ab-1e96-4869-92b9-46019e840d69"
      },
      "execution_count": null,
      "outputs": [
        {
          "output_type": "display_data",
          "data": {
            "text/plain": [
              "<Figure size 432x288 with 1 Axes>"
            ],
            "image/png": "[encoded data removed]"
          },
          "metadata": {
            "needs_background": "light"
          }
        }
      ]
    },
    {
      "cell_type": "code",
      "source": [
        "test_loss,test_accuracy=fashion_2.evaluate(X_test,y_test)\n",
        "print('Test loss:',test_loss,'\\nTest Accuracy:',test_accuracy)"
      ],
      "metadata": {
        "colab": {
          "base_uri": "https://localhost:8080/"
        },
        "id": "MAU4SovUtsKI",
        "outputId": "bae14301-cea9-4971-9eec-544d56951272"
      },
      "execution_count": null,
      "outputs": [
        {
          "output_type": "stream",
          "name": "stdout",
          "text": [
            "313/313 [==============================] - 1s 2ms/step - loss: 0.4506 - accuracy: 0.8618\n",
            "Test loss: 0.4505595266819 \n",
            "Test Accuracy: 0.8618000149726868\n"
          ]
        }
      ]
    },
    {
      "cell_type": "markdown",
      "source": [
        "## model summary"
      ],
      "metadata": {
        "id": "PkVEBdyyuiuw"
      }
    },
    {
      "cell_type": "code",
      "source": [
        "fashion_2.summary()"
      ],
      "metadata": {
        "colab": {
          "base_uri": "https://localhost:8080/"
        },
        "id": "wcOTooMyt-aG",
        "outputId": "14c8e9bd-d988-4b37-a154-0768773c1588"
      },
      "execution_count": null,
      "outputs": [
        {
          "output_type": "stream",
          "name": "stdout",
          "text": [
            "Model: \"sequential_1\"\n",
            "_________________________________________________________________\n",
            " Layer (type)                Output Shape              Param #   \n",
            "=================================================================\n",
            " flatten_1 (Flatten)         (None, 784)               0         \n",
            "                                                                 \n",
            " dense_2 (Dense)             (None, 300)               235500    \n",
            "                                                                 \n",
            " dense_3 (Dense)             (None, 100)               30100     \n",
            "                                                                 \n",
            " dense_4 (Dense)             (None, 10)                1010      \n",
            "                                                                 \n",
            "=================================================================\n",
            "Total params: 266,610\n",
            "Trainable params: 266,610\n",
            "Non-trainable params: 0\n",
            "_________________________________________________________________\n"
          ]
        }
      ]
    },
    {
      "cell_type": "code",
      "source": [
        "784*300+bias100=235500 and so on then total params come"
      ],
      "metadata": {
        "id": "im6Pv8tkul_J"
      },
      "execution_count": null,
      "outputs": []
    },
    {
      "cell_type": "markdown",
      "source": [
        "## Plotting of the model"
      ],
      "metadata": {
        "id": "DdCc9qTLvY7Y"
      }
    },
    {
      "cell_type": "code",
      "source": [
        "from tensorflow.keras.utils import plot_model\n",
        "plot_model(fashion_2,show_shapes=True)"
      ],
      "metadata": {
        "colab": {
          "base_uri": "https://localhost:8080/",
          "height": 533
        },
        "id": "i943m5xSu2W0",
        "outputId": "ab8823ae-56e8-48bc-d5c7-22bf5f39e741"
      },
      "execution_count": null,
      "outputs": [
        {
          "output_type": "execute_result",
          "data": {
            "image/png": "[encoded data removed]",
            "text/plain": [
              "<IPython.core.display.Image object>"
            ]
          },
          "metadata": {},
          "execution_count": 40
        }
      ]
    },
    {
      "cell_type": "markdown",
      "source": [
        "## Prediction using the model"
      ],
      "metadata": {
        "id": "CxDt92KjvwLd"
      }
    },
    {
      "cell_type": "code",
      "source": [
        "y_pred=fashion_2.predict(X_test)             #10000/32=313\n",
        "y_pred"
      ],
      "metadata": {
        "colab": {
          "base_uri": "https://localhost:8080/"
        },
        "id": "tDbOQ11yvn4z",
        "outputId": "5f05cc64-7e8a-48e5-a46c-e6b5b334a49b"
      },
      "execution_count": null,
      "outputs": [
        {
          "output_type": "stream",
          "name": "stdout",
          "text": [
            "313/313 [==============================] - 1s 2ms/step\n"
          ]
        },
        {
          "output_type": "execute_result",
          "data": {
            "text/plain": [
              "array([[0.0000000e+00, 0.0000000e+00, 2.6400036e-33, ..., 2.0986332e-03,\n",
              "        1.6008830e-18, 9.9789518e-01],\n",
              "       [3.1949926e-07, 5.1899717e-11, 9.9960297e-01, ..., 0.0000000e+00,\n",
              "        2.5369146e-10, 0.0000000e+00],\n",
              "       [0.0000000e+00, 9.9999994e-01, 0.0000000e+00, ..., 0.0000000e+00,\n",
              "        0.0000000e+00, 0.0000000e+00],\n",
              "       ...,\n",
              "       [4.2010441e-15, 2.0805253e-22, 5.4748295e-22, ..., 1.2092106e-38,\n",
              "        9.9999994e-01, 0.0000000e+00],\n",
              "       [0.0000000e+00, 9.9999994e-01, 0.0000000e+00, ..., 0.0000000e+00,\n",
              "        0.0000000e+00, 0.0000000e+00],\n",
              "       [6.3020478e-10, 0.0000000e+00, 3.7743940e-11, ..., 4.3371236e-03,\n",
              "        1.1680145e-07, 7.4792589e-04]], dtype=float32)"
            ]
          },
          "metadata": {},
          "execution_count": 41
        }
      ]
    },
    {
      "cell_type": "code",
      "source": [
        "y_pred[0]"
      ],
      "metadata": {
        "colab": {
          "base_uri": "https://localhost:8080/"
        },
        "id": "GJ-EQJoEv7bN",
        "outputId": "3a003314-e97f-4cb3-ff0b-bb365b6dbf0e"
      },
      "execution_count": null,
      "outputs": [
        {
          "output_type": "execute_result",
          "data": {
            "text/plain": [
              "array([0.0000000e+00, 0.0000000e+00, 2.6400036e-33, 0.0000000e+00,\n",
              "       0.0000000e+00, 6.2328245e-06, 7.2520545e-28, 2.0986332e-03,\n",
              "       1.6008830e-18, 9.9789518e-01], dtype=float32)"
            ]
          },
          "metadata": {},
          "execution_count": 42
        }
      ]
    },
    {
      "cell_type": "code",
      "source": [
        "np.argmax(y_pred[0])              #arg max because softmax activation gives max\n",
        "                                  #  maximum value from a target function."
      ],
      "metadata": {
        "colab": {
          "base_uri": "https://localhost:8080/"
        },
        "id": "Nqx-SeN2wEq0",
        "outputId": "c1724209-8f96-4dbc-e7f6-f5dd1aed9a45"
      },
      "execution_count": null,
      "outputs": [
        {
          "output_type": "execute_result",
          "data": {
            "text/plain": [
              "9"
            ]
          },
          "metadata": {},
          "execution_count": 43
        }
      ]
    },
    {
      "cell_type": "code",
      "source": [
        "plt.imshow(X_test[0],'Greys')\n",
        "plt.title(fashion_dict[np.argmax(y_pred[0])])"
      ],
      "metadata": {
        "colab": {
          "base_uri": "https://localhost:8080/",
          "height": 298
        },
        "id": "yb2Rhw1HwPkm",
        "outputId": "719153a5-94c6-4c5d-a213-da4836a10c56"
      },
      "execution_count": null,
      "outputs": [
        {
          "output_type": "execute_result",
          "data": {
            "text/plain": [
              "Text(0.5, 1.0, 'Ankle boot')"
            ]
          },
          "metadata": {},
          "execution_count": 44
        },
        {
          "output_type": "display_data",
          "data": {
            "text/plain": [
              "<Figure size 432x288 with 1 Axes>"
            ],
            "image/png": "[encoded data removed]"
          },
          "metadata": {
            "needs_background": "light"
          }
        }
      ]
    },
    {
      "cell_type": "code",
      "source": [
        "plt.imshow(X_test[10],'Greys')\n",
        "plt.title(fashion_dict[np.argmax(y_pred[10])])"
      ],
      "metadata": {
        "colab": {
          "base_uri": "https://localhost:8080/",
          "height": 298
        },
        "id": "xhGmOL_DwfNs",
        "outputId": "df4ec2b0-5e85-41ab-a716-a5764be36e39"
      },
      "execution_count": null,
      "outputs": [
        {
          "output_type": "execute_result",
          "data": {
            "text/plain": [
              "Text(0.5, 1.0, 'Coat')"
            ]
          },
          "metadata": {},
          "execution_count": 45
        },
        {
          "output_type": "display_data",
          "data": {
            "text/plain": [
              "<Figure size 432x288 with 1 Axes>"
            ],
            "image/png": "[encoded data removed]"
          },
          "metadata": {
            "needs_background": "light"
          }
        }
      ]
    },
    {
      "cell_type": "code",
      "source": [
        "plt.imshow(X_test[5990],'Greys')\n",
        "plt.title(fashion_dict[np.argmax(y_pred[5990])])"
      ],
      "metadata": {
        "colab": {
          "base_uri": "https://localhost:8080/",
          "height": 298
        },
        "id": "krxraqs5wvDb",
        "outputId": "5149d5ae-1c56-40b8-e755-bc7c2d4765d0"
      },
      "execution_count": null,
      "outputs": [
        {
          "output_type": "execute_result",
          "data": {
            "text/plain": [
              "Text(0.5, 1.0, 'Bag')"
            ]
          },
          "metadata": {},
          "execution_count": 46
        },
        {
          "output_type": "display_data",
          "data": {
            "text/plain": [
              "<Figure size 432x288 with 1 Axes>"
            ],
            "image/png": "[encoded data removed]"
          },
          "metadata": {
            "needs_background": "light"
          }
        }
      ]
    },
    {
      "cell_type": "code",
      "source": [
        "plt.imshow(X_test[1230],'Greys')\n",
        "plt.title(fashion_dict[np.argmax(y_pred[1230])])"
      ],
      "metadata": {
        "colab": {
          "base_uri": "https://localhost:8080/",
          "height": 298
        },
        "id": "JzBEqzRpw1L4",
        "outputId": "7380780e-6860-4510-d9af-81b721a95765"
      },
      "execution_count": null,
      "outputs": [
        {
          "output_type": "execute_result",
          "data": {
            "text/plain": [
              "Text(0.5, 1.0, 'Ankle boot')"
            ]
          },
          "metadata": {},
          "execution_count": 47
        },
        {
          "output_type": "display_data",
          "data": {
            "text/plain": [
              "<Figure size 432x288 with 1 Axes>"
            ],
            "image/png": "[encoded data removed]"
          },
          "metadata": {
            "needs_background": "light"
          }
        }
      ]
    },
    {
      "cell_type": "code",
      "source": [
        "plt.imshow(X_test[4950],'Greys')\n",
        "plt.title(fashion_dict[np.argmax(y_pred[4950])])"
      ],
      "metadata": {
        "colab": {
          "base_uri": "https://localhost:8080/",
          "height": 298
        },
        "id": "sQB3Ekkgw7Bm",
        "outputId": "d8b76ef0-bfe2-4112-828c-13ab4d10a1a2"
      },
      "execution_count": null,
      "outputs": [
        {
          "output_type": "execute_result",
          "data": {
            "text/plain": [
              "Text(0.5, 1.0, 'Pullover')"
            ]
          },
          "metadata": {},
          "execution_count": 48
        },
        {
          "output_type": "display_data",
          "data": {
            "text/plain": [
              "<Figure size 432x288 with 1 Axes>"
            ],
            "image/png": "[encoded data removed]"
          },
          "metadata": {
            "needs_background": "light"
          }
        }
      ]
    },
    {
      "cell_type": "code",
      "source": [],
      "metadata": {
        "id": "YyFe236mxGuh"
      },
      "execution_count": null,
      "outputs": []
    }
  ]
}