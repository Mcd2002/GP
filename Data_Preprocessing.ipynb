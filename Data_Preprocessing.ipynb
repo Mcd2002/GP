{
  "nbformat": 4,
  "nbformat_minor": 0,
  "metadata": {
    "colab": {
      "provenance": []
    },
    "kernelspec": {
      "name": "python3",
      "display_name": "Python 3"
    },
    "language_info": {
      "name": "python"
    }
  },
  "cells": [
    {
      "cell_type": "code",
      "execution_count": 1,
      "metadata": {
        "id": "l5Dd9UVcSovx"
      },
      "outputs": [],
      "source": [
        "import pandas as pd\n",
        "import numpy as np"
      ]
    },
    {
      "cell_type": "code",
      "source": [
        "data = pd.read_csv('data.csv')"
      ],
      "metadata": {
        "id": "oMtW4kWeSv65"
      },
      "execution_count": null,
      "outputs": []
    },
    {
      "cell_type": "markdown",
      "source": [
        "## Imputing missing values"
      ],
      "metadata": {
        "id": "ViMdcLCcS1F_"
      }
    },
    {
      "cell_type": "code",
      "source": [
        "data['Col1'].dropna(axis=0, inplace=True) ## to drop rows with missing values in a particular column"
      ],
      "metadata": {
        "id": "eYOUYG1jS5jO"
      },
      "execution_count": null,
      "outputs": []
    },
    {
      "cell_type": "code",
      "source": [
        "data['Col1'].fillna(method='ffill', inplace=True)\n",
        "data['Col1'].fillna(method='bfill', inplace=True)\n",
        "data['Col1'].fillna(value=data['Col1'].mean(), inplace=True)\n",
        "data['Col1'].fillna(value=data['Col1'].median(), inplace=True)\n",
        "data['Col1'].fillna(value=data['Col1'].mode(), inplace=True)"
      ],
      "metadata": {
        "id": "pawj9_plTgog"
      },
      "execution_count": null,
      "outputs": []
    },
    {
      "cell_type": "markdown",
      "source": [
        "## Dropping "
      ],
      "metadata": {
        "id": "bXe1O5RtUlwP"
      }
    },
    {
      "cell_type": "code",
      "source": [
        "data.drop(['Col1'],axis=1,inplace= True)\n",
        "###########################################\n",
        "for col in data.columns:\n",
        "  if data.dtypes[col] == 'object':\n",
        "    if len(data[col].unique()) > 2 :\n",
        "        data.drop(col,inplace=True,axis=1) ## Drop columns with more than 2 unique categories"
      ],
      "metadata": {
        "id": "BPT_t4t4UtM8"
      },
      "execution_count": null,
      "outputs": []
    },
    {
      "cell_type": "markdown",
      "source": [
        "## Label and One Hot Encoding"
      ],
      "metadata": {
        "id": "rSFuJ9IdX5mO"
      }
    },
    {
      "cell_type": "code",
      "source": [
        "from sklearn.preprocessing import LabelEncoder\n",
        "le = LabelEncoder()\n",
        "data['Col1'] = le.fit_transform(data['Col1'])\n",
        "\n",
        "data = pd.get_dummies(data, columns = ['Col1', 'Col2'])"
      ],
      "metadata": {
        "id": "PPK2DyP1YeQT"
      },
      "execution_count": null,
      "outputs": []
    },
    {
      "cell_type": "markdown",
      "source": [
        "## Train test split"
      ],
      "metadata": {
        "id": "v2I47y3iaUlf"
      }
    },
    {
      "cell_type": "code",
      "source": [
        "x = data.drop(['Target'],axis=1)\n",
        "y = data['Target']\n",
        "from sklearn.model_selection import train_test_split\n",
        "xtrain,xtest,ytrain,ytest = train_test_split(x, y, test_size=0.2)"
      ],
      "metadata": {
        "id": "JoCUt3-4adjC"
      },
      "execution_count": null,
      "outputs": []
    }
  ]
}