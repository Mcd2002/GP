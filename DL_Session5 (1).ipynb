{
  "nbformat": 4,
  "nbformat_minor": 0,
  "metadata": {
    "colab": {
      "provenance": []
    },
    "kernelspec": {
      "name": "python3",
      "display_name": "Python 3"
    },
    "language_info": {
      "name": "python"
    }
  },
  "cells": [
    {
      "cell_type": "markdown",
      "source": [
        "## Hyper parameter tuning and regularisation"
      ],
      "metadata": {
        "id": "CbdUS0k8P_3P"
      }
    },
    {
      "cell_type": "markdown",
      "source": [
        "## Hyper parameters- creates a model and training performance will be influence by that\n",
        "\n",
        ". No of layers\n",
        "\n",
        ". No of units\n",
        "\n",
        ". Activation function\n",
        "\n",
        ". Loss function - how model is good compare target and predicted\n",
        "\n",
        ". Optimizer\n",
        "\n",
        ". Drop out rate\n",
        "\n",
        ". Learning Rate  - step size at each iteration changes while moving towards min of loss function\n",
        "\n",
        ". No of epochs\n",
        "\n",
        ". etc........"
      ],
      "metadata": {
        "id": "49iN-q_jQ2s9"
      }
    },
    {
      "cell_type": "markdown",
      "source": [
        "### No of layers\n",
        "\n",
        ". output layer\n",
        "\n",
        ". Regression - only one\n",
        "\n",
        "Input layer: one\n",
        "\n",
        "Hidden layer - at least one , depends upon the problem"
      ],
      "metadata": {
        "id": "CIsJRizHRemX"
      }
    },
    {
      "cell_type": "markdown",
      "source": [
        "## No of units\n",
        ". Output layer\n",
        "\n",
        ".Regression : One\n",
        "\n",
        ". Binary classification: One/Two upon the activation function used\n",
        "\n",
        ". Multi class classification - That many no of classes\n",
        "\n",
        ". Input layer\n",
        "\n",
        "Depends upon the no of values or features in the data point\n",
        "\n",
        ".Hidden layer\n",
        "\n",
        "Depends upon the problem , generally between 10 and 100"
      ],
      "metadata": {
        "id": "AcxTLYXiR5Rh"
      }
    },
    {
      "cell_type": "markdown",
      "source": [
        "## Activation function\n",
        "\n",
        ". output layer\n",
        "\n",
        ". Regression: Default - Linear function\n",
        "\n",
        ". Binary classification : sigmoid ( if the class levels are 0 and 1 )\n",
        "                           Tanh ( if the class labels are -1 and 1)\n",
        "\n",
        ". Multi class classification - Activation- 'softmax'\n",
        "\n",
        ". Hidden layers\n",
        "\n",
        ". relu , usually\n",
        "\n",
        "\n"
      ],
      "metadata": {
        "id": "-l5vqv20SwZ3"
      }
    },
    {
      "cell_type": "markdown",
      "source": [
        "### Loss function\n",
        "\n",
        ". Regression : MAE,MSE\n",
        "\n",
        ". Binary classification - BinaryCross entropy\n",
        "\n",
        ". Multi class classification - CategoricalCrossentropy/ SParse categorical crossentropy\n",
        "\n",
        "."
      ],
      "metadata": {
        "id": "CXNHv3-vTpAo"
      }
    },
    {
      "cell_type": "markdown",
      "source": [
        "## Optimizer\n",
        "\n",
        ". Usually , Adam"
      ],
      "metadata": {
        "id": "OKRuccohUMmH"
      }
    },
    {
      "cell_type": "markdown",
      "source": [
        "## Regularisation\n",
        "\n"
      ],
      "metadata": {
        "id": "U7h5ovonU-9j"
      }
    },
    {
      "cell_type": "code",
      "execution_count": null,
      "metadata": {
        "id": "ldKN-_B9E4y0"
      },
      "outputs": [],
      "source": [
        "import numpy as np\n",
        "import pandas as pd\n",
        "import matplotlib.pyplot as plt\n",
        "import tensorflow as tf"
      ]
    },
    {
      "cell_type": "markdown",
      "source": [
        "## Accessing the dataset"
      ],
      "metadata": {
        "id": "6u5jhkwbVvb2"
      }
    },
    {
      "cell_type": "code",
      "source": [
        "from tensorflow.keras.datasets import mnist"
      ],
      "metadata": {
        "id": "At16DbZLVsiX"
      },
      "execution_count": null,
      "outputs": []
    },
    {
      "cell_type": "code",
      "source": [
        "(X_train,y_train),(X_test,y_test)=mnist.load_data()"
      ],
      "metadata": {
        "id": "D6vkCkFLV58X"
      },
      "execution_count": null,
      "outputs": []
    },
    {
      "cell_type": "code",
      "source": [
        "X_train.shape,y_train.shape,X_test.shape,y_test.shape"
      ],
      "metadata": {
        "colab": {
          "base_uri": "https://localhost:8080/"
        },
        "id": "vOlywAAVWBCM",
        "outputId": "b905e208-f85f-4707-933f-ea5f795bb6a5"
      },
      "execution_count": null,
      "outputs": [
        {
          "output_type": "execute_result",
          "data": {
            "text/plain": [
              "((60000, 28, 28), (60000,), (10000, 28, 28), (10000,))"
            ]
          },
          "metadata": {},
          "execution_count": 6
        }
      ]
    },
    {
      "cell_type": "code",
      "source": [
        "X_train[0]"
      ],
      "metadata": {
        "colab": {
          "base_uri": "https://localhost:8080/"
        },
        "id": "MBSsy7B9WO_p",
        "outputId": "fccfc353-5267-435c-d940-8d6fad0d398d"
      },
      "execution_count": null,
      "outputs": [
        {
          "output_type": "execute_result",
          "data": {
            "text/plain": [
              "array([[  0,   0,   0,   0,   0,   0,   0,   0,   0,   0,   0,   0,   0,\n",
              "          0,   0,   0,   0,   0,   0,   0,   0,   0,   0,   0,   0,   0,\n",
              "          0,   0],\n",
              "       [  0,   0,   0,   0,   0,   0,   0,   0,   0,   0,   0,   0,   0,\n",
              "          0,   0,   0,   0,   0,   0,   0,   0,   0,   0,   0,   0,   0,\n",
              "          0,   0],\n",
              "       [  0,   0,   0,   0,   0,   0,   0,   0,   0,   0,   0,   0,   0,\n",
              "          0,   0,   0,   0,   0,   0,   0,   0,   0,   0,   0,   0,   0,\n",
              "          0,   0],\n",
              "       [  0,   0,   0,   0,   0,   0,   0,   0,   0,   0,   0,   0,   0,\n",
              "          0,   0,   0,   0,   0,   0,   0,   0,   0,   0,   0,   0,   0,\n",
              "          0,   0],\n",
              "       [  0,   0,   0,   0,   0,   0,   0,   0,   0,   0,   0,   0,   0,\n",
              "          0,   0,   0,   0,   0,   0,   0,   0,   0,   0,   0,   0,   0,\n",
              "          0,   0],\n",
              "       [  0,   0,   0,   0,   0,   0,   0,   0,   0,   0,   0,   0,   3,\n",
              "         18,  18,  18, 126, 136, 175,  26, 166, 255, 247, 127,   0,   0,\n",
              "          0,   0],\n",
              "       [  0,   0,   0,   0,   0,   0,   0,   0,  30,  36,  94, 154, 170,\n",
              "        253, 253, 253, 253, 253, 225, 172, 253, 242, 195,  64,   0,   0,\n",
              "          0,   0],\n",
              "       [  0,   0,   0,   0,   0,   0,   0,  49, 238, 253, 253, 253, 253,\n",
              "        253, 253, 253, 253, 251,  93,  82,  82,  56,  39,   0,   0,   0,\n",
              "          0,   0],\n",
              "       [  0,   0,   0,   0,   0,   0,   0,  18, 219, 253, 253, 253, 253,\n",
              "        253, 198, 182, 247, 241,   0,   0,   0,   0,   0,   0,   0,   0,\n",
              "          0,   0],\n",
              "       [  0,   0,   0,   0,   0,   0,   0,   0,  80, 156, 107, 253, 253,\n",
              "        205,  11,   0,  43, 154,   0,   0,   0,   0,   0,   0,   0,   0,\n",
              "          0,   0],\n",
              "       [  0,   0,   0,   0,   0,   0,   0,   0,   0,  14,   1, 154, 253,\n",
              "         90,   0,   0,   0,   0,   0,   0,   0,   0,   0,   0,   0,   0,\n",
              "          0,   0],\n",
              "       [  0,   0,   0,   0,   0,   0,   0,   0,   0,   0,   0, 139, 253,\n",
              "        190,   2,   0,   0,   0,   0,   0,   0,   0,   0,   0,   0,   0,\n",
              "          0,   0],\n",
              "       [  0,   0,   0,   0,   0,   0,   0,   0,   0,   0,   0,  11, 190,\n",
              "        253,  70,   0,   0,   0,   0,   0,   0,   0,   0,   0,   0,   0,\n",
              "          0,   0],\n",
              "       [  0,   0,   0,   0,   0,   0,   0,   0,   0,   0,   0,   0,  35,\n",
              "        241, 225, 160, 108,   1,   0,   0,   0,   0,   0,   0,   0,   0,\n",
              "          0,   0],\n",
              "       [  0,   0,   0,   0,   0,   0,   0,   0,   0,   0,   0,   0,   0,\n",
              "         81, 240, 253, 253, 119,  25,   0,   0,   0,   0,   0,   0,   0,\n",
              "          0,   0],\n",
              "       [  0,   0,   0,   0,   0,   0,   0,   0,   0,   0,   0,   0,   0,\n",
              "          0,  45, 186, 253, 253, 150,  27,   0,   0,   0,   0,   0,   0,\n",
              "          0,   0],\n",
              "       [  0,   0,   0,   0,   0,   0,   0,   0,   0,   0,   0,   0,   0,\n",
              "          0,   0,  16,  93, 252, 253, 187,   0,   0,   0,   0,   0,   0,\n",
              "          0,   0],\n",
              "       [  0,   0,   0,   0,   0,   0,   0,   0,   0,   0,   0,   0,   0,\n",
              "          0,   0,   0,   0, 249, 253, 249,  64,   0,   0,   0,   0,   0,\n",
              "          0,   0],\n",
              "       [  0,   0,   0,   0,   0,   0,   0,   0,   0,   0,   0,   0,   0,\n",
              "          0,  46, 130, 183, 253, 253, 207,   2,   0,   0,   0,   0,   0,\n",
              "          0,   0],\n",
              "       [  0,   0,   0,   0,   0,   0,   0,   0,   0,   0,   0,   0,  39,\n",
              "        148, 229, 253, 253, 253, 250, 182,   0,   0,   0,   0,   0,   0,\n",
              "          0,   0],\n",
              "       [  0,   0,   0,   0,   0,   0,   0,   0,   0,   0,  24, 114, 221,\n",
              "        253, 253, 253, 253, 201,  78,   0,   0,   0,   0,   0,   0,   0,\n",
              "          0,   0],\n",
              "       [  0,   0,   0,   0,   0,   0,   0,   0,  23,  66, 213, 253, 253,\n",
              "        253, 253, 198,  81,   2,   0,   0,   0,   0,   0,   0,   0,   0,\n",
              "          0,   0],\n",
              "       [  0,   0,   0,   0,   0,   0,  18, 171, 219, 253, 253, 253, 253,\n",
              "        195,  80,   9,   0,   0,   0,   0,   0,   0,   0,   0,   0,   0,\n",
              "          0,   0],\n",
              "       [  0,   0,   0,   0,  55, 172, 226, 253, 253, 253, 253, 244, 133,\n",
              "         11,   0,   0,   0,   0,   0,   0,   0,   0,   0,   0,   0,   0,\n",
              "          0,   0],\n",
              "       [  0,   0,   0,   0, 136, 253, 253, 253, 212, 135, 132,  16,   0,\n",
              "          0,   0,   0,   0,   0,   0,   0,   0,   0,   0,   0,   0,   0,\n",
              "          0,   0],\n",
              "       [  0,   0,   0,   0,   0,   0,   0,   0,   0,   0,   0,   0,   0,\n",
              "          0,   0,   0,   0,   0,   0,   0,   0,   0,   0,   0,   0,   0,\n",
              "          0,   0],\n",
              "       [  0,   0,   0,   0,   0,   0,   0,   0,   0,   0,   0,   0,   0,\n",
              "          0,   0,   0,   0,   0,   0,   0,   0,   0,   0,   0,   0,   0,\n",
              "          0,   0],\n",
              "       [  0,   0,   0,   0,   0,   0,   0,   0,   0,   0,   0,   0,   0,\n",
              "          0,   0,   0,   0,   0,   0,   0,   0,   0,   0,   0,   0,   0,\n",
              "          0,   0]], dtype=uint8)"
            ]
          },
          "metadata": {},
          "execution_count": 7
        }
      ]
    },
    {
      "cell_type": "markdown",
      "source": [
        "## Visualisation"
      ],
      "metadata": {
        "id": "MhWn9WarWcXr"
      }
    },
    {
      "cell_type": "code",
      "source": [
        "plt.imshow(X_train[0],'gray')\n",
        "plt.title(y_train[0])"
      ],
      "metadata": {
        "colab": {
          "base_uri": "https://localhost:8080/",
          "height": 298
        },
        "id": "5SYXdVcIWRj6",
        "outputId": "13353f86-4392-45a6-999a-2bbea6ff3215"
      },
      "execution_count": null,
      "outputs": [
        {
          "output_type": "execute_result",
          "data": {
            "text/plain": [
              "Text(0.5, 1.0, '5')"
            ]
          },
          "metadata": {},
          "execution_count": 9
        },
        {
          "output_type": "display_data",
          "data": {
            "text/plain": [
              "<Figure size 432x288 with 1 Axes>"
            ],
            "image/png": "[encoded data removed]"
          },
          "metadata": {
            "needs_background": "light"
          }
        }
      ]
    },
    {
      "cell_type": "code",
      "source": [
        "plt.imshow(X_train[10],'gray')\n",
        "plt.title(y_train[10])"
      ],
      "metadata": {
        "colab": {
          "base_uri": "https://localhost:8080/",
          "height": 298
        },
        "id": "W8jNdK6SWnZh",
        "outputId": "9e768709-7228-4958-c507-7a0195915a86"
      },
      "execution_count": null,
      "outputs": [
        {
          "output_type": "execute_result",
          "data": {
            "text/plain": [
              "Text(0.5, 1.0, '3')"
            ]
          },
          "metadata": {},
          "execution_count": 10
        },
        {
          "output_type": "display_data",
          "data": {
            "text/plain": [
              "<Figure size 432x288 with 1 Axes>"
            ],
            "image/png": "[encoded data removed]"
          },
          "metadata": {
            "needs_background": "light"
          }
        }
      ]
    },
    {
      "cell_type": "code",
      "source": [
        "plt.imshow(X_train[5000],'gray')\n",
        "plt.title(y_train[5000])"
      ],
      "metadata": {
        "colab": {
          "base_uri": "https://localhost:8080/",
          "height": 298
        },
        "id": "KM_nIq3iWz7Z",
        "outputId": "f4c11ce7-23f0-455e-a3bf-d36d2635486e"
      },
      "execution_count": null,
      "outputs": [
        {
          "output_type": "execute_result",
          "data": {
            "text/plain": [
              "Text(0.5, 1.0, '7')"
            ]
          },
          "metadata": {},
          "execution_count": 11
        },
        {
          "output_type": "display_data",
          "data": {
            "text/plain": [
              "<Figure size 432x288 with 1 Axes>"
            ],
            "image/png": "[encoded data removed]"
          },
          "metadata": {
            "needs_background": "light"
          }
        }
      ]
    },
    {
      "cell_type": "code",
      "source": [
        "plt.imshow(X_train[49999],'gray')\n",
        "plt.title(y_train[49999])"
      ],
      "metadata": {
        "colab": {
          "base_uri": "https://localhost:8080/",
          "height": 298
        },
        "id": "fh2DFbCCW3dW",
        "outputId": "7e18f668-298e-425e-edfc-8ff29d9fc546"
      },
      "execution_count": null,
      "outputs": [
        {
          "output_type": "execute_result",
          "data": {
            "text/plain": [
              "Text(0.5, 1.0, '8')"
            ]
          },
          "metadata": {},
          "execution_count": 12
        },
        {
          "output_type": "display_data",
          "data": {
            "text/plain": [
              "<Figure size 432x288 with 1 Axes>"
            ],
            "image/png": "[encoded data removed]"
          },
          "metadata": {
            "needs_background": "light"
          }
        }
      ]
    },
    {
      "cell_type": "code",
      "source": [
        "pd.DataFrame(y_train).value_counts()"
      ],
      "metadata": {
        "colab": {
          "base_uri": "https://localhost:8080/"
        },
        "id": "FYpNTmUMW-kR",
        "outputId": "faab0199-97b2-4ae1-8256-dd7185d4e0bc"
      },
      "execution_count": null,
      "outputs": [
        {
          "output_type": "execute_result",
          "data": {
            "text/plain": [
              "1    6742\n",
              "7    6265\n",
              "3    6131\n",
              "2    5958\n",
              "9    5949\n",
              "0    5923\n",
              "6    5918\n",
              "8    5851\n",
              "4    5842\n",
              "5    5421\n",
              "dtype: int64"
            ]
          },
          "metadata": {},
          "execution_count": 13
        }
      ]
    },
    {
      "cell_type": "markdown",
      "source": [
        "## Building a Basic Model"
      ],
      "metadata": {
        "id": "U7RmTpNXXi96"
      }
    },
    {
      "cell_type": "code",
      "source": [
        "model_1=tf.keras.Sequential()\n",
        "model_1.add(tf.keras.layers.Flatten())\n",
        "model_1.add(tf.keras.layers.Dense(300,activation='relu'))\n",
        "model_1.add(tf.keras.layers.Dense(10,activation='softmax'))"
      ],
      "metadata": {
        "id": "G7JVrnafXQFh"
      },
      "execution_count": null,
      "outputs": []
    },
    {
      "cell_type": "markdown",
      "source": [],
      "metadata": {
        "id": "Q_mXeEsDYt-R"
      }
    },
    {
      "cell_type": "code",
      "source": [],
      "metadata": {
        "id": "yVk0U1gzYsZ0"
      },
      "execution_count": null,
      "outputs": []
    },
    {
      "cell_type": "code",
      "source": [
        "##compiling\n",
        "\n",
        "model_1.compile(loss=tf.keras.losses.SparseCategoricalCrossentropy(),\n",
        "                optimizer=tf.keras.optimizers.Adam(),\n",
        "                metrics=['accuracy'])"
      ],
      "metadata": {
        "id": "vyQR6r6MY0tP"
      },
      "execution_count": null,
      "outputs": []
    },
    {
      "cell_type": "code",
      "source": [
        "## Training\n",
        "\n",
        "tf.random.set_seed(100)\n",
        "hist_1=model_1.fit(X_train,y_train,epochs=10)\n",
        "pd.DataFrame(hist_1.history).plot();"
      ],
      "metadata": {
        "colab": {
          "base_uri": "https://localhost:8080/",
          "height": 614
        },
        "id": "YtFAanXnZKlD",
        "outputId": "52bc877d-d2a1-462f-adc1-32b5a7a6f27e"
      },
      "execution_count": null,
      "outputs": [
        {
          "metadata": {
            "tags": null
          },
          "name": "stdout",
          "output_type": "stream",
          "text": [
            "Epoch 1/10\n",
            "1875/1875 [==============================] - 7s 4ms/step - loss: 0.1739 - accuracy: 0.9628\n",
            "Epoch 2/10\n",
            "1875/1875 [==============================] - 9s 5ms/step - loss: 0.1721 - accuracy: 0.9623\n",
            "Epoch 3/10\n",
            "1875/1875 [==============================] - 9s 5ms/step - loss: 0.1773 - accuracy: 0.9629\n",
            "Epoch 4/10\n",
            "1875/1875 [==============================] - 12s 7ms/step - loss: 0.1628 - accuracy: 0.9645\n",
            "Epoch 5/10\n",
            "1875/1875 [==============================] - 8s 4ms/step - loss: 0.1526 - accuracy: 0.9663\n",
            "Epoch 6/10\n",
            "1875/1875 [==============================] - 9s 5ms/step - loss: 0.1672 - accuracy: 0.9664\n",
            "Epoch 7/10\n",
            "1875/1875 [==============================] - 9s 5ms/step - loss: 0.1528 - accuracy: 0.9686\n",
            "Epoch 8/10\n",
            "1875/1875 [==============================] - 9s 5ms/step - loss: 0.1527 - accuracy: 0.9681\n",
            "Epoch 9/10\n",
            "1875/1875 [==============================] - 8s 4ms/step - loss: 0.1593 - accuracy: 0.9689\n",
            "Epoch 10/10\n",
            "1875/1875 [==============================] - 6s 3ms/step - loss: 0.1358 - accuracy: 0.9692\n"
          ]
        },
        {
          "output_type": "display_data",
          "data": {
            "text/plain": [
              "<Figure size 432x288 with 1 Axes>"
            ],
            "image/png": "[encoded data removed]"
          },
          "metadata": {
            "needs_background": "light"
          }
        }
      ]
    },
    {
      "cell_type": "code",
      "source": [
        "## Evaluation of test data\n",
        "\n",
        "model_1.evaluate(X_test,y_test)"
      ],
      "metadata": {
        "colab": {
          "base_uri": "https://localhost:8080/"
        },
        "id": "i24dOsrSZrpC",
        "outputId": "92979961-0ea1-442c-c327-1aba0b6e3c08"
      },
      "execution_count": null,
      "outputs": [
        {
          "output_type": "stream",
          "name": "stdout",
          "text": [
            "313/313 [==============================] - 1s 2ms/step - loss: 0.4728 - accuracy: 0.9479\n"
          ]
        },
        {
          "output_type": "execute_result",
          "data": {
            "text/plain": [
              "[0.47277480363845825, 0.9478999972343445]"
            ]
          },
          "metadata": {},
          "execution_count": 20
        }
      ]
    },
    {
      "cell_type": "code",
      "source": [
        "## Comments\n",
        "\n",
        "1. Basic model : training loss=0.1852 , test loss = 0.3103  ( there is an overfitting)"
      ],
      "metadata": {
        "id": "ehtcnm-AaMZI"
      },
      "execution_count": null,
      "outputs": []
    },
    {
      "cell_type": "markdown",
      "source": [
        "## model with normalized data"
      ],
      "metadata": {
        "id": "xftk3MauatLl"
      }
    },
    {
      "cell_type": "code",
      "source": [
        "## Normalization\n",
        "\n",
        "normalizer=tf.keras.layers.Normalization()\n",
        "normalizer.adapt(X_train)\n",
        "normalizer.adapt(X_test)\n",
        "\n",
        "X_train=normalizer(X_train)\n",
        "X_test=normalizer(X_test)"
      ],
      "metadata": {
        "id": "nf9sJTYEasVG"
      },
      "execution_count": null,
      "outputs": []
    },
    {
      "cell_type": "code",
      "source": [
        "X_train[0]"
      ],
      "metadata": {
        "colab": {
          "base_uri": "https://localhost:8080/"
        },
        "id": "BARpW5WFcEdu",
        "outputId": "c3652176-7c52-4f6b-df5b-265af7f7630b"
      },
      "execution_count": null,
      "outputs": [
        {
          "output_type": "execute_result",
          "data": {
            "text/plain": [
              "<tf.Tensor: shape=(28, 28), dtype=float32, numpy=\n",
              "array([[-3.29633080e-03, -1.03209605e-02, -2.63224952e-02,\n",
              "        -5.94727769e-02, -1.16537198e-01, -1.97390229e-01,\n",
              "        -2.83805698e-01, -3.79412591e-01, -4.77584034e-01,\n",
              "        -5.62326729e-01, -6.23078227e-01, -6.59251928e-01,\n",
              "        -6.87425375e-01, -7.26367414e-01, -7.58370578e-01,\n",
              "        -7.74074256e-01, -7.61724949e-01, -7.22140551e-01,\n",
              "        -6.51364148e-01, -5.54406047e-01, -4.51524764e-01,\n",
              "        -3.54017019e-01, -2.68543184e-01, -1.91750199e-01,\n",
              "        -1.24660455e-01, -6.43352345e-02, -2.87100654e-02,\n",
              "        -8.99783615e-03],\n",
              "       [-3.29633080e-03, -1.03209605e-02, -2.63224952e-02,\n",
              "        -5.94727769e-02, -1.16537198e-01, -1.97390229e-01,\n",
              "        -2.83805698e-01, -3.79412591e-01, -4.77584034e-01,\n",
              "        -5.62326729e-01, -6.23078227e-01, -6.59251928e-01,\n",
              "        -6.87425375e-01, -7.26367414e-01, -7.58370578e-01,\n",
              "        -7.74074256e-01, -7.61724949e-01, -7.22140551e-01,\n",
              "        -6.51364148e-01, -5.54406047e-01, -4.51524764e-01,\n",
              "        -3.54017019e-01, -2.68543184e-01, -1.91750199e-01,\n",
              "        -1.24660455e-01, -6.43352345e-02, -2.87100654e-02,\n",
              "        -8.99783615e-03],\n",
              "       [-3.29633080e-03, -1.03209605e-02, -2.63224952e-02,\n",
              "        -5.94727769e-02, -1.16537198e-01, -1.97390229e-01,\n",
              "        -2.83805698e-01, -3.79412591e-01, -4.77584034e-01,\n",
              "        -5.62326729e-01, -6.23078227e-01, -6.59251928e-01,\n",
              "        -6.87425375e-01, -7.26367414e-01, -7.58370578e-01,\n",
              "        -7.74074256e-01, -7.61724949e-01, -7.22140551e-01,\n",
              "        -6.51364148e-01, -5.54406047e-01, -4.51524764e-01,\n",
              "        -3.54017019e-01, -2.68543184e-01, -1.91750199e-01,\n",
              "        -1.24660455e-01, -6.43352345e-02, -2.87100654e-02,\n",
              "        -8.99783615e-03],\n",
              "       [-3.29633080e-03, -1.03209605e-02, -2.63224952e-02,\n",
              "        -5.94727769e-02, -1.16537198e-01, -1.97390229e-01,\n",
              "        -2.83805698e-01, -3.79412591e-01, -4.77584034e-01,\n",
              "        -5.62326729e-01, -6.23078227e-01, -6.59251928e-01,\n",
              "        -6.87425375e-01, -7.26367414e-01, -7.58370578e-01,\n",
              "        -7.74074256e-01, -7.61724949e-01, -7.22140551e-01,\n",
              "        -6.51364148e-01, -5.54406047e-01, -4.51524764e-01,\n",
              "        -3.54017019e-01, -2.68543184e-01, -1.91750199e-01,\n",
              "        -1.24660455e-01, -6.43352345e-02, -2.87100654e-02,\n",
              "        -8.99783615e-03],\n",
              "       [-3.29633080e-03, -1.03209605e-02, -2.63224952e-02,\n",
              "        -5.94727769e-02, -1.16537198e-01, -1.97390229e-01,\n",
              "        -2.83805698e-01, -3.79412591e-01, -4.77584034e-01,\n",
              "        -5.62326729e-01, -6.23078227e-01, -6.59251928e-01,\n",
              "        -6.87425375e-01, -7.26367414e-01, -7.58370578e-01,\n",
              "        -7.74074256e-01, -7.61724949e-01, -7.22140551e-01,\n",
              "        -6.51364148e-01, -5.54406047e-01, -4.51524764e-01,\n",
              "        -3.54017019e-01, -2.68543184e-01, -1.91750199e-01,\n",
              "        -1.24660455e-01, -6.43352345e-02, -2.87100654e-02,\n",
              "        -8.99783615e-03],\n",
              "       [-3.29633080e-03, -1.03209605e-02, -2.63224952e-02,\n",
              "        -5.94727769e-02, -1.16537198e-01, -1.97390229e-01,\n",
              "        -2.83805698e-01, -3.79412591e-01, -4.77584034e-01,\n",
              "        -5.62326729e-01, -6.23078227e-01, -6.59251928e-01,\n",
              "        -6.58221424e-01, -5.55382252e-01, -5.91231704e-01,\n",
              "        -6.07143462e-01,  4.16704774e-01,  5.67344427e-01,\n",
              "         1.08593071e+00, -2.72850573e-01,  1.60844707e+00,\n",
              "         3.47916603e+00,  4.47211742e+00,  3.19816446e+00,\n",
              "        -1.24660455e-01, -6.43352345e-02, -2.87100654e-02,\n",
              "        -8.99783615e-03],\n",
              "       [-3.29633080e-03, -1.03209605e-02, -2.63224952e-02,\n",
              "        -5.94727769e-02, -1.16537198e-01, -1.97390229e-01,\n",
              "        -2.83805698e-01, -3.79412591e-01, -1.21771954e-01,\n",
              "        -1.78291753e-01,  3.27180088e-01,  8.63192856e-01,\n",
              "         9.67465341e-01,  1.67692387e+00,  1.59085870e+00,\n",
              "         1.57223129e+00,  1.60448718e+00,  1.67668068e+00,\n",
              "         1.58230078e+00,  1.30819166e+00,  2.68807101e+00,\n",
              "         3.28374887e+00,  3.47408342e+00,  1.51655328e+00,\n",
              "        -1.24660455e-01, -6.43352345e-02, -2.87100654e-02,\n",
              "        -8.99783615e-03],\n",
              "       [-3.29633080e-03, -1.03209605e-02, -2.63224952e-02,\n",
              "        -5.94727769e-02, -1.16537198e-01, -1.97390229e-01,\n",
              "        -2.83805698e-01,  3.13044101e-01,  2.34519172e+00,\n",
              "         2.13658571e+00,  1.93453193e+00,  1.84190750e+00,\n",
              "         1.77544141e+00,  1.67692387e+00,  1.59085870e+00,\n",
              "         1.57223129e+00,  1.60448718e+00,  1.65771770e+00,\n",
              "         2.71883965e-01,  3.33576560e-01,  5.66051722e-01,\n",
              "         4.87780064e-01,  4.79982167e-01, -1.91750199e-01,\n",
              "        -1.24660455e-01, -6.43352345e-02, -2.87100654e-02,\n",
              "        -8.99783615e-03],\n",
              "       [-3.29633080e-03, -1.03209605e-02, -2.63224952e-02,\n",
              "        -5.94727769e-02, -1.16537198e-01, -1.97390229e-01,\n",
              "        -2.83805698e-01, -1.25040740e-01,  2.11984396e+00,\n",
              "         2.13658571e+00,  1.93453193e+00,  1.84190750e+00,\n",
              "         1.77544141e+00,  1.67692387e+00,  1.08015668e+00,\n",
              "         9.13781881e-01,  1.54837143e+00,  1.56290257e+00,\n",
              "        -6.51364148e-01, -5.54406047e-01, -4.51524764e-01,\n",
              "        -3.54017019e-01, -2.68543184e-01, -1.91750199e-01,\n",
              "        -1.24660455e-01, -6.43352345e-02, -2.87100654e-02,\n",
              "        -8.99783615e-03],\n",
              "       [-3.29633080e-03, -1.03209605e-02, -2.63224952e-02,\n",
              "        -5.94727769e-02, -1.16537198e-01, -1.97390229e-01,\n",
              "        -2.83805698e-01, -3.79412591e-01,  4.71248180e-01,\n",
              "         1.10182476e+00,  4.58598763e-01,  1.84190750e+00,\n",
              "         1.77544141e+00,  1.22096348e+00, -6.56230152e-01,\n",
              "        -7.74074256e-01, -3.59562427e-01,  7.38011539e-01,\n",
              "        -6.51364148e-01, -5.54406047e-01, -4.51524764e-01,\n",
              "        -3.54017019e-01, -2.68543184e-01, -1.91750199e-01,\n",
              "        -1.24660455e-01, -6.43352345e-02, -2.87100654e-02,\n",
              "        -8.99783615e-03],\n",
              "       [-3.29633080e-03, -1.03209605e-02, -2.63224952e-02,\n",
              "        -5.94727769e-02, -1.16537198e-01, -1.97390229e-01,\n",
              "        -2.83805698e-01, -3.79412591e-01, -4.77584034e-01,\n",
              "        -4.12979782e-01, -6.12969100e-01,  8.63192856e-01,\n",
              "         1.77544141e+00,  1.28558323e-01, -7.58370578e-01,\n",
              "        -7.74074256e-01, -7.61724949e-01, -7.22140551e-01,\n",
              "        -6.51364148e-01, -5.54406047e-01, -4.51524764e-01,\n",
              "        -3.54017019e-01, -2.68543184e-01, -1.91750199e-01,\n",
              "        -1.24660455e-01, -6.43352345e-02, -2.87100654e-02,\n",
              "        -8.99783615e-03],\n",
              "       [-3.29633080e-03, -1.03209605e-02, -2.63224952e-02,\n",
              "        -5.94727769e-02, -1.16537198e-01, -1.97390229e-01,\n",
              "        -2.83805698e-01, -3.79412591e-01, -4.77584034e-01,\n",
              "        -5.62326729e-01, -6.23078227e-01,  7.14902818e-01,\n",
              "         1.77544141e+00,  1.07847583e+00, -7.39799619e-01,\n",
              "        -7.74074256e-01, -7.61724949e-01, -7.22140551e-01,\n",
              "        -6.51364148e-01, -5.54406047e-01, -4.51524764e-01,\n",
              "        -3.54017019e-01, -2.68543184e-01, -1.91750199e-01,\n",
              "        -1.24660455e-01, -6.43352345e-02, -2.87100654e-02,\n",
              "        -8.99783615e-03],\n",
              "       [-3.29633080e-03, -1.03209605e-02, -2.63224952e-02,\n",
              "        -5.94727769e-02, -1.16537198e-01, -1.97390229e-01,\n",
              "        -2.83805698e-01, -3.79412591e-01, -4.77584034e-01,\n",
              "        -5.62326729e-01, -6.23078227e-01, -5.50505877e-01,\n",
              "         1.16215837e+00,  1.67692387e+00, -1.08386181e-01,\n",
              "        -7.74074256e-01, -7.61724949e-01, -7.22140551e-01,\n",
              "        -6.51364148e-01, -5.54406047e-01, -4.51524764e-01,\n",
              "        -3.54017019e-01, -2.68543184e-01, -1.91750199e-01,\n",
              "        -1.24660455e-01, -6.43352345e-02, -2.87100654e-02,\n",
              "        -8.99783615e-03],\n",
              "       [-3.29633080e-03, -1.03209605e-02, -2.63224952e-02,\n",
              "        -5.94727769e-02, -1.16537198e-01, -1.97390229e-01,\n",
              "        -2.83805698e-01, -3.79412591e-01, -4.77584034e-01,\n",
              "        -5.62326729e-01, -6.23078227e-01, -6.59251928e-01,\n",
              "        -3.46712589e-01,  1.56293368e+00,  1.33086503e+00,\n",
              "         7.09755301e-01,  2.48357683e-01, -7.12659001e-01,\n",
              "        -6.51364148e-01, -5.54406047e-01, -4.51524764e-01,\n",
              "        -3.54017019e-01, -2.68543184e-01, -1.91750199e-01,\n",
              "        -1.24660455e-01, -6.43352345e-02, -2.87100654e-02,\n",
              "        -8.99783615e-03],\n",
              "       [-3.29633080e-03, -1.03209605e-02, -2.63224952e-02,\n",
              "        -5.94727769e-02, -1.16537198e-01, -1.97390229e-01,\n",
              "        -2.83805698e-01, -3.79412591e-01, -4.77584034e-01,\n",
              "        -5.62326729e-01, -6.23078227e-01, -6.59251928e-01,\n",
              "        -6.87425375e-01,  4.30657491e-02,  1.47014737e+00,\n",
              "         1.57223129e+00,  1.60448718e+00,  4.06158775e-01,\n",
              "        -4.03179199e-01, -5.54406047e-01, -4.51524764e-01,\n",
              "        -3.54017019e-01, -2.68543184e-01, -1.91750199e-01,\n",
              "        -1.24660455e-01, -6.43352345e-02, -2.87100654e-02,\n",
              "        -8.99783615e-03],\n",
              "       [-3.29633080e-03, -1.03209605e-02, -2.63224952e-02,\n",
              "        -5.94727769e-02, -1.16537198e-01, -1.97390229e-01,\n",
              "        -2.83805698e-01, -3.79412591e-01, -4.77584034e-01,\n",
              "        -5.62326729e-01, -6.23078227e-01, -6.59251928e-01,\n",
              "        -6.87425375e-01, -7.26367414e-01, -3.40523452e-01,\n",
              "         9.50877607e-01,  1.60448718e+00,  1.67668068e+00,\n",
              "         8.37745726e-01, -2.62021512e-01, -4.51524764e-01,\n",
              "        -3.54017019e-01, -2.68543184e-01, -1.91750199e-01,\n",
              "        -1.24660455e-01, -6.43352345e-02, -2.87100654e-02,\n",
              "        -8.99783615e-03],\n",
              "       [-3.29633080e-03, -1.03209605e-02, -2.63224952e-02,\n",
              "        -5.94727769e-02, -1.16537198e-01, -1.97390229e-01,\n",
              "        -2.83805698e-01, -3.79412591e-01, -4.77584034e-01,\n",
              "        -5.62326729e-01, -6.23078227e-01, -6.59251928e-01,\n",
              "        -6.87425375e-01, -7.26367414e-01, -7.58370578e-01,\n",
              "        -6.25691295e-01,  1.08068421e-01,  1.66719925e+00,\n",
              "         1.86026800e+00,  1.47062743e+00, -4.51524764e-01,\n",
              "        -3.54017019e-01, -2.68543184e-01, -1.91750199e-01,\n",
              "        -1.24660455e-01, -6.43352345e-02, -2.87100654e-02,\n",
              "        -8.99783615e-03],\n",
              "       [-3.29633080e-03, -1.03209605e-02, -2.63224952e-02,\n",
              "        -5.94727769e-02, -1.16537198e-01, -1.97390229e-01,\n",
              "        -2.83805698e-01, -3.79412591e-01, -4.77584034e-01,\n",
              "        -5.62326729e-01, -6.23078227e-01, -6.59251928e-01,\n",
              "        -6.87425375e-01, -7.26367414e-01, -7.58370578e-01,\n",
              "        -7.74074256e-01, -7.61724949e-01,  1.63875473e+00,\n",
              "         1.86026800e+00,  2.14202881e+00,  3.42681259e-01,\n",
              "        -3.54017019e-01, -2.68543184e-01, -1.91750199e-01,\n",
              "        -1.24660455e-01, -6.43352345e-02, -2.87100654e-02,\n",
              "        -8.99783615e-03],\n",
              "       [-3.29633080e-03, -1.03209605e-02, -2.63224952e-02,\n",
              "        -5.94727769e-02, -1.16537198e-01, -1.97390229e-01,\n",
              "        -2.83805698e-01, -3.79412591e-01, -4.77584034e-01,\n",
              "        -5.62326729e-01, -6.23078227e-01, -6.59251928e-01,\n",
              "        -6.87425375e-01, -7.26367414e-01, -3.31237972e-01,\n",
              "         4.31537271e-01,  9.49803948e-01,  1.67668068e+00,\n",
              "         1.86026800e+00,  1.68720853e+00, -4.26705807e-01,\n",
              "        -3.54017019e-01, -2.68543184e-01, -1.91750199e-01,\n",
              "        -1.24660455e-01, -6.43352345e-02, -2.87100654e-02,\n",
              "        -8.99783615e-03],\n",
              "       [-3.29633080e-03, -1.03209605e-02, -2.63224952e-02,\n",
              "        -5.94727769e-02, -1.16537198e-01, -1.97390229e-01,\n",
              "        -2.83805698e-01, -3.79412591e-01, -4.77584034e-01,\n",
              "        -5.62326729e-01, -6.23078227e-01, -6.59251928e-01,\n",
              "        -3.07773978e-01,  6.79510474e-01,  1.36800694e+00,\n",
              "         1.57223129e+00,  1.60448718e+00,  1.67668068e+00,\n",
              "         1.83048570e+00,  1.41648221e+00, -4.51524764e-01,\n",
              "        -3.54017019e-01, -2.68543184e-01, -1.91750199e-01,\n",
              "        -1.24660455e-01, -6.43352345e-02, -2.87100654e-02,\n",
              "        -8.99783615e-03],\n",
              "       [-3.29633080e-03, -1.03209605e-02, -2.63224952e-02,\n",
              "        -5.94727769e-02, -1.16537198e-01, -1.97390229e-01,\n",
              "        -2.83805698e-01, -3.79412591e-01, -4.77584034e-01,\n",
              "        -5.62326729e-01, -3.80459100e-01,  4.67752665e-01,\n",
              "         1.46393263e+00,  1.67692387e+00,  1.59085870e+00,\n",
              "         1.57223129e+00,  1.60448718e+00,  1.18364239e+00,\n",
              "         1.22972980e-01, -5.54406047e-01, -4.51524764e-01,\n",
              "        -3.54017019e-01, -2.68543184e-01, -1.91750199e-01,\n",
              "        -1.24660455e-01, -6.43352345e-02, -2.87100654e-02,\n",
              "        -8.99783615e-03],\n",
              "       [-3.29633080e-03, -1.03209605e-02, -2.63224952e-02,\n",
              "        -5.94727769e-02, -1.16537198e-01, -1.97390229e-01,\n",
              "        -2.83805698e-01, -3.79412591e-01, -2.04794765e-01,\n",
              "         1.41737401e-01,  1.53016663e+00,  1.84190750e+00,\n",
              "         1.77544141e+00,  1.67692387e+00,  1.59085870e+00,\n",
              "         1.06216478e+00, -4.16298211e-03, -7.03177512e-01,\n",
              "        -6.51364148e-01, -5.54406047e-01, -4.51524764e-01,\n",
              "        -3.54017019e-01, -2.68543184e-01, -1.91750199e-01,\n",
              "        -1.24660455e-01, -6.43352345e-02, -2.87100654e-02,\n",
              "        -8.99783615e-03],\n",
              "       [-3.29633080e-03, -1.03209605e-02, -2.63224952e-02,\n",
              "        -5.94727769e-02, -1.16537198e-01, -1.97390229e-01,\n",
              "         4.43913825e-02,  2.03711987e+00,  2.11984396e+00,\n",
              "         2.13658571e+00,  1.93453193e+00,  1.84190750e+00,\n",
              "         1.77544141e+00,  1.12597167e+00, -1.55312652e-02,\n",
              "        -6.90608859e-01, -7.61724949e-01, -7.22140551e-01,\n",
              "        -6.51364148e-01, -5.54406047e-01, -4.51524764e-01,\n",
              "        -3.54017019e-01, -2.68543184e-01, -1.91750199e-01,\n",
              "        -1.24660455e-01, -6.43352345e-02, -2.87100654e-02,\n",
              "        -8.99783615e-03],\n",
              "       [-3.29633080e-03, -1.03209605e-02, -2.63224952e-02,\n",
              "        -5.94727769e-02,  2.36970687e+00,  4.28961515e+00,\n",
              "         3.83689117e+00,  3.19592476e+00,  2.52309775e+00,\n",
              "         2.13658571e+00,  1.93453193e+00,  1.75293338e+00,\n",
              "         6.07283235e-01, -6.21876478e-01, -7.58370578e-01,\n",
              "        -7.74074256e-01, -7.61724949e-01, -7.22140551e-01,\n",
              "        -6.51364148e-01, -5.54406047e-01, -4.51524764e-01,\n",
              "        -3.54017019e-01, -2.68543184e-01, -1.91750199e-01,\n",
              "        -1.24660455e-01, -6.43352345e-02, -2.87100654e-02,\n",
              "        -8.99783615e-03],\n",
              "       [-3.29633080e-03, -1.03209605e-02, -2.63224952e-02,\n",
              "        -5.94727769e-02,  6.03126621e+00,  6.40268135e+00,\n",
              "         4.32918692e+00,  3.19592476e+00,  2.03682137e+00,\n",
              "         8.77804399e-01,  7.11327076e-01, -5.01075864e-01,\n",
              "        -6.87425375e-01, -7.26367414e-01, -7.58370578e-01,\n",
              "        -7.74074256e-01, -7.61724949e-01, -7.22140551e-01,\n",
              "        -6.51364148e-01, -5.54406047e-01, -4.51524764e-01,\n",
              "        -3.54017019e-01, -2.68543184e-01, -1.91750199e-01,\n",
              "        -1.24660455e-01, -6.43352345e-02, -2.87100654e-02,\n",
              "        -8.99783615e-03],\n",
              "       [-3.29633080e-03, -1.03209605e-02, -2.63224952e-02,\n",
              "        -5.94727769e-02, -1.16537198e-01, -1.97390229e-01,\n",
              "        -2.83805698e-01, -3.79412591e-01, -4.77584034e-01,\n",
              "        -5.62326729e-01, -6.23078227e-01, -6.59251928e-01,\n",
              "        -6.87425375e-01, -7.26367414e-01, -7.58370578e-01,\n",
              "        -7.74074256e-01, -7.61724949e-01, -7.22140551e-01,\n",
              "        -6.51364148e-01, -5.54406047e-01, -4.51524764e-01,\n",
              "        -3.54017019e-01, -2.68543184e-01, -1.91750199e-01,\n",
              "        -1.24660455e-01, -6.43352345e-02, -2.87100654e-02,\n",
              "        -8.99783615e-03],\n",
              "       [-3.29633080e-03, -1.03209605e-02, -2.63224952e-02,\n",
              "        -5.94727769e-02, -1.16537198e-01, -1.97390229e-01,\n",
              "        -2.83805698e-01, -3.79412591e-01, -4.77584034e-01,\n",
              "        -5.62326729e-01, -6.23078227e-01, -6.59251928e-01,\n",
              "        -6.87425375e-01, -7.26367414e-01, -7.58370578e-01,\n",
              "        -7.74074256e-01, -7.61724949e-01, -7.22140551e-01,\n",
              "        -6.51364148e-01, -5.54406047e-01, -4.51524764e-01,\n",
              "        -3.54017019e-01, -2.68543184e-01, -1.91750199e-01,\n",
              "        -1.24660455e-01, -6.43352345e-02, -2.87100654e-02,\n",
              "        -8.99783615e-03],\n",
              "       [-3.29633080e-03, -1.03209605e-02, -2.63224952e-02,\n",
              "        -5.94727769e-02, -1.16537198e-01, -1.97390229e-01,\n",
              "        -2.83805698e-01, -3.79412591e-01, -4.77584034e-01,\n",
              "        -5.62326729e-01, -6.23078227e-01, -6.59251928e-01,\n",
              "        -6.87425375e-01, -7.26367414e-01, -7.58370578e-01,\n",
              "        -7.74074256e-01, -7.61724949e-01, -7.22140551e-01,\n",
              "        -6.51364148e-01, -5.54406047e-01, -4.51524764e-01,\n",
              "        -3.54017019e-01, -2.68543184e-01, -1.91750199e-01,\n",
              "        -1.24660455e-01, -6.43352345e-02, -2.87100654e-02,\n",
              "        -8.99783615e-03]], dtype=float32)>"
            ]
          },
          "metadata": {},
          "execution_count": 22
        }
      ]
    },
    {
      "cell_type": "code",
      "source": [
        "# building model with normalised data\n",
        "\n",
        "model_2=tf.keras.Sequential()\n",
        "model_2.add(tf.keras.layers.Flatten())\n",
        "model_2.add(tf.keras.layers.Dense(300,activation='relu'))\n",
        "model_2.add(tf.keras.layers.Dense(10,activation='softmax'))"
      ],
      "metadata": {
        "id": "t8d5KA3_cH_b"
      },
      "execution_count": null,
      "outputs": []
    },
    {
      "cell_type": "code",
      "source": [
        "model_2.compile(loss=tf.keras.losses.SparseCategoricalCrossentropy(),\n",
        "                optimizer=tf.keras.optimizers.Adam(),\n",
        "                metrics=['accuracy'])"
      ],
      "metadata": {
        "id": "KmNg743actX4"
      },
      "execution_count": null,
      "outputs": []
    },
    {
      "cell_type": "code",
      "source": [
        "tf.random.set_seed(100)\n",
        "hist_2=model_2.fit(X_train,y_train,epochs=10)\n",
        "pd.DataFrame(hist_2.history).plot();"
      ],
      "metadata": {
        "colab": {
          "base_uri": "https://localhost:8080/",
          "height": 612
        },
        "id": "LDiGRk_9cx4h",
        "outputId": "43e451c2-f7b7-4605-99a4-de09ed94558f"
      },
      "execution_count": null,
      "outputs": [
        {
          "output_type": "stream",
          "name": "stdout",
          "text": [
            "Epoch 1/10\n",
            "1875/1875 [==============================] - 7s 4ms/step - loss: 0.2092 - accuracy: 0.9402\n",
            "Epoch 2/10\n",
            "1875/1875 [==============================] - 6s 3ms/step - loss: 0.0872 - accuracy: 0.9744\n",
            "Epoch 3/10\n",
            "1875/1875 [==============================] - 6s 3ms/step - loss: 0.0574 - accuracy: 0.9826\n",
            "Epoch 4/10\n",
            "1875/1875 [==============================] - 6s 3ms/step - loss: 0.0445 - accuracy: 0.9863\n",
            "Epoch 5/10\n",
            "1875/1875 [==============================] - 6s 3ms/step - loss: 0.0317 - accuracy: 0.9904\n",
            "Epoch 6/10\n",
            "1875/1875 [==============================] - 6s 3ms/step - loss: 0.0268 - accuracy: 0.9908\n",
            "Epoch 7/10\n",
            "1875/1875 [==============================] - 6s 3ms/step - loss: 0.0208 - accuracy: 0.9937\n",
            "Epoch 8/10\n",
            "1875/1875 [==============================] - 6s 3ms/step - loss: 0.0184 - accuracy: 0.9944\n",
            "Epoch 9/10\n",
            "1875/1875 [==============================] - 6s 3ms/step - loss: 0.0181 - accuracy: 0.9940\n",
            "Epoch 10/10\n",
            "1875/1875 [==============================] - 7s 4ms/step - loss: 0.0170 - accuracy: 0.9948\n"
          ]
        },
        {
          "output_type": "display_data",
          "data": {
            "text/plain": [
              "<Figure size 432x288 with 1 Axes>"
            ],
            "image/png": "[encoded data removed]"
          },
          "metadata": {
            "needs_background": "light"
          }
        }
      ]
    },
    {
      "cell_type": "code",
      "source": [
        "model_2.evaluate(X_test,y_test)"
      ],
      "metadata": {
        "colab": {
          "base_uri": "https://localhost:8080/"
        },
        "id": "PcMbJ6lpc_Sf",
        "outputId": "cf9a7b0f-4385-412e-aa5d-15f55d5e8747"
      },
      "execution_count": null,
      "outputs": [
        {
          "output_type": "stream",
          "name": "stdout",
          "text": [
            "313/313 [==============================] - 1s 3ms/step - loss: 0.1470 - accuracy: 0.9788\n"
          ]
        },
        {
          "output_type": "execute_result",
          "data": {
            "text/plain": [
              "[0.14703814685344696, 0.9787999987602234]"
            ]
          },
          "metadata": {},
          "execution_count": 26
        }
      ]
    },
    {
      "cell_type": "code",
      "source": [
        "Basic model : training loss=0.1852 , test loss = 0.3103  ( there is an overfitting)\n",
        " model with Normalized data : Training loss =0.0170 , test loss =  0.1470( model improved but overfitting still there)"
      ],
      "metadata": {
        "id": "fb6mbYiQdiJQ"
      },
      "execution_count": null,
      "outputs": []
    },
    {
      "cell_type": "markdown",
      "source": [
        "## model with cross validation"
      ],
      "metadata": {
        "id": "XbVTC7VFeUov"
      }
    },
    {
      "cell_type": "code",
      "source": [
        "model_3=tf.keras.Sequential()\n",
        "model_3.add(tf.keras.layers.Flatten())\n",
        "model_3.add(tf.keras.layers.Dense(300,activation='relu'))\n",
        "model_3.add(tf.keras.layers.Dense(10,activation='softmax'))"
      ],
      "metadata": {
        "id": "d1fgXBGxd-nc"
      },
      "execution_count": null,
      "outputs": []
    },
    {
      "cell_type": "code",
      "source": [
        "model_3.compile(loss=tf.keras.losses.SparseCategoricalCrossentropy(),\n",
        "                optimizer=tf.keras.optimizers.Adam(),\n",
        "                metrics=['accuracy'])"
      ],
      "metadata": {
        "id": "a5AHFM9xegIT"
      },
      "execution_count": null,
      "outputs": []
    },
    {
      "cell_type": "code",
      "source": [
        "tf.random.set_seed(100)\n",
        "# Cross validation using validation split\n",
        "hist_3=model_3.fit(X_train,y_train,epochs=10,validation_split=0.2)\n",
        "pd.DataFrame(hist_3.history).plot();"
      ],
      "metadata": {
        "colab": {
          "base_uri": "https://localhost:8080/",
          "height": 612
        },
        "id": "IzuC30RYejT4",
        "outputId": "39b8a6ba-9572-474c-cf5a-2683dff852dd"
      },
      "execution_count": null,
      "outputs": [
        {
          "output_type": "stream",
          "name": "stdout",
          "text": [
            "Epoch 1/10\n",
            "1500/1500 [==============================] - 8s 5ms/step - loss: 0.2303 - accuracy: 0.9348 - val_loss: 0.1338 - val_accuracy: 0.9614\n",
            "Epoch 2/10\n",
            "1500/1500 [==============================] - 7s 5ms/step - loss: 0.0917 - accuracy: 0.9732 - val_loss: 0.0987 - val_accuracy: 0.9742\n",
            "Epoch 3/10\n",
            "1500/1500 [==============================] - 6s 4ms/step - loss: 0.0593 - accuracy: 0.9829 - val_loss: 0.1035 - val_accuracy: 0.9706\n",
            "Epoch 4/10\n",
            "1500/1500 [==============================] - 6s 4ms/step - loss: 0.0412 - accuracy: 0.9871 - val_loss: 0.0972 - val_accuracy: 0.9753\n",
            "Epoch 5/10\n",
            "1500/1500 [==============================] - 7s 5ms/step - loss: 0.0308 - accuracy: 0.9899 - val_loss: 0.1186 - val_accuracy: 0.9741\n",
            "Epoch 6/10\n",
            "1500/1500 [==============================] - 8s 5ms/step - loss: 0.0237 - accuracy: 0.9928 - val_loss: 0.1221 - val_accuracy: 0.9731\n",
            "Epoch 7/10\n",
            "1500/1500 [==============================] - 10s 6ms/step - loss: 0.0195 - accuracy: 0.9936 - val_loss: 0.1124 - val_accuracy: 0.9766\n",
            "Epoch 8/10\n",
            "1500/1500 [==============================] - 6s 4ms/step - loss: 0.0202 - accuracy: 0.9937 - val_loss: 0.1238 - val_accuracy: 0.9751\n",
            "Epoch 9/10\n",
            "1500/1500 [==============================] - 7s 5ms/step - loss: 0.0169 - accuracy: 0.9945 - val_loss: 0.1285 - val_accuracy: 0.9747\n",
            "Epoch 10/10\n",
            "1500/1500 [==============================] - 6s 4ms/step - loss: 0.0187 - accuracy: 0.9943 - val_loss: 0.1481 - val_accuracy: 0.9758\n"
          ]
        },
        {
          "output_type": "display_data",
          "data": {
            "text/plain": [
              "<Figure size 432x288 with 1 Axes>"
            ],
            "image/png": "[encoded data removed]"
          },
          "metadata": {
            "needs_background": "light"
          }
        }
      ]
    },
    {
      "cell_type": "code",
      "source": [
        "model_3.evaluate(X_test,y_test)"
      ],
      "metadata": {
        "colab": {
          "base_uri": "https://localhost:8080/"
        },
        "id": "6wX1bNY-e8GE",
        "outputId": "7b9f6677-9e2f-4416-ce11-294cacfaa9f7"
      },
      "execution_count": null,
      "outputs": [
        {
          "output_type": "stream",
          "name": "stdout",
          "text": [
            "313/313 [==============================] - 2s 4ms/step - loss: 0.1403 - accuracy: 0.9762\n"
          ]
        },
        {
          "output_type": "execute_result",
          "data": {
            "text/plain": [
              "[0.14034612476825714, 0.9761999845504761]"
            ]
          },
          "metadata": {},
          "execution_count": 30
        }
      ]
    },
    {
      "cell_type": "code",
      "source": [
        "As the epochs increases graph size increases"
      ],
      "metadata": {
        "id": "n5oRtgH2fVbh"
      },
      "execution_count": null,
      "outputs": []
    },
    {
      "cell_type": "code",
      "source": [
        "Basic model : training loss=0.1852 , test loss = 0.3103  ( there is an overfitting)\n",
        " model with Normalized data : Training loss =0.0170 , test loss =  0.1470( model improved but overfitting still there)\n",
        "\n",
        " Model with cross validation: Training loss=0.0187 , test loss= 0.1403 (lower the test loss better)\n",
        " model slightly improved , but the gap between validation loss and training loss\n",
        " increases , showing that learning is shallow"
      ],
      "metadata": {
        "id": "pMEW3Gf1grWX"
      },
      "execution_count": null,
      "outputs": []
    },
    {
      "cell_type": "markdown",
      "source": [
        "## Early stopping"
      ],
      "metadata": {
        "id": "HmNBqOGzhjHU"
      }
    },
    {
      "cell_type": "code",
      "source": [],
      "metadata": {
        "id": "TY3soW41hU62"
      },
      "execution_count": null,
      "outputs": []
    }
  ]
}