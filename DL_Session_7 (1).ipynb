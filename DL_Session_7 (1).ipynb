{
  "nbformat": 4,
  "nbformat_minor": 0,
  "metadata": {
    "colab": {
      "provenance": []
    },
    "kernelspec": {
      "name": "python3",
      "display_name": "Python 3"
    },
    "language_info": {
      "name": "python"
    }
  },
  "cells": [
    {
      "cell_type": "markdown",
      "source": [
        "## Convolutional Neural Network"
      ],
      "metadata": {
        "id": "i4oeWZA8ZB_D"
      }
    },
    {
      "cell_type": "code",
      "source": [
        "import numpy as np\n",
        "import pandas as pd\n",
        "import matplotlib.pyplot as plt\n",
        "import tensorflow as tf"
      ],
      "metadata": {
        "id": "bqcSvHHKkhIM"
      },
      "execution_count": null,
      "outputs": []
    },
    {
      "cell_type": "markdown",
      "source": [
        "## Accessing the dataset"
      ],
      "metadata": {
        "id": "ReDb_55Lkka-"
      }
    },
    {
      "cell_type": "code",
      "source": [
        "from tensorflow.keras.datasets.fashion_mnist import load_data\n",
        "(xtrain,ytrain),(xtest,ytest) = load_data()"
      ],
      "metadata": {
        "colab": {
          "base_uri": "https://localhost:8080/"
        },
        "id": "Zp93t5g6kuKP",
        "outputId": "a9432019-32d1-45db-dd97-73f92906c4c5"
      },
      "execution_count": null,
      "outputs": [
        {
          "output_type": "stream",
          "name": "stdout",
          "text": [
            "Downloading data from https://storage.googleapis.com/tensorflow/tf-keras-datasets/train-labels-idx1-ubyte.gz\n",
            "29515/29515 [==============================] - 0s 0us/step\n",
            "Downloading data from https://storage.googleapis.com/tensorflow/tf-keras-datasets/train-images-idx3-ubyte.gz\n",
            "26421880/26421880 [==============================] - 0s 0us/step\n",
            "Downloading data from https://storage.googleapis.com/tensorflow/tf-keras-datasets/t10k-labels-idx1-ubyte.gz\n",
            "5148/5148 [==============================] - 0s 0us/step\n",
            "Downloading data from https://storage.googleapis.com/tensorflow/tf-keras-datasets/t10k-images-idx3-ubyte.gz\n",
            "4422102/4422102 [==============================] - 0s 0us/step\n"
          ]
        }
      ]
    },
    {
      "cell_type": "markdown",
      "source": [
        "## Data Visualisation"
      ],
      "metadata": {
        "id": "39b1w4RNk8R_"
      }
    },
    {
      "cell_type": "code",
      "source": [
        "plt.imshow(xtrain[10],'gray')\n",
        "plt.title(ytrain[10])"
      ],
      "metadata": {
        "colab": {
          "base_uri": "https://localhost:8080/",
          "height": 298
        },
        "id": "1P271gEtlMHC",
        "outputId": "e46781e7-bcf0-4e25-cda4-16c5637687e8"
      },
      "execution_count": null,
      "outputs": [
        {
          "output_type": "execute_result",
          "data": {
            "text/plain": [
              "Text(0.5, 1.0, '0')"
            ]
          },
          "metadata": {},
          "execution_count": 3
        },
        {
          "output_type": "display_data",
          "data": {
            "text/plain": [
              "<Figure size 432x288 with 1 Axes>"
            ],
            "image/png": "[encoded data removed]"
          },
          "metadata": {
            "needs_background": "light"
          }
        }
      ]
    },
    {
      "cell_type": "code",
      "source": [
        "plt.imshow(xtrain[1000],'gray')\n",
        "plt.title(ytrain[1000])"
      ],
      "metadata": {
        "colab": {
          "base_uri": "https://localhost:8080/",
          "height": 298
        },
        "id": "yfViVMehlUW1",
        "outputId": "1b464790-af73-4f7f-ece6-cd4e90a6ddcb"
      },
      "execution_count": null,
      "outputs": [
        {
          "output_type": "execute_result",
          "data": {
            "text/plain": [
              "Text(0.5, 1.0, '1')"
            ]
          },
          "metadata": {},
          "execution_count": 4
        },
        {
          "output_type": "display_data",
          "data": {
            "text/plain": [
              "<Figure size 432x288 with 1 Axes>"
            ],
            "image/png": "[encoded data removed]"
          },
          "metadata": {
            "needs_background": "light"
          }
        }
      ]
    },
    {
      "cell_type": "code",
      "source": [
        "normalizer= tf.keras.layers.Normalization()\n",
        "normalizer.adapt(xtrain)\n",
        "normalizer.adapt(xtest)\n",
        "\n",
        "xtrain= normalizer(xtrain)\n",
        "xtest= normalizer(xtest)"
      ],
      "metadata": {
        "id": "zuFl2d02lY-3"
      },
      "execution_count": null,
      "outputs": []
    },
    {
      "cell_type": "code",
      "source": [
        "xtrain[10]"
      ],
      "metadata": {
        "colab": {
          "base_uri": "https://localhost:8080/"
        },
        "id": "WUxOBeUIlxDn",
        "outputId": "9fc2626c-bea9-4192-c1f3-561e84737b7b"
      },
      "execution_count": null,
      "outputs": [
        {
          "output_type": "execute_result",
          "data": {
            "text/plain": [
              "<tf.Tensor: shape=(28, 28), dtype=float32, numpy=\n",
              "array([[-0.16670531, -0.2376101 , -0.28802225, -0.37757662, -0.52558374,\n",
              "        -0.65251243, -0.7358189 , -0.6852756 ,  0.6327944 ,  1.0896547 ,\n",
              "        -0.08725115, -1.3389391 , -1.3584975 , -1.3151928 , -1.2840512 ,\n",
              "        -1.4012004 , -1.4547346 , -1.4218723 , -0.35751435,  0.9113213 ,\n",
              "         0.26074103, -0.8736935 , -0.807176  , -0.70910555, -0.577009  ,\n",
              "        -0.47288555, -0.38387212, -0.24161945],\n",
              "       [-0.16670531, -0.2376101 , -0.28802225, -0.37757662, -0.52558374,\n",
              "        -0.65251243,  0.9857524 ,  1.5907    ,  1.4596157 ,  1.0238127 ,\n",
              "         1.3554165 ,  1.0888851 ,  0.7365514 ,  0.350987  ,  0.22035567,\n",
              "         0.32302642,  0.9605977 ,  1.0632173 ,  1.2815788 ,  1.1315068 ,\n",
              "         1.4047415 ,  1.15751   , -0.43480533, -0.70910555, -0.577009  ,\n",
              "        -0.47288555, -0.38387212, -0.24161945],\n",
              "       [-0.16670531, -0.2376101 , -0.28802225, -0.37757662, -0.52558374,\n",
              "         0.14364567,  1.3595146 ,  1.0525383 ,  1.0517172 ,  0.8811548 ,\n",
              "         0.84493417,  1.0326854 ,  1.1174694 ,  0.8877429 ,  0.34293696,\n",
              "         0.8301519 ,  0.90336233,  0.7654646 ,  0.57429886,  0.96636766,\n",
              "         0.9144556 ,  1.15751   ,  1.1094377 , -0.70910555, -0.577009  ,\n",
              "        -0.47288555, -0.38387212, -0.24161945],\n",
              "       [-0.16670531, -0.2376101 , -0.28802225, -0.37757662, -0.52558374,\n",
              "         0.9759928 ,  0.99707854,  0.98526806,  0.9965958 ,  0.8701811 ,\n",
              "         0.62298524,  0.7516872 ,  0.7365514 ,  0.809466  ,  0.81097466,\n",
              "         0.7399963 ,  0.68586797,  0.57078016,  0.8774188 ,  0.9113213 ,\n",
              "         0.93624604,  0.8657946 ,  1.1094377 , -0.0175871 , -0.577009  ,\n",
              "        -0.47288555, -0.38387212, -0.24161945],\n",
              "       [-0.16670531, -0.2376101 , -0.28802225, -0.37757662, -0.52558374,\n",
              "         1.2896309 ,  0.92912173,  0.98526806,  0.9414744 ,  0.84823376,\n",
              "         0.7006674 ,  0.6842477 ,  0.5236855 ,  0.6193649 ,  0.65496206,\n",
              "         0.52587664,  0.6629738 ,  0.6853004 ,  0.76515216,  0.7682007 ,\n",
              "         0.90356034,  0.8982074 ,  1.0984857 ,  0.6973726 , -0.577009  ,\n",
              "        -0.47288555, -0.38387212, -0.24161945],\n",
              "       [-0.16670531, -0.2376101 , -0.28802225, -0.37757662, -0.49695808,\n",
              "         1.4585129 ,  0.9177956 ,  0.81709254,  0.9194258 ,  0.84823376,\n",
              "         0.74505717,  0.74044734,  0.6581271 ,  0.7423715 ,  0.6995371 ,\n",
              "         0.61603224,  0.68586797,  0.7654646 ,  0.85496545,  0.96636766,\n",
              "         1.0125128 ,  0.9738374 ,  1.0765815 ,  1.1427574 , -0.577009  ,\n",
              "        -0.47288555, -0.38387212, -0.24161945],\n",
              "       [-0.16670531, -0.2376101 , -0.28802225, -0.37757662, -0.02463463,\n",
              "         1.4826388 ,  1.0197308 ,  0.761034  ,  0.7320129 ,  0.78239167,\n",
              "         0.8560316 ,  0.7629272 ,  0.72534794,  0.7759187 ,  0.78868717,\n",
              "         0.7061879 ,  0.6286326 ,  0.7654646 ,  0.86619216,  0.9443491 ,\n",
              "         1.0016176 ,  0.8657946 ,  0.9561086 ,  1.459215  , -0.577009  ,\n",
              "        -0.47288555, -0.38387212, -0.24161945],\n",
              "       [-0.16670531, -0.2376101 , -0.28802225, -0.37757662,  0.31887332,\n",
              "         1.3981979 ,  0.99707854,  0.7722457 ,  0.39026007,  0.58486545,\n",
              "         0.5120108 ,  0.4706891 ,  0.5684994 ,  0.56345284,  0.56581205,\n",
              "         0.41318205,  0.43403235,  0.5478761 ,  0.59675217,  0.6801265 ,\n",
              "         0.55491257,  0.7361433 ,  0.9670607 ,  1.2365227 , -0.300962  ,\n",
              "        -0.47288555, -0.38387212, -0.24161945],\n",
              "       [-0.16670531, -0.2376101 , -0.28802225, -0.37757662,  0.60512996,\n",
              "         1.0966228 ,  1.0763614 ,  1.5907    ,  0.42333293,  0.29954976,\n",
              "         0.43432873,  0.45944914,  0.4788716 ,  0.4516287 ,  0.46551827,\n",
              "         0.33429587,  0.31956163,  0.5249721 ,  0.54061884,  0.4269131 ,\n",
              "         1.1650461 ,  1.2115314 ,  0.85753995,  1.2365227 ,  0.22484185,\n",
              "        -0.47288555, -0.38387212, -0.24161945],\n",
              "       [-0.16670531, -0.2376101 , -0.28802225, -0.37757662,  0.90569943,\n",
              "         1.2413788 ,  1.8125596 ,  1.9382627 ,  0.9965958 ,  0.13494456,\n",
              "         0.667375  ,  0.4369693 ,  0.41165078,  0.47399354,  0.44323078,\n",
              "         0.4019126 ,  0.42258528,  0.61658823,  0.7988321 ,  0.36085746,\n",
              "         1.0560937 ,  1.7193323 ,  1.3941917 ,  1.3068466 ,  0.8426613 ,\n",
              "        -0.47288555, -0.38387212, -0.24161945],\n",
              "       [-0.16670531, -0.2376101 , -0.28802225, -0.37757662, -0.52558374,\n",
              "        -0.27855936,  1.2349272 , -0.49467668,  0.4564058 ,  0.57389176,\n",
              "         0.5785955 ,  0.36952975,  0.41165078,  0.4516287 ,  0.49894953,\n",
              "         0.41318205,  0.34245577,  0.502068  ,  0.83251214,  0.9443491 ,\n",
              "        -0.76341176,  0.5524707 ,  0.93420446, -0.627061  , -0.577009  ,\n",
              "        -0.47288555, -0.38387212, -0.24161945],\n",
              "       [-0.16670531, -0.2376101 , -0.28802225, -0.37757662, -0.52558374,\n",
              "        -0.65251243, -0.7358189 , -0.80860436, -0.02866279,  0.94699687,\n",
              "         0.5009134 ,  0.38076967,  0.4004473 ,  0.4516287 ,  0.521237  ,\n",
              "         0.44699043,  0.42258528,  0.34173965,  0.78760546,  0.96636766,\n",
              "        -0.9595261 , -0.8736935 , -0.807176  , -0.70910555, -0.577009  ,\n",
              "        -0.47288555, -0.38387212, -0.24161945],\n",
              "       [-0.16670531, -0.2376101 , -0.28802225, -0.37757662, -0.5112709 ,\n",
              "        -0.6163234 , -0.67918825, -0.80860436, -0.52475566,  0.8153127 ,\n",
              "         0.48981595,  0.40324953,  0.45646468,  0.4516287 ,  0.49894953,\n",
              "         0.42445153,  0.43403235,  0.33028764,  0.6753388 ,  1.1315068 ,\n",
              "        -0.9595261 , -0.8736935 , -0.77431977, -0.6739436 , -0.577009  ,\n",
              "        -0.47288555, -0.38387212, -0.24161945],\n",
              "       [-0.16670531, -0.2376101 , -0.28802225, -0.37757662, -0.52558374,\n",
              "        -0.65251243, -0.7244928 , -0.80860436, -0.6570471 ,  0.8153127 ,\n",
              "         0.42323127,  0.45944914,  0.41165078,  0.48517597,  0.49894953,\n",
              "         0.44699043,  0.42258528,  0.42190382,  0.5518455 ,  1.0764605 ,\n",
              "        -0.9595261 , -0.8736935 , -0.79622394, -0.70910555, -0.577009  ,\n",
              "        -0.47288555, -0.38387212, -0.24161945],\n",
              "       [-0.16670531, -0.2376101 , -0.28802225, -0.37757662, -0.52558374,\n",
              "        -0.65251243, -0.6905144 , -0.80860436, -0.6019257 ,  0.771418  ,\n",
              "         0.36774406,  0.50440884,  0.37804037,  0.5299056 ,  0.5100933 ,\n",
              "         0.45825988,  0.39969113,  0.5249721 ,  0.5293922 ,  0.65810794,\n",
              "        -0.9595261 , -0.8736935 , -0.7852718 , -0.70910555, -0.577009  ,\n",
              "        -0.47288555, -0.38387212, -0.24161945],\n",
              "       [-0.16670531, -0.2376101 , -0.28802225, -0.37757662, -0.52558374,\n",
              "        -0.65251243, -0.6905144 , -0.80860436, -0.30426994,  0.7165496 ,\n",
              "         0.4565236 ,  0.50440884,  0.5012785 ,  0.48517597,  0.5100933 ,\n",
              "         0.44699043,  0.4569265 ,  0.46771193,  0.54061884,  0.65810794,\n",
              "        -0.65445936, -0.8736935 , -0.77431977, -0.70910555, -0.577009  ,\n",
              "        -0.47288555, -0.38387212, -0.24161945],\n",
              "       [-0.16670531, -0.2376101 , -0.28802225, -0.37757662, -0.52558374,\n",
              "        -0.65251243, -0.7018405 , -0.80860436,  0.32411435,  0.6616812 ,\n",
              "         0.52310824,  0.5268887 ,  0.42285424,  0.56345284,  0.5100933 ,\n",
              "         0.41318205,  0.5141619 ,  0.43335587,  0.54061884,  0.7571914 ,\n",
              "        -0.41476402, -0.8736935 , -0.7524156 , -0.70910555, -0.577009  ,\n",
              "        -0.47288555, -0.38387212, -0.24161945],\n",
              "       [-0.16670531, -0.2376101 , -0.28802225, -0.37757662, -0.52558374,\n",
              "        -0.65251243, -0.7244928 , -0.80860436,  0.70996433,  0.61778647,\n",
              "         0.58969295,  0.5943283 ,  0.42285424,  0.6081825 ,  0.54352456,\n",
              "         0.41318205,  0.5141619 ,  0.5249721 ,  0.4844855 ,  0.7571914 ,\n",
              "         0.01015045, -0.8736935 , -0.7633677 , -0.70910555, -0.577009  ,\n",
              "        -0.47288555, -0.38387212, -0.24161945],\n",
              "       [-0.16670531, -0.2376101 , -0.28802225, -0.37757662, -0.52558374,\n",
              "        -0.6283864 , -0.7358189 , -0.7637575 ,  0.9524986 ,  0.69460225,\n",
              "         0.5785955 ,  0.60556823,  0.42285424,  0.6864594 ,  0.56581205,\n",
              "         0.4019126 ,  0.537056  ,  0.490616  ,  0.5069389 ,  0.70214504,\n",
              "         0.4350649 , -0.8736935 , -0.7852718 , -0.70910555, -0.577009  ,\n",
              "        -0.47288555, -0.38387212, -0.24161945],\n",
              "       [-0.16670531, -0.2376101 , -0.28802225, -0.37757662, -0.52558374,\n",
              "        -0.6163234 , -0.7358189 , -0.6067937 ,  0.7430372 ,  0.79336536,\n",
              "         0.5120108 ,  0.6730078 ,  0.3668369 ,  0.7088242 ,  0.56581205,\n",
              "         0.44699043,  0.5485031 ,  0.5249721 ,  0.5518455 ,  0.74618214,\n",
              "         0.82729363, -0.8736935 , -0.807176  , -0.6973849 , -0.577009  ,\n",
              "        -0.47288555, -0.38387212, -0.24161945],\n",
              "       [-0.16670531, -0.2376101 , -0.28802225, -0.37757662, -0.52558374,\n",
              "        -0.6042604 , -0.7358189 , -0.28165433,  0.88635296,  0.78239167,\n",
              "         0.58969295,  0.74044734,  0.35563344,  0.7759187 ,  0.6438183 ,\n",
              "         0.45825988,  0.537056  ,  0.6280403 ,  0.5518455 ,  0.70214504,\n",
              "         0.7619222 , -0.81967217, -0.807176  , -0.6739436 , -0.577009  ,\n",
              "        -0.47288555, -0.38387212, -0.24161945],\n",
              "       [-0.16670531, -0.2376101 , -0.28802225, -0.37757662, -0.52558374,\n",
              "        -0.6042604 , -0.7358189 ,  0.16681376,  1.0517172 ,  0.67265487,\n",
              "         0.72286224,  0.6730078 ,  0.4004473 ,  0.8206484 ,  0.74411213,\n",
              "         0.45825988,  0.46837357,  0.7540126 ,  0.6304322 ,  0.69113576,\n",
              "         0.84908414, -0.6576081 , -0.807176  , -0.6622229 , -0.577009  ,\n",
              "        -0.47288555, -0.38387212, -0.24161945],\n",
              "       [-0.16670531, -0.2376101 , -0.28802225, -0.37757662, -0.52558374,\n",
              "        -0.6042604 , -0.7358189 ,  0.36862442,  1.1288872 ,  0.61778647,\n",
              "         0.88932395,  0.62804806,  0.44526118,  0.809466  ,  0.7663996 ,\n",
              "         0.5146072 ,  0.35390285,  0.92579293,  0.6753388 ,  0.7241636 ,\n",
              "         0.90356034, -0.39830548, -0.807176  , -0.6622229 , -0.577009  ,\n",
              "        -0.47288555, -0.38387212, -0.24161945],\n",
              "       [-0.16670531, -0.2376101 , -0.28802225, -0.37757662, -0.52558374,\n",
              "        -0.5921974 , -0.7358189 ,  0.73861057,  1.0627415 ,  0.62876016,\n",
              "         1.0113958 ,  0.45944914,  0.512482  ,  0.809466  ,  0.9224122 ,\n",
              "         0.4807988 ,  0.2852204 ,  1.0746692 ,  0.7763788 ,  0.74618214,\n",
              "         0.9144556 , -0.25784993, -0.807176  , -0.65050226, -0.577009  ,\n",
              "        -0.47288555, -0.38387212, -0.24161945],\n",
              "       [-0.16670531, -0.2376101 , -0.28802225, -0.37757662, -0.52558374,\n",
              "        -0.5921974 , -0.7358189 ,  0.7049755 ,  0.9855715 ,  0.72752327,\n",
              "         0.94481117,  0.40324953,  0.5012785 ,  0.9324725 ,  1.1564311 ,\n",
              "         0.45825988,  0.35390285,  1.0746692 ,  0.7988321 ,  0.7131543 ,\n",
              "         0.9471413 , -0.2686542 , -0.807176  , -0.627061  , -0.577009  ,\n",
              "        -0.47288555, -0.38387212, -0.24161945],\n",
              "       [-0.16670531, -0.2376101 , -0.28802225, -0.37757662, -0.52558374,\n",
              "        -0.5921974 , -0.7358189 ,  0.63770527,  0.9524986 ,  0.78239167,\n",
              "         0.7006674 ,  0.38076967,  0.42285424,  0.9883846 ,  1.1229998 ,\n",
              "         0.26667914,  0.34245577,  0.93724495,  0.8212855 ,  0.69113576,\n",
              "         0.9471413 , -0.35508838, -0.807176  , -0.65050226, -0.577009  ,\n",
              "        -0.47288555, -0.38387212, -0.24161945],\n",
              "       [-0.16670531, -0.2376101 , -0.28802225, -0.37757662, -0.52558374,\n",
              "        -0.5921974 , -0.7358189 ,  1.0637499 ,  1.1288872 ,  0.89212847,\n",
              "         0.9337137 ,  0.8416067 ,  0.88219655,  1.2120329 ,  1.3904499 ,\n",
              "         0.67237955,  0.90336233,  1.4983941 ,  0.8998721 ,  0.83425635,\n",
              "         0.9907223 , -0.41991404, -0.807176  , -0.65050226, -0.577009  ,\n",
              "        -0.47288555, -0.38387212, -0.24161945],\n",
              "       [-0.16670531, -0.2376101 , -0.28802225, -0.37757662, -0.52558374,\n",
              "        -0.6163234 , -0.7358189 ,  0.48074144,  0.55562437,  0.13494456,\n",
              "        -0.08725115, -0.38354534, -0.43981296, -0.10749201,  0.19806817,\n",
              "        -0.4658355 , -0.42449808, -0.03617717,  0.03541892,  0.08562553,\n",
              "         0.7619222 , -0.6792166 , -0.807176  , -0.6739436 , -0.577009  ,\n",
              "        -0.47288555, -0.38387212, -0.24161945]], dtype=float32)>"
            ]
          },
          "metadata": {},
          "execution_count": 8
        }
      ]
    },
    {
      "cell_type": "markdown",
      "source": [
        "## Building the model"
      ],
      "metadata": {
        "id": "MqKcGg4pl953"
      }
    },
    {
      "cell_type": "code",
      "source": [
        "model=tf.keras.Sequential()\n",
        "model.add(tf.keras.layers.Conv2D(filters=64,kernel_size=(3,3),activation='relu',input_shape=(28,28,1)))\n",
        "model.add(tf.keras.layers.Conv2D(filters=64,kernel_size=(3,3),activation='relu'))\n",
        "model.add(tf.keras.layers.MaxPool2D(pool_size=(2,2)))\n",
        "model.add(tf.keras.layers.Conv2D(filters=128,kernel_size=(3,3),activation='relu'))\n",
        "model.add(tf.keras.layers.Conv2D(filters=128,kernel_size=(3,3),activation='relu'))\n",
        "model.add(tf.keras.layers.MaxPool2D(pool_size=(2,2)))\n",
        "model.add(tf.keras.layers.Conv2D(filters=256,kernel_size=(3,3),activation='relu'))\n",
        "model.add(tf.keras.layers.MaxPool2D(pool_size=(2,2)))\n",
        "model.add(tf.keras.layers.Flatten())\n",
        "model.add(tf.keras.layers.Dense(50,activation='relu'))\n",
        "model.add(tf.keras.layers.Dense(10,activation='softmax'))"
      ],
      "metadata": {
        "id": "hEEV9rqUmKiu"
      },
      "execution_count": null,
      "outputs": []
    },
    {
      "cell_type": "code",
      "source": [
        "model.compile(loss=tf.keras.losses.SparseCategoricalCrossentropy(),\n",
        "              optimizer=tf.keras.optimizers.Adam(),\n",
        "              metrics=['accuracy'])"
      ],
      "metadata": {
        "id": "WSJNdyazphrR"
      },
      "execution_count": null,
      "outputs": []
    },
    {
      "cell_type": "code",
      "source": [
        "tf.random.set_seed(100)\n",
        "hist = model.fit(xtrain,ytrain,epochs=2)\n",
        "pd.DataFrame(hist.history).plot();\n",
        "model.evaluate(xtest,ytest)"
      ],
      "metadata": {
        "colab": {
          "base_uri": "https://localhost:8080/",
          "height": 369
        },
        "id": "KI_KkGABp0vl",
        "outputId": "6315624e-d413-433f-a326-1f960c2d7f2a"
      },
      "execution_count": null,
      "outputs": [
        {
          "output_type": "stream",
          "name": "stdout",
          "text": [
            "Epoch 1/2\n",
            "1875/1875 [==============================] - 344s 182ms/step - loss: 0.4843 - accuracy: 0.8223\n",
            "Epoch 2/2\n",
            "1875/1875 [==============================] - 336s 179ms/step - loss: 0.2920 - accuracy: 0.8941\n",
            "313/313 [==============================] - 14s 43ms/step - loss: 0.2888 - accuracy: 0.8951\n"
          ]
        },
        {
          "output_type": "execute_result",
          "data": {
            "text/plain": [
              "[0.28878894448280334, 0.8950999975204468]"
            ]
          },
          "metadata": {},
          "execution_count": 11
        },
        {
          "output_type": "display_data",
          "data": {
            "text/plain": [
              "<Figure size 432x288 with 1 Axes>"
            ],
            "image/png": "[encoded data removed]"
          },
          "metadata": {
            "needs_background": "light"
          }
        }
      ]
    },
    {
      "cell_type": "code",
      "source": [],
      "metadata": {
        "id": "QuIgRiKLqBF-"
      },
      "execution_count": null,
      "outputs": []
    }
  ]
}