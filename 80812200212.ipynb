{
  "nbformat": 4,
  "nbformat_minor": 0,
  "metadata": {
    "colab": {
      "provenance": []
    },
    "kernelspec": {
      "name": "python3",
      "display_name": "Python 3"
    },
    "language_info": {
      "name": "python"
    }
  },
  "cells": [
    {
      "cell_type": "code",
      "execution_count": null,
      "metadata": {
        "id": "wseJiKPZoPRc"
      },
      "outputs": [],
      "source": [
        "import pandas as pd\n",
        "import numpy as np\n",
        "import matplotlib.pyplot as plt\n",
        "import tensorflow as tf"
      ]
    },
    {
      "cell_type": "code",
      "source": [
        "df = pd.read_csv('customer_data_5pNwh8HRSV.csv')\n",
        "df"
      ],
      "metadata": {
        "colab": {
          "base_uri": "https://localhost:8080/",
          "height": 424
        },
        "id": "DKjZ4of-rCW5",
        "outputId": "eebec2eb-9a07-44a1-af2a-fd482413db74"
      },
      "execution_count": null,
      "outputs": [
        {
          "output_type": "execute_result",
          "data": {
            "text/plain": [
              "          ID  Gender Ever_Married  Age Graduated     Profession  \\\n",
              "0     462809    Male           No   22        No     Healthcare   \n",
              "1     462643  Female          Yes   38       Yes       Engineer   \n",
              "2     466315  Female          Yes   67       Yes       Engineer   \n",
              "3     461735    Male          Yes   67       Yes         Lawyer   \n",
              "4     462669  Female          Yes   40       Yes  Entertainment   \n",
              "...      ...     ...          ...  ...       ...            ...   \n",
              "8063  464018    Male           No   22        No            NaN   \n",
              "8064  464685    Male           No   35        No      Executive   \n",
              "8065  465406  Female           No   33       Yes     Healthcare   \n",
              "8066  467299  Female           No   27       Yes     Healthcare   \n",
              "8067  461879    Male          Yes   37       Yes      Executive   \n",
              "\n",
              "      Work_Experience Spending_Score  Family_Size  Var_1 Segmentation  \n",
              "0                 1.0            Low          4.0  Cat_4            D  \n",
              "1                 NaN        Average          3.0  Cat_4            A  \n",
              "2                 1.0            Low          1.0  Cat_6            B  \n",
              "3                 0.0           High          2.0  Cat_6            B  \n",
              "4                 NaN           High          6.0  Cat_6            A  \n",
              "...               ...            ...          ...    ...          ...  \n",
              "8063              0.0            Low          7.0  Cat_1            D  \n",
              "8064              3.0            Low          4.0  Cat_4            D  \n",
              "8065              1.0            Low          1.0  Cat_6            D  \n",
              "8066              1.0            Low          4.0  Cat_6            B  \n",
              "8067              0.0        Average          3.0  Cat_4            B  \n",
              "\n",
              "[8068 rows x 11 columns]"
            ],
            "text/html": [
              "\n",
              "  <div id=\"df-38924d57-4161-4ac3-b71e-d62a31881443\">\n",
              "    <div class=\"colab-df-container\">\n",
              "      <div>\n",
              "<style scoped>\n",
              "    .dataframe tbody tr th:only-of-type {\n",
              "        vertical-align: middle;\n",
              "    }\n",
              "\n",
              "    .dataframe tbody tr th {\n",
              "        vertical-align: top;\n",
              "    }\n",
              "\n",
              "    .dataframe thead th {\n",
              "        text-align: right;\n",
              "    }\n",
              "</style>\n",
              "<table border=\"1\" class=\"dataframe\">\n",
              "  <thead>\n",
              "    <tr style=\"text-align: right;\">\n",
              "      <th></th>\n",
              "      <th>ID</th>\n",
              "      <th>Gender</th>\n",
              "      <th>Ever_Married</th>\n",
              "      <th>Age</th>\n",
              "      <th>Graduated</th>\n",
              "      <th>Profession</th>\n",
              "      <th>Work_Experience</th>\n",
              "      <th>Spending_Score</th>\n",
              "      <th>Family_Size</th>\n",
              "      <th>Var_1</th>\n",
              "      <th>Segmentation</th>\n",
              "    </tr>\n",
              "  </thead>\n",
              "  <tbody>\n",
              "    <tr>\n",
              "      <th>0</th>\n",
              "      <td>462809</td>\n",
              "      <td>Male</td>\n",
              "      <td>No</td>\n",
              "      <td>22</td>\n",
              "      <td>No</td>\n",
              "      <td>Healthcare</td>\n",
              "      <td>1.0</td>\n",
              "      <td>Low</td>\n",
              "      <td>4.0</td>\n",
              "      <td>Cat_4</td>\n",
              "      <td>D</td>\n",
              "    </tr>\n",
              "    <tr>\n",
              "      <th>1</th>\n",
              "      <td>462643</td>\n",
              "      <td>Female</td>\n",
              "      <td>Yes</td>\n",
              "      <td>38</td>\n",
              "      <td>Yes</td>\n",
              "      <td>Engineer</td>\n",
              "      <td>NaN</td>\n",
              "      <td>Average</td>\n",
              "      <td>3.0</td>\n",
              "      <td>Cat_4</td>\n",
              "      <td>A</td>\n",
              "    </tr>\n",
              "    <tr>\n",
              "      <th>2</th>\n",
              "      <td>466315</td>\n",
              "      <td>Female</td>\n",
              "      <td>Yes</td>\n",
              "      <td>67</td>\n",
              "      <td>Yes</td>\n",
              "      <td>Engineer</td>\n",
              "      <td>1.0</td>\n",
              "      <td>Low</td>\n",
              "      <td>1.0</td>\n",
              "      <td>Cat_6</td>\n",
              "      <td>B</td>\n",
              "    </tr>\n",
              "    <tr>\n",
              "      <th>3</th>\n",
              "      <td>461735</td>\n",
              "      <td>Male</td>\n",
              "      <td>Yes</td>\n",
              "      <td>67</td>\n",
              "      <td>Yes</td>\n",
              "      <td>Lawyer</td>\n",
              "      <td>0.0</td>\n",
              "      <td>High</td>\n",
              "      <td>2.0</td>\n",
              "      <td>Cat_6</td>\n",
              "      <td>B</td>\n",
              "    </tr>\n",
              "    <tr>\n",
              "      <th>4</th>\n",
              "      <td>462669</td>\n",
              "      <td>Female</td>\n",
              "      <td>Yes</td>\n",
              "      <td>40</td>\n",
              "      <td>Yes</td>\n",
              "      <td>Entertainment</td>\n",
              "      <td>NaN</td>\n",
              "      <td>High</td>\n",
              "      <td>6.0</td>\n",
              "      <td>Cat_6</td>\n",
              "      <td>A</td>\n",
              "    </tr>\n",
              "    <tr>\n",
              "      <th>...</th>\n",
              "      <td>...</td>\n",
              "      <td>...</td>\n",
              "      <td>...</td>\n",
              "      <td>...</td>\n",
              "      <td>...</td>\n",
              "      <td>...</td>\n",
              "      <td>...</td>\n",
              "      <td>...</td>\n",
              "      <td>...</td>\n",
              "      <td>...</td>\n",
              "      <td>...</td>\n",
              "    </tr>\n",
              "    <tr>\n",
              "      <th>8063</th>\n",
              "      <td>464018</td>\n",
              "      <td>Male</td>\n",
              "      <td>No</td>\n",
              "      <td>22</td>\n",
              "      <td>No</td>\n",
              "      <td>NaN</td>\n",
              "      <td>0.0</td>\n",
              "      <td>Low</td>\n",
              "      <td>7.0</td>\n",
              "      <td>Cat_1</td>\n",
              "      <td>D</td>\n",
              "    </tr>\n",
              "    <tr>\n",
              "      <th>8064</th>\n",
              "      <td>464685</td>\n",
              "      <td>Male</td>\n",
              "      <td>No</td>\n",
              "      <td>35</td>\n",
              "      <td>No</td>\n",
              "      <td>Executive</td>\n",
              "      <td>3.0</td>\n",
              "      <td>Low</td>\n",
              "      <td>4.0</td>\n",
              "      <td>Cat_4</td>\n",
              "      <td>D</td>\n",
              "    </tr>\n",
              "    <tr>\n",
              "      <th>8065</th>\n",
              "      <td>465406</td>\n",
              "      <td>Female</td>\n",
              "      <td>No</td>\n",
              "      <td>33</td>\n",
              "      <td>Yes</td>\n",
              "      <td>Healthcare</td>\n",
              "      <td>1.0</td>\n",
              "      <td>Low</td>\n",
              "      <td>1.0</td>\n",
              "      <td>Cat_6</td>\n",
              "      <td>D</td>\n",
              "    </tr>\n",
              "    <tr>\n",
              "      <th>8066</th>\n",
              "      <td>467299</td>\n",
              "      <td>Female</td>\n",
              "      <td>No</td>\n",
              "      <td>27</td>\n",
              "      <td>Yes</td>\n",
              "      <td>Healthcare</td>\n",
              "      <td>1.0</td>\n",
              "      <td>Low</td>\n",
              "      <td>4.0</td>\n",
              "      <td>Cat_6</td>\n",
              "      <td>B</td>\n",
              "    </tr>\n",
              "    <tr>\n",
              "      <th>8067</th>\n",
              "      <td>461879</td>\n",
              "      <td>Male</td>\n",
              "      <td>Yes</td>\n",
              "      <td>37</td>\n",
              "      <td>Yes</td>\n",
              "      <td>Executive</td>\n",
              "      <td>0.0</td>\n",
              "      <td>Average</td>\n",
              "      <td>3.0</td>\n",
              "      <td>Cat_4</td>\n",
              "      <td>B</td>\n",
              "    </tr>\n",
              "  </tbody>\n",
              "</table>\n",
              "<p>8068 rows × 11 columns</p>\n",
              "</div>\n",
              "      <button class=\"colab-df-convert\" onclick=\"convertToInteractive('df-38924d57-4161-4ac3-b71e-d62a31881443')\"\n",
              "              title=\"Convert this dataframe to an interactive table.\"\n",
              "              style=\"display:none;\">\n",
              "        \n",
              "  <svg xmlns=\"http://www.w3.org/2000/svg\" height=\"24px\"viewBox=\"0 0 24 24\"\n",
              "       width=\"24px\">\n",
              "    <path d=\"M0 0h24v24H0V0z\" fill=\"none\"/>\n",
              "    <path d=\"M18.56 5.44l.94 2.06.94-2.06 2.06-.94-2.06-.94-.94-2.06-.94 2.06-2.06.94zm-11 1L8.5 8.5l.94-2.06 2.06-.94-2.06-.94L8.5 2.5l-.94 2.06-2.06.94zm10 10l.94 2.06.94-2.06 2.06-.94-2.06-.94-.94-2.06-.94 2.06-2.06.94z\"/><path d=\"M17.41 7.96l-1.37-1.37c-.4-.4-.92-.59-1.43-.59-.52 0-1.04.2-1.43.59L10.3 9.45l-7.72 7.72c-.78.78-.78 2.05 0 2.83L4 21.41c.39.39.9.59 1.41.59.51 0 1.02-.2 1.41-.59l7.78-7.78 2.81-2.81c.8-.78.8-2.07 0-2.86zM5.41 20L4 18.59l7.72-7.72 1.47 1.35L5.41 20z\"/>\n",
              "  </svg>\n",
              "      </button>\n",
              "      \n",
              "  <style>\n",
              "    .colab-df-container {\n",
              "      display:flex;\n",
              "      flex-wrap:wrap;\n",
              "      gap: 12px;\n",
              "    }\n",
              "\n",
              "    .colab-df-convert {\n",
              "      background-color: #E8F0FE;\n",
              "      border: none;\n",
              "      border-radius: 50%;\n",
              "      cursor: pointer;\n",
              "      display: none;\n",
              "      fill: #1967D2;\n",
              "      height: 32px;\n",
              "      padding: 0 0 0 0;\n",
              "      width: 32px;\n",
              "    }\n",
              "\n",
              "    .colab-df-convert:hover {\n",
              "      background-color: #E2EBFA;\n",
              "      box-shadow: 0px 1px 2px rgba(60, 64, 67, 0.3), 0px 1px 3px 1px rgba(60, 64, 67, 0.15);\n",
              "      fill: #174EA6;\n",
              "    }\n",
              "\n",
              "    [theme=dark] .colab-df-convert {\n",
              "      background-color: #3B4455;\n",
              "      fill: #D2E3FC;\n",
              "    }\n",
              "\n",
              "    [theme=dark] .colab-df-convert:hover {\n",
              "      background-color: #434B5C;\n",
              "      box-shadow: 0px 1px 3px 1px rgba(0, 0, 0, 0.15);\n",
              "      filter: drop-shadow(0px 1px 2px rgba(0, 0, 0, 0.3));\n",
              "      fill: #FFFFFF;\n",
              "    }\n",
              "  </style>\n",
              "\n",
              "      <script>\n",
              "        const buttonEl =\n",
              "          document.querySelector('#df-38924d57-4161-4ac3-b71e-d62a31881443 button.colab-df-convert');\n",
              "        buttonEl.style.display =\n",
              "          google.colab.kernel.accessAllowed ? 'block' : 'none';\n",
              "\n",
              "        async function convertToInteractive(key) {\n",
              "          const element = document.querySelector('#df-38924d57-4161-4ac3-b71e-d62a31881443');\n",
              "          const dataTable =\n",
              "            await google.colab.kernel.invokeFunction('convertToInteractive',\n",
              "                                                     [key], {});\n",
              "          if (!dataTable) return;\n",
              "\n",
              "          const docLinkHtml = 'Like what you see? Visit the ' +\n",
              "            '<a target=\"_blank\" href=https://colab.research.google.com/notebooks/data_table.ipynb>data table notebook</a>'\n",
              "            + ' to learn more about interactive tables.';\n",
              "          element.innerHTML = '';\n",
              "          dataTable['output_type'] = 'display_data';\n",
              "          await google.colab.output.renderOutput(dataTable, element);\n",
              "          const docLink = document.createElement('div');\n",
              "          docLink.innerHTML = docLinkHtml;\n",
              "          element.appendChild(docLink);\n",
              "        }\n",
              "      </script>\n",
              "    </div>\n",
              "  </div>\n",
              "  "
            ]
          },
          "metadata": {},
          "execution_count": 2
        }
      ]
    },
    {
      "cell_type": "markdown",
      "source": [
        "1.\tPerform following pre-processing on the dataset:\n",
        "\n",
        "•\tDrop the columns ‘ID’ and ‘Var_1’.\n",
        "\n",
        "•\tCheck if there are any null values and remove all records having null values.\n",
        "\n",
        "•\tDrop all rows having Family_Size values as 7.0, 8.0 and 9.0.\n",
        "\n",
        "• Formulate a Deep Learning problem by taking ‘Segmentation’ as the target and other\n",
        "\n",
        "• columns as  features. Is it classification or regression? Justify.\n",
        "\n",
        "•\tConvert all categorical features into numeric and normalise them.\n",
        "\n",
        "•\tTransform the target values to respective labels.\n",
        "\n",
        "•\tSplit the feature set and target into train and test with 80:20 ratio. Use random_state=10 (throughout the experiment).\n"
      ],
      "metadata": {
        "id": "perB-TOKrOn4"
      }
    },
    {
      "cell_type": "code",
      "source": [
        "df = df.drop(['ID','Var_1'],axis = 1)\n",
        "df"
      ],
      "metadata": {
        "colab": {
          "base_uri": "https://localhost:8080/",
          "height": 424
        },
        "id": "ItEhKJUFrIDw",
        "outputId": "2217dd69-6abb-4542-96b8-87895551a2fc"
      },
      "execution_count": null,
      "outputs": [
        {
          "output_type": "execute_result",
          "data": {
            "text/plain": [
              "      Gender Ever_Married  Age Graduated     Profession  Work_Experience  \\\n",
              "0       Male           No   22        No     Healthcare              1.0   \n",
              "1     Female          Yes   38       Yes       Engineer              NaN   \n",
              "2     Female          Yes   67       Yes       Engineer              1.0   \n",
              "3       Male          Yes   67       Yes         Lawyer              0.0   \n",
              "4     Female          Yes   40       Yes  Entertainment              NaN   \n",
              "...      ...          ...  ...       ...            ...              ...   \n",
              "8063    Male           No   22        No            NaN              0.0   \n",
              "8064    Male           No   35        No      Executive              3.0   \n",
              "8065  Female           No   33       Yes     Healthcare              1.0   \n",
              "8066  Female           No   27       Yes     Healthcare              1.0   \n",
              "8067    Male          Yes   37       Yes      Executive              0.0   \n",
              "\n",
              "     Spending_Score  Family_Size Segmentation  \n",
              "0               Low          4.0            D  \n",
              "1           Average          3.0            A  \n",
              "2               Low          1.0            B  \n",
              "3              High          2.0            B  \n",
              "4              High          6.0            A  \n",
              "...             ...          ...          ...  \n",
              "8063            Low          7.0            D  \n",
              "8064            Low          4.0            D  \n",
              "8065            Low          1.0            D  \n",
              "8066            Low          4.0            B  \n",
              "8067        Average          3.0            B  \n",
              "\n",
              "[8068 rows x 9 columns]"
            ],
            "text/html": [
              "\n",
              "  <div id=\"df-3e516607-01e5-4228-a364-e77b1ad33a23\">\n",
              "    <div class=\"colab-df-container\">\n",
              "      <div>\n",
              "<style scoped>\n",
              "    .dataframe tbody tr th:only-of-type {\n",
              "        vertical-align: middle;\n",
              "    }\n",
              "\n",
              "    .dataframe tbody tr th {\n",
              "        vertical-align: top;\n",
              "    }\n",
              "\n",
              "    .dataframe thead th {\n",
              "        text-align: right;\n",
              "    }\n",
              "</style>\n",
              "<table border=\"1\" class=\"dataframe\">\n",
              "  <thead>\n",
              "    <tr style=\"text-align: right;\">\n",
              "      <th></th>\n",
              "      <th>Gender</th>\n",
              "      <th>Ever_Married</th>\n",
              "      <th>Age</th>\n",
              "      <th>Graduated</th>\n",
              "      <th>Profession</th>\n",
              "      <th>Work_Experience</th>\n",
              "      <th>Spending_Score</th>\n",
              "      <th>Family_Size</th>\n",
              "      <th>Segmentation</th>\n",
              "    </tr>\n",
              "  </thead>\n",
              "  <tbody>\n",
              "    <tr>\n",
              "      <th>0</th>\n",
              "      <td>Male</td>\n",
              "      <td>No</td>\n",
              "      <td>22</td>\n",
              "      <td>No</td>\n",
              "      <td>Healthcare</td>\n",
              "      <td>1.0</td>\n",
              "      <td>Low</td>\n",
              "      <td>4.0</td>\n",
              "      <td>D</td>\n",
              "    </tr>\n",
              "    <tr>\n",
              "      <th>1</th>\n",
              "      <td>Female</td>\n",
              "      <td>Yes</td>\n",
              "      <td>38</td>\n",
              "      <td>Yes</td>\n",
              "      <td>Engineer</td>\n",
              "      <td>NaN</td>\n",
              "      <td>Average</td>\n",
              "      <td>3.0</td>\n",
              "      <td>A</td>\n",
              "    </tr>\n",
              "    <tr>\n",
              "      <th>2</th>\n",
              "      <td>Female</td>\n",
              "      <td>Yes</td>\n",
              "      <td>67</td>\n",
              "      <td>Yes</td>\n",
              "      <td>Engineer</td>\n",
              "      <td>1.0</td>\n",
              "      <td>Low</td>\n",
              "      <td>1.0</td>\n",
              "      <td>B</td>\n",
              "    </tr>\n",
              "    <tr>\n",
              "      <th>3</th>\n",
              "      <td>Male</td>\n",
              "      <td>Yes</td>\n",
              "      <td>67</td>\n",
              "      <td>Yes</td>\n",
              "      <td>Lawyer</td>\n",
              "      <td>0.0</td>\n",
              "      <td>High</td>\n",
              "      <td>2.0</td>\n",
              "      <td>B</td>\n",
              "    </tr>\n",
              "    <tr>\n",
              "      <th>4</th>\n",
              "      <td>Female</td>\n",
              "      <td>Yes</td>\n",
              "      <td>40</td>\n",
              "      <td>Yes</td>\n",
              "      <td>Entertainment</td>\n",
              "      <td>NaN</td>\n",
              "      <td>High</td>\n",
              "      <td>6.0</td>\n",
              "      <td>A</td>\n",
              "    </tr>\n",
              "    <tr>\n",
              "      <th>...</th>\n",
              "      <td>...</td>\n",
              "      <td>...</td>\n",
              "      <td>...</td>\n",
              "      <td>...</td>\n",
              "      <td>...</td>\n",
              "      <td>...</td>\n",
              "      <td>...</td>\n",
              "      <td>...</td>\n",
              "      <td>...</td>\n",
              "    </tr>\n",
              "    <tr>\n",
              "      <th>8063</th>\n",
              "      <td>Male</td>\n",
              "      <td>No</td>\n",
              "      <td>22</td>\n",
              "      <td>No</td>\n",
              "      <td>NaN</td>\n",
              "      <td>0.0</td>\n",
              "      <td>Low</td>\n",
              "      <td>7.0</td>\n",
              "      <td>D</td>\n",
              "    </tr>\n",
              "    <tr>\n",
              "      <th>8064</th>\n",
              "      <td>Male</td>\n",
              "      <td>No</td>\n",
              "      <td>35</td>\n",
              "      <td>No</td>\n",
              "      <td>Executive</td>\n",
              "      <td>3.0</td>\n",
              "      <td>Low</td>\n",
              "      <td>4.0</td>\n",
              "      <td>D</td>\n",
              "    </tr>\n",
              "    <tr>\n",
              "      <th>8065</th>\n",
              "      <td>Female</td>\n",
              "      <td>No</td>\n",
              "      <td>33</td>\n",
              "      <td>Yes</td>\n",
              "      <td>Healthcare</td>\n",
              "      <td>1.0</td>\n",
              "      <td>Low</td>\n",
              "      <td>1.0</td>\n",
              "      <td>D</td>\n",
              "    </tr>\n",
              "    <tr>\n",
              "      <th>8066</th>\n",
              "      <td>Female</td>\n",
              "      <td>No</td>\n",
              "      <td>27</td>\n",
              "      <td>Yes</td>\n",
              "      <td>Healthcare</td>\n",
              "      <td>1.0</td>\n",
              "      <td>Low</td>\n",
              "      <td>4.0</td>\n",
              "      <td>B</td>\n",
              "    </tr>\n",
              "    <tr>\n",
              "      <th>8067</th>\n",
              "      <td>Male</td>\n",
              "      <td>Yes</td>\n",
              "      <td>37</td>\n",
              "      <td>Yes</td>\n",
              "      <td>Executive</td>\n",
              "      <td>0.0</td>\n",
              "      <td>Average</td>\n",
              "      <td>3.0</td>\n",
              "      <td>B</td>\n",
              "    </tr>\n",
              "  </tbody>\n",
              "</table>\n",
              "<p>8068 rows × 9 columns</p>\n",
              "</div>\n",
              "      <button class=\"colab-df-convert\" onclick=\"convertToInteractive('df-3e516607-01e5-4228-a364-e77b1ad33a23')\"\n",
              "              title=\"Convert this dataframe to an interactive table.\"\n",
              "              style=\"display:none;\">\n",
              "        \n",
              "  <svg xmlns=\"http://www.w3.org/2000/svg\" height=\"24px\"viewBox=\"0 0 24 24\"\n",
              "       width=\"24px\">\n",
              "    <path d=\"M0 0h24v24H0V0z\" fill=\"none\"/>\n",
              "    <path d=\"M18.56 5.44l.94 2.06.94-2.06 2.06-.94-2.06-.94-.94-2.06-.94 2.06-2.06.94zm-11 1L8.5 8.5l.94-2.06 2.06-.94-2.06-.94L8.5 2.5l-.94 2.06-2.06.94zm10 10l.94 2.06.94-2.06 2.06-.94-2.06-.94-.94-2.06-.94 2.06-2.06.94z\"/><path d=\"M17.41 7.96l-1.37-1.37c-.4-.4-.92-.59-1.43-.59-.52 0-1.04.2-1.43.59L10.3 9.45l-7.72 7.72c-.78.78-.78 2.05 0 2.83L4 21.41c.39.39.9.59 1.41.59.51 0 1.02-.2 1.41-.59l7.78-7.78 2.81-2.81c.8-.78.8-2.07 0-2.86zM5.41 20L4 18.59l7.72-7.72 1.47 1.35L5.41 20z\"/>\n",
              "  </svg>\n",
              "      </button>\n",
              "      \n",
              "  <style>\n",
              "    .colab-df-container {\n",
              "      display:flex;\n",
              "      flex-wrap:wrap;\n",
              "      gap: 12px;\n",
              "    }\n",
              "\n",
              "    .colab-df-convert {\n",
              "      background-color: #E8F0FE;\n",
              "      border: none;\n",
              "      border-radius: 50%;\n",
              "      cursor: pointer;\n",
              "      display: none;\n",
              "      fill: #1967D2;\n",
              "      height: 32px;\n",
              "      padding: 0 0 0 0;\n",
              "      width: 32px;\n",
              "    }\n",
              "\n",
              "    .colab-df-convert:hover {\n",
              "      background-color: #E2EBFA;\n",
              "      box-shadow: 0px 1px 2px rgba(60, 64, 67, 0.3), 0px 1px 3px 1px rgba(60, 64, 67, 0.15);\n",
              "      fill: #174EA6;\n",
              "    }\n",
              "\n",
              "    [theme=dark] .colab-df-convert {\n",
              "      background-color: #3B4455;\n",
              "      fill: #D2E3FC;\n",
              "    }\n",
              "\n",
              "    [theme=dark] .colab-df-convert:hover {\n",
              "      background-color: #434B5C;\n",
              "      box-shadow: 0px 1px 3px 1px rgba(0, 0, 0, 0.15);\n",
              "      filter: drop-shadow(0px 1px 2px rgba(0, 0, 0, 0.3));\n",
              "      fill: #FFFFFF;\n",
              "    }\n",
              "  </style>\n",
              "\n",
              "      <script>\n",
              "        const buttonEl =\n",
              "          document.querySelector('#df-3e516607-01e5-4228-a364-e77b1ad33a23 button.colab-df-convert');\n",
              "        buttonEl.style.display =\n",
              "          google.colab.kernel.accessAllowed ? 'block' : 'none';\n",
              "\n",
              "        async function convertToInteractive(key) {\n",
              "          const element = document.querySelector('#df-3e516607-01e5-4228-a364-e77b1ad33a23');\n",
              "          const dataTable =\n",
              "            await google.colab.kernel.invokeFunction('convertToInteractive',\n",
              "                                                     [key], {});\n",
              "          if (!dataTable) return;\n",
              "\n",
              "          const docLinkHtml = 'Like what you see? Visit the ' +\n",
              "            '<a target=\"_blank\" href=https://colab.research.google.com/notebooks/data_table.ipynb>data table notebook</a>'\n",
              "            + ' to learn more about interactive tables.';\n",
              "          element.innerHTML = '';\n",
              "          dataTable['output_type'] = 'display_data';\n",
              "          await google.colab.output.renderOutput(dataTable, element);\n",
              "          const docLink = document.createElement('div');\n",
              "          docLink.innerHTML = docLinkHtml;\n",
              "          element.appendChild(docLink);\n",
              "        }\n",
              "      </script>\n",
              "    </div>\n",
              "  </div>\n",
              "  "
            ]
          },
          "metadata": {},
          "execution_count": 3
        }
      ]
    },
    {
      "cell_type": "code",
      "source": [
        "df.isnull().sum()"
      ],
      "metadata": {
        "colab": {
          "base_uri": "https://localhost:8080/"
        },
        "id": "AGArCHuSr3Zc",
        "outputId": "92d04dfd-09d7-4106-b2fa-b14fd71a74ec"
      },
      "execution_count": null,
      "outputs": [
        {
          "output_type": "execute_result",
          "data": {
            "text/plain": [
              "Gender               0\n",
              "Ever_Married       140\n",
              "Age                  0\n",
              "Graduated           78\n",
              "Profession         124\n",
              "Work_Experience    829\n",
              "Spending_Score       0\n",
              "Family_Size        335\n",
              "Segmentation         0\n",
              "dtype: int64"
            ]
          },
          "metadata": {},
          "execution_count": 4
        }
      ]
    },
    {
      "cell_type": "code",
      "source": [
        "df = df.dropna(how = 'any')\n",
        "df.isnull().sum()"
      ],
      "metadata": {
        "colab": {
          "base_uri": "https://localhost:8080/"
        },
        "id": "cJAY4N75sAub",
        "outputId": "c31c461a-7b78-407c-9e42-b75850037bf2"
      },
      "execution_count": null,
      "outputs": [
        {
          "output_type": "execute_result",
          "data": {
            "text/plain": [
              "Gender             0\n",
              "Ever_Married       0\n",
              "Age                0\n",
              "Graduated          0\n",
              "Profession         0\n",
              "Work_Experience    0\n",
              "Spending_Score     0\n",
              "Family_Size        0\n",
              "Segmentation       0\n",
              "dtype: int64"
            ]
          },
          "metadata": {},
          "execution_count": 5
        }
      ]
    },
    {
      "cell_type": "code",
      "source": [
        "df.shape"
      ],
      "metadata": {
        "colab": {
          "base_uri": "https://localhost:8080/"
        },
        "id": "gepK6lc-sSSg",
        "outputId": "00112ec2-4d99-43a0-883b-ac372de1df45"
      },
      "execution_count": null,
      "outputs": [
        {
          "output_type": "execute_result",
          "data": {
            "text/plain": [
              "(6718, 9)"
            ]
          },
          "metadata": {},
          "execution_count": 6
        }
      ]
    },
    {
      "cell_type": "code",
      "source": [
        "df.info()"
      ],
      "metadata": {
        "colab": {
          "base_uri": "https://localhost:8080/"
        },
        "id": "ss6HjljJs10-",
        "outputId": "c4907f20-46cd-48f0-a4d7-237bb317a474"
      },
      "execution_count": null,
      "outputs": [
        {
          "output_type": "stream",
          "name": "stdout",
          "text": [
            "<class 'pandas.core.frame.DataFrame'>\n",
            "Int64Index: 6718 entries, 0 to 8067\n",
            "Data columns (total 9 columns):\n",
            " #   Column           Non-Null Count  Dtype  \n",
            "---  ------           --------------  -----  \n",
            " 0   Gender           6718 non-null   object \n",
            " 1   Ever_Married     6718 non-null   object \n",
            " 2   Age              6718 non-null   int64  \n",
            " 3   Graduated        6718 non-null   object \n",
            " 4   Profession       6718 non-null   object \n",
            " 5   Work_Experience  6718 non-null   float64\n",
            " 6   Spending_Score   6718 non-null   object \n",
            " 7   Family_Size      6718 non-null   float64\n",
            " 8   Segmentation     6718 non-null   object \n",
            "dtypes: float64(2), int64(1), object(6)\n",
            "memory usage: 524.8+ KB\n"
          ]
        }
      ]
    },
    {
      "cell_type": "code",
      "source": [
        "df['Family_Size'].value_counts()"
      ],
      "metadata": {
        "colab": {
          "base_uri": "https://localhost:8080/"
        },
        "id": "aT05jFQ6soRH",
        "outputId": "136e113e-79a9-42a5-986f-d4ed447e0f4d"
      },
      "execution_count": null,
      "outputs": [
        {
          "output_type": "execute_result",
          "data": {
            "text/plain": [
              "2.0    2109\n",
              "3.0    1302\n",
              "1.0    1251\n",
              "4.0    1184\n",
              "5.0     531\n",
              "6.0     180\n",
              "7.0      81\n",
              "8.0      42\n",
              "9.0      38\n",
              "Name: Family_Size, dtype: int64"
            ]
          },
          "metadata": {},
          "execution_count": 8
        }
      ]
    },
    {
      "cell_type": "code",
      "source": [
        "df = df[df['Family_Size'] < 7.0]\n",
        "df.shape"
      ],
      "metadata": {
        "colab": {
          "base_uri": "https://localhost:8080/"
        },
        "id": "78f92MXLsUiP",
        "outputId": "ec0b82aa-68ee-4e63-c771-da74176ffe53"
      },
      "execution_count": null,
      "outputs": [
        {
          "output_type": "execute_result",
          "data": {
            "text/plain": [
              "(6557, 9)"
            ]
          },
          "metadata": {},
          "execution_count": 10
        }
      ]
    },
    {
      "cell_type": "code",
      "source": [
        "df['Family_Size'].value_counts()"
      ],
      "metadata": {
        "colab": {
          "base_uri": "https://localhost:8080/"
        },
        "id": "eLn3yNIXtC7v",
        "outputId": "514e66b8-22a7-4087-cb51-3164241322ea"
      },
      "execution_count": null,
      "outputs": [
        {
          "output_type": "execute_result",
          "data": {
            "text/plain": [
              "2.0    2109\n",
              "3.0    1302\n",
              "1.0    1251\n",
              "4.0    1184\n",
              "5.0     531\n",
              "6.0     180\n",
              "Name: Family_Size, dtype: int64"
            ]
          },
          "metadata": {},
          "execution_count": 11
        }
      ]
    },
    {
      "cell_type": "code",
      "source": [
        "df.info()"
      ],
      "metadata": {
        "colab": {
          "base_uri": "https://localhost:8080/"
        },
        "id": "YedLCL-btEdP",
        "outputId": "2593641e-212f-440e-a725-3dab19d23119"
      },
      "execution_count": null,
      "outputs": [
        {
          "output_type": "stream",
          "name": "stdout",
          "text": [
            "<class 'pandas.core.frame.DataFrame'>\n",
            "Int64Index: 6557 entries, 0 to 8067\n",
            "Data columns (total 9 columns):\n",
            " #   Column           Non-Null Count  Dtype  \n",
            "---  ------           --------------  -----  \n",
            " 0   Gender           6557 non-null   object \n",
            " 1   Ever_Married     6557 non-null   object \n",
            " 2   Age              6557 non-null   int64  \n",
            " 3   Graduated        6557 non-null   object \n",
            " 4   Profession       6557 non-null   object \n",
            " 5   Work_Experience  6557 non-null   float64\n",
            " 6   Spending_Score   6557 non-null   object \n",
            " 7   Family_Size      6557 non-null   float64\n",
            " 8   Segmentation     6557 non-null   object \n",
            "dtypes: float64(2), int64(1), object(6)\n",
            "memory usage: 512.3+ KB\n"
          ]
        }
      ]
    },
    {
      "cell_type": "code",
      "source": [
        "df['Segmentation'].value_counts()"
      ],
      "metadata": {
        "colab": {
          "base_uri": "https://localhost:8080/"
        },
        "id": "IZcC0ewZtdhH",
        "outputId": "8f4b4f07-0f86-418e-93b4-a9825afa29b6"
      },
      "execution_count": null,
      "outputs": [
        {
          "output_type": "execute_result",
          "data": {
            "text/plain": [
              "D    1704\n",
              "C    1701\n",
              "A    1590\n",
              "B    1562\n",
              "Name: Segmentation, dtype: int64"
            ]
          },
          "metadata": {},
          "execution_count": 13
        }
      ]
    },
    {
      "cell_type": "code",
      "source": [
        "from sklearn import preprocessing\n",
        "le = preprocessing.LabelEncoder()\n",
        "le.fit(['A','B','C','D'])\n",
        "df['Segmentation'] = le.transform(df['Segmentation'])\n",
        "df['Segmentation'].value_counts()"
      ],
      "metadata": {
        "colab": {
          "base_uri": "https://localhost:8080/"
        },
        "id": "kSmePI7Otwbf",
        "outputId": "03586c31-2e6e-47dc-ab84-280c2502afa2"
      },
      "execution_count": null,
      "outputs": [
        {
          "output_type": "execute_result",
          "data": {
            "text/plain": [
              "3    1704\n",
              "2    1701\n",
              "0    1590\n",
              "1    1562\n",
              "Name: Segmentation, dtype: int64"
            ]
          },
          "metadata": {},
          "execution_count": 15
        }
      ]
    },
    {
      "cell_type": "markdown",
      "source": [
        "## Since the target variable 'Segmentation' is categorical and has more than 2 classes, we can conclude that the problem is of multi-class classification"
      ],
      "metadata": {
        "id": "14HIunHhvPB3"
      }
    },
    {
      "cell_type": "code",
      "source": [
        "X = df.drop('Segmentation',axis = 1)\n",
        "y = df['Segmentation']\n",
        "\n",
        "X.shape,y.shape"
      ],
      "metadata": {
        "colab": {
          "base_uri": "https://localhost:8080/"
        },
        "id": "DWDh3nHMvBc2",
        "outputId": "f4e98289-dbe2-4f7a-8208-556d80eb5d26"
      },
      "execution_count": null,
      "outputs": [
        {
          "output_type": "execute_result",
          "data": {
            "text/plain": [
              "((6557, 8), (6557,))"
            ]
          },
          "metadata": {},
          "execution_count": 16
        }
      ]
    },
    {
      "cell_type": "code",
      "source": [
        "X.info()"
      ],
      "metadata": {
        "colab": {
          "base_uri": "https://localhost:8080/"
        },
        "id": "1T7pfnHivql3",
        "outputId": "2d550507-535e-4b13-cce3-5d95bb8c69b2"
      },
      "execution_count": null,
      "outputs": [
        {
          "output_type": "stream",
          "name": "stdout",
          "text": [
            "<class 'pandas.core.frame.DataFrame'>\n",
            "Int64Index: 6557 entries, 0 to 8067\n",
            "Data columns (total 8 columns):\n",
            " #   Column           Non-Null Count  Dtype  \n",
            "---  ------           --------------  -----  \n",
            " 0   Gender           6557 non-null   object \n",
            " 1   Ever_Married     6557 non-null   object \n",
            " 2   Age              6557 non-null   int64  \n",
            " 3   Graduated        6557 non-null   object \n",
            " 4   Profession       6557 non-null   object \n",
            " 5   Work_Experience  6557 non-null   float64\n",
            " 6   Spending_Score   6557 non-null   object \n",
            " 7   Family_Size      6557 non-null   float64\n",
            "dtypes: float64(2), int64(1), object(5)\n",
            "memory usage: 461.0+ KB\n"
          ]
        }
      ]
    },
    {
      "cell_type": "code",
      "source": [
        "X = pd.get_dummies(X)\n",
        "X.shape"
      ],
      "metadata": {
        "colab": {
          "base_uri": "https://localhost:8080/"
        },
        "id": "Elb33EC7vsaH",
        "outputId": "07cfa061-9bcf-48e0-fd5e-0dd00c520b37"
      },
      "execution_count": null,
      "outputs": [
        {
          "output_type": "execute_result",
          "data": {
            "text/plain": [
              "(6557, 21)"
            ]
          },
          "metadata": {},
          "execution_count": 18
        }
      ]
    },
    {
      "cell_type": "code",
      "source": [
        "X"
      ],
      "metadata": {
        "colab": {
          "base_uri": "https://localhost:8080/",
          "height": 488
        },
        "id": "mGS1GIgxv8nm",
        "outputId": "f8c33dd8-4066-4f9f-fd5f-e8127fa7e3db"
      },
      "execution_count": null,
      "outputs": [
        {
          "output_type": "execute_result",
          "data": {
            "text/plain": [
              "      Age  Work_Experience  Family_Size  Gender_Female  Gender_Male  \\\n",
              "0      22              1.0          4.0              0            1   \n",
              "2      67              1.0          1.0              1            0   \n",
              "3      67              0.0          2.0              0            1   \n",
              "5      56              0.0          2.0              0            1   \n",
              "6      32              1.0          3.0              0            1   \n",
              "...   ...              ...          ...            ...          ...   \n",
              "8062   41              0.0          5.0              0            1   \n",
              "8064   35              3.0          4.0              0            1   \n",
              "8065   33              1.0          1.0              1            0   \n",
              "8066   27              1.0          4.0              1            0   \n",
              "8067   37              0.0          3.0              0            1   \n",
              "\n",
              "      Ever_Married_No  Ever_Married_Yes  Graduated_No  Graduated_Yes  \\\n",
              "0                   1                 0             1              0   \n",
              "2                   0                 1             0              1   \n",
              "3                   0                 1             0              1   \n",
              "5                   0                 1             1              0   \n",
              "6                   1                 0             0              1   \n",
              "...               ...               ...           ...            ...   \n",
              "8062                0                 1             0              1   \n",
              "8064                1                 0             1              0   \n",
              "8065                1                 0             0              1   \n",
              "8066                1                 0             0              1   \n",
              "8067                0                 1             0              1   \n",
              "\n",
              "      Profession_Artist  ...  Profession_Engineer  Profession_Entertainment  \\\n",
              "0                     0  ...                    0                         0   \n",
              "2                     0  ...                    1                         0   \n",
              "3                     0  ...                    0                         0   \n",
              "5                     1  ...                    0                         0   \n",
              "6                     0  ...                    0                         0   \n",
              "...                 ...  ...                  ...                       ...   \n",
              "8062                  1  ...                    0                         0   \n",
              "8064                  0  ...                    0                         0   \n",
              "8065                  0  ...                    0                         0   \n",
              "8066                  0  ...                    0                         0   \n",
              "8067                  0  ...                    0                         0   \n",
              "\n",
              "      Profession_Executive  Profession_Healthcare  Profession_Homemaker  \\\n",
              "0                        0                      1                     0   \n",
              "2                        0                      0                     0   \n",
              "3                        0                      0                     0   \n",
              "5                        0                      0                     0   \n",
              "6                        0                      1                     0   \n",
              "...                    ...                    ...                   ...   \n",
              "8062                     0                      0                     0   \n",
              "8064                     1                      0                     0   \n",
              "8065                     0                      1                     0   \n",
              "8066                     0                      1                     0   \n",
              "8067                     1                      0                     0   \n",
              "\n",
              "      Profession_Lawyer  Profession_Marketing  Spending_Score_Average  \\\n",
              "0                     0                     0                       0   \n",
              "2                     0                     0                       0   \n",
              "3                     1                     0                       0   \n",
              "5                     0                     0                       1   \n",
              "6                     0                     0                       0   \n",
              "...                 ...                   ...                     ...   \n",
              "8062                  0                     0                       0   \n",
              "8064                  0                     0                       0   \n",
              "8065                  0                     0                       0   \n",
              "8066                  0                     0                       0   \n",
              "8067                  0                     0                       1   \n",
              "\n",
              "      Spending_Score_High  Spending_Score_Low  \n",
              "0                       0                   1  \n",
              "2                       0                   1  \n",
              "3                       1                   0  \n",
              "5                       0                   0  \n",
              "6                       0                   1  \n",
              "...                   ...                 ...  \n",
              "8062                    1                   0  \n",
              "8064                    0                   1  \n",
              "8065                    0                   1  \n",
              "8066                    0                   1  \n",
              "8067                    0                   0  \n",
              "\n",
              "[6557 rows x 21 columns]"
            ],
            "text/html": [
              "\n",
              "  <div id=\"df-090a709d-4c00-4a6c-94fb-38957f0c9d07\">\n",
              "    <div class=\"colab-df-container\">\n",
              "      <div>\n",
              "<style scoped>\n",
              "    .dataframe tbody tr th:only-of-type {\n",
              "        vertical-align: middle;\n",
              "    }\n",
              "\n",
              "    .dataframe tbody tr th {\n",
              "        vertical-align: top;\n",
              "    }\n",
              "\n",
              "    .dataframe thead th {\n",
              "        text-align: right;\n",
              "    }\n",
              "</style>\n",
              "<table border=\"1\" class=\"dataframe\">\n",
              "  <thead>\n",
              "    <tr style=\"text-align: right;\">\n",
              "      <th></th>\n",
              "      <th>Age</th>\n",
              "      <th>Work_Experience</th>\n",
              "      <th>Family_Size</th>\n",
              "      <th>Gender_Female</th>\n",
              "      <th>Gender_Male</th>\n",
              "      <th>Ever_Married_No</th>\n",
              "      <th>Ever_Married_Yes</th>\n",
              "      <th>Graduated_No</th>\n",
              "      <th>Graduated_Yes</th>\n",
              "      <th>Profession_Artist</th>\n",
              "      <th>...</th>\n",
              "      <th>Profession_Engineer</th>\n",
              "      <th>Profession_Entertainment</th>\n",
              "      <th>Profession_Executive</th>\n",
              "      <th>Profession_Healthcare</th>\n",
              "      <th>Profession_Homemaker</th>\n",
              "      <th>Profession_Lawyer</th>\n",
              "      <th>Profession_Marketing</th>\n",
              "      <th>Spending_Score_Average</th>\n",
              "      <th>Spending_Score_High</th>\n",
              "      <th>Spending_Score_Low</th>\n",
              "    </tr>\n",
              "  </thead>\n",
              "  <tbody>\n",
              "    <tr>\n",
              "      <th>0</th>\n",
              "      <td>22</td>\n",
              "      <td>1.0</td>\n",
              "      <td>4.0</td>\n",
              "      <td>0</td>\n",
              "      <td>1</td>\n",
              "      <td>1</td>\n",
              "      <td>0</td>\n",
              "      <td>1</td>\n",
              "      <td>0</td>\n",
              "      <td>0</td>\n",
              "      <td>...</td>\n",
              "      <td>0</td>\n",
              "      <td>0</td>\n",
              "      <td>0</td>\n",
              "      <td>1</td>\n",
              "      <td>0</td>\n",
              "      <td>0</td>\n",
              "      <td>0</td>\n",
              "      <td>0</td>\n",
              "      <td>0</td>\n",
              "      <td>1</td>\n",
              "    </tr>\n",
              "    <tr>\n",
              "      <th>2</th>\n",
              "      <td>67</td>\n",
              "      <td>1.0</td>\n",
              "      <td>1.0</td>\n",
              "      <td>1</td>\n",
              "      <td>0</td>\n",
              "      <td>0</td>\n",
              "      <td>1</td>\n",
              "      <td>0</td>\n",
              "      <td>1</td>\n",
              "      <td>0</td>\n",
              "      <td>...</td>\n",
              "      <td>1</td>\n",
              "      <td>0</td>\n",
              "      <td>0</td>\n",
              "      <td>0</td>\n",
              "      <td>0</td>\n",
              "      <td>0</td>\n",
              "      <td>0</td>\n",
              "      <td>0</td>\n",
              "      <td>0</td>\n",
              "      <td>1</td>\n",
              "    </tr>\n",
              "    <tr>\n",
              "      <th>3</th>\n",
              "      <td>67</td>\n",
              "      <td>0.0</td>\n",
              "      <td>2.0</td>\n",
              "      <td>0</td>\n",
              "      <td>1</td>\n",
              "      <td>0</td>\n",
              "      <td>1</td>\n",
              "      <td>0</td>\n",
              "      <td>1</td>\n",
              "      <td>0</td>\n",
              "      <td>...</td>\n",
              "      <td>0</td>\n",
              "      <td>0</td>\n",
              "      <td>0</td>\n",
              "      <td>0</td>\n",
              "      <td>0</td>\n",
              "      <td>1</td>\n",
              "      <td>0</td>\n",
              "      <td>0</td>\n",
              "      <td>1</td>\n",
              "      <td>0</td>\n",
              "    </tr>\n",
              "    <tr>\n",
              "      <th>5</th>\n",
              "      <td>56</td>\n",
              "      <td>0.0</td>\n",
              "      <td>2.0</td>\n",
              "      <td>0</td>\n",
              "      <td>1</td>\n",
              "      <td>0</td>\n",
              "      <td>1</td>\n",
              "      <td>1</td>\n",
              "      <td>0</td>\n",
              "      <td>1</td>\n",
              "      <td>...</td>\n",
              "      <td>0</td>\n",
              "      <td>0</td>\n",
              "      <td>0</td>\n",
              "      <td>0</td>\n",
              "      <td>0</td>\n",
              "      <td>0</td>\n",
              "      <td>0</td>\n",
              "      <td>1</td>\n",
              "      <td>0</td>\n",
              "      <td>0</td>\n",
              "    </tr>\n",
              "    <tr>\n",
              "      <th>6</th>\n",
              "      <td>32</td>\n",
              "      <td>1.0</td>\n",
              "      <td>3.0</td>\n",
              "      <td>0</td>\n",
              "      <td>1</td>\n",
              "      <td>1</td>\n",
              "      <td>0</td>\n",
              "      <td>0</td>\n",
              "      <td>1</td>\n",
              "      <td>0</td>\n",
              "      <td>...</td>\n",
              "      <td>0</td>\n",
              "      <td>0</td>\n",
              "      <td>0</td>\n",
              "      <td>1</td>\n",
              "      <td>0</td>\n",
              "      <td>0</td>\n",
              "      <td>0</td>\n",
              "      <td>0</td>\n",
              "      <td>0</td>\n",
              "      <td>1</td>\n",
              "    </tr>\n",
              "    <tr>\n",
              "      <th>...</th>\n",
              "      <td>...</td>\n",
              "      <td>...</td>\n",
              "      <td>...</td>\n",
              "      <td>...</td>\n",
              "      <td>...</td>\n",
              "      <td>...</td>\n",
              "      <td>...</td>\n",
              "      <td>...</td>\n",
              "      <td>...</td>\n",
              "      <td>...</td>\n",
              "      <td>...</td>\n",
              "      <td>...</td>\n",
              "      <td>...</td>\n",
              "      <td>...</td>\n",
              "      <td>...</td>\n",
              "      <td>...</td>\n",
              "      <td>...</td>\n",
              "      <td>...</td>\n",
              "      <td>...</td>\n",
              "      <td>...</td>\n",
              "      <td>...</td>\n",
              "    </tr>\n",
              "    <tr>\n",
              "      <th>8062</th>\n",
              "      <td>41</td>\n",
              "      <td>0.0</td>\n",
              "      <td>5.0</td>\n",
              "      <td>0</td>\n",
              "      <td>1</td>\n",
              "      <td>0</td>\n",
              "      <td>1</td>\n",
              "      <td>0</td>\n",
              "      <td>1</td>\n",
              "      <td>1</td>\n",
              "      <td>...</td>\n",
              "      <td>0</td>\n",
              "      <td>0</td>\n",
              "      <td>0</td>\n",
              "      <td>0</td>\n",
              "      <td>0</td>\n",
              "      <td>0</td>\n",
              "      <td>0</td>\n",
              "      <td>0</td>\n",
              "      <td>1</td>\n",
              "      <td>0</td>\n",
              "    </tr>\n",
              "    <tr>\n",
              "      <th>8064</th>\n",
              "      <td>35</td>\n",
              "      <td>3.0</td>\n",
              "      <td>4.0</td>\n",
              "      <td>0</td>\n",
              "      <td>1</td>\n",
              "      <td>1</td>\n",
              "      <td>0</td>\n",
              "      <td>1</td>\n",
              "      <td>0</td>\n",
              "      <td>0</td>\n",
              "      <td>...</td>\n",
              "      <td>0</td>\n",
              "      <td>0</td>\n",
              "      <td>1</td>\n",
              "      <td>0</td>\n",
              "      <td>0</td>\n",
              "      <td>0</td>\n",
              "      <td>0</td>\n",
              "      <td>0</td>\n",
              "      <td>0</td>\n",
              "      <td>1</td>\n",
              "    </tr>\n",
              "    <tr>\n",
              "      <th>8065</th>\n",
              "      <td>33</td>\n",
              "      <td>1.0</td>\n",
              "      <td>1.0</td>\n",
              "      <td>1</td>\n",
              "      <td>0</td>\n",
              "      <td>1</td>\n",
              "      <td>0</td>\n",
              "      <td>0</td>\n",
              "      <td>1</td>\n",
              "      <td>0</td>\n",
              "      <td>...</td>\n",
              "      <td>0</td>\n",
              "      <td>0</td>\n",
              "      <td>0</td>\n",
              "      <td>1</td>\n",
              "      <td>0</td>\n",
              "      <td>0</td>\n",
              "      <td>0</td>\n",
              "      <td>0</td>\n",
              "      <td>0</td>\n",
              "      <td>1</td>\n",
              "    </tr>\n",
              "    <tr>\n",
              "      <th>8066</th>\n",
              "      <td>27</td>\n",
              "      <td>1.0</td>\n",
              "      <td>4.0</td>\n",
              "      <td>1</td>\n",
              "      <td>0</td>\n",
              "      <td>1</td>\n",
              "      <td>0</td>\n",
              "      <td>0</td>\n",
              "      <td>1</td>\n",
              "      <td>0</td>\n",
              "      <td>...</td>\n",
              "      <td>0</td>\n",
              "      <td>0</td>\n",
              "      <td>0</td>\n",
              "      <td>1</td>\n",
              "      <td>0</td>\n",
              "      <td>0</td>\n",
              "      <td>0</td>\n",
              "      <td>0</td>\n",
              "      <td>0</td>\n",
              "      <td>1</td>\n",
              "    </tr>\n",
              "    <tr>\n",
              "      <th>8067</th>\n",
              "      <td>37</td>\n",
              "      <td>0.0</td>\n",
              "      <td>3.0</td>\n",
              "      <td>0</td>\n",
              "      <td>1</td>\n",
              "      <td>0</td>\n",
              "      <td>1</td>\n",
              "      <td>0</td>\n",
              "      <td>1</td>\n",
              "      <td>0</td>\n",
              "      <td>...</td>\n",
              "      <td>0</td>\n",
              "      <td>0</td>\n",
              "      <td>1</td>\n",
              "      <td>0</td>\n",
              "      <td>0</td>\n",
              "      <td>0</td>\n",
              "      <td>0</td>\n",
              "      <td>1</td>\n",
              "      <td>0</td>\n",
              "      <td>0</td>\n",
              "    </tr>\n",
              "  </tbody>\n",
              "</table>\n",
              "<p>6557 rows × 21 columns</p>\n",
              "</div>\n",
              "      <button class=\"colab-df-convert\" onclick=\"convertToInteractive('df-090a709d-4c00-4a6c-94fb-38957f0c9d07')\"\n",
              "              title=\"Convert this dataframe to an interactive table.\"\n",
              "              style=\"display:none;\">\n",
              "        \n",
              "  <svg xmlns=\"http://www.w3.org/2000/svg\" height=\"24px\"viewBox=\"0 0 24 24\"\n",
              "       width=\"24px\">\n",
              "    <path d=\"M0 0h24v24H0V0z\" fill=\"none\"/>\n",
              "    <path d=\"M18.56 5.44l.94 2.06.94-2.06 2.06-.94-2.06-.94-.94-2.06-.94 2.06-2.06.94zm-11 1L8.5 8.5l.94-2.06 2.06-.94-2.06-.94L8.5 2.5l-.94 2.06-2.06.94zm10 10l.94 2.06.94-2.06 2.06-.94-2.06-.94-.94-2.06-.94 2.06-2.06.94z\"/><path d=\"M17.41 7.96l-1.37-1.37c-.4-.4-.92-.59-1.43-.59-.52 0-1.04.2-1.43.59L10.3 9.45l-7.72 7.72c-.78.78-.78 2.05 0 2.83L4 21.41c.39.39.9.59 1.41.59.51 0 1.02-.2 1.41-.59l7.78-7.78 2.81-2.81c.8-.78.8-2.07 0-2.86zM5.41 20L4 18.59l7.72-7.72 1.47 1.35L5.41 20z\"/>\n",
              "  </svg>\n",
              "      </button>\n",
              "      \n",
              "  <style>\n",
              "    .colab-df-container {\n",
              "      display:flex;\n",
              "      flex-wrap:wrap;\n",
              "      gap: 12px;\n",
              "    }\n",
              "\n",
              "    .colab-df-convert {\n",
              "      background-color: #E8F0FE;\n",
              "      border: none;\n",
              "      border-radius: 50%;\n",
              "      cursor: pointer;\n",
              "      display: none;\n",
              "      fill: #1967D2;\n",
              "      height: 32px;\n",
              "      padding: 0 0 0 0;\n",
              "      width: 32px;\n",
              "    }\n",
              "\n",
              "    .colab-df-convert:hover {\n",
              "      background-color: #E2EBFA;\n",
              "      box-shadow: 0px 1px 2px rgba(60, 64, 67, 0.3), 0px 1px 3px 1px rgba(60, 64, 67, 0.15);\n",
              "      fill: #174EA6;\n",
              "    }\n",
              "\n",
              "    [theme=dark] .colab-df-convert {\n",
              "      background-color: #3B4455;\n",
              "      fill: #D2E3FC;\n",
              "    }\n",
              "\n",
              "    [theme=dark] .colab-df-convert:hover {\n",
              "      background-color: #434B5C;\n",
              "      box-shadow: 0px 1px 3px 1px rgba(0, 0, 0, 0.15);\n",
              "      filter: drop-shadow(0px 1px 2px rgba(0, 0, 0, 0.3));\n",
              "      fill: #FFFFFF;\n",
              "    }\n",
              "  </style>\n",
              "\n",
              "      <script>\n",
              "        const buttonEl =\n",
              "          document.querySelector('#df-090a709d-4c00-4a6c-94fb-38957f0c9d07 button.colab-df-convert');\n",
              "        buttonEl.style.display =\n",
              "          google.colab.kernel.accessAllowed ? 'block' : 'none';\n",
              "\n",
              "        async function convertToInteractive(key) {\n",
              "          const element = document.querySelector('#df-090a709d-4c00-4a6c-94fb-38957f0c9d07');\n",
              "          const dataTable =\n",
              "            await google.colab.kernel.invokeFunction('convertToInteractive',\n",
              "                                                     [key], {});\n",
              "          if (!dataTable) return;\n",
              "\n",
              "          const docLinkHtml = 'Like what you see? Visit the ' +\n",
              "            '<a target=\"_blank\" href=https://colab.research.google.com/notebooks/data_table.ipynb>data table notebook</a>'\n",
              "            + ' to learn more about interactive tables.';\n",
              "          element.innerHTML = '';\n",
              "          dataTable['output_type'] = 'display_data';\n",
              "          await google.colab.output.renderOutput(dataTable, element);\n",
              "          const docLink = document.createElement('div');\n",
              "          docLink.innerHTML = docLinkHtml;\n",
              "          element.appendChild(docLink);\n",
              "        }\n",
              "      </script>\n",
              "    </div>\n",
              "  </div>\n",
              "  "
            ]
          },
          "metadata": {},
          "execution_count": 19
        }
      ]
    },
    {
      "cell_type": "code",
      "source": [
        "from sklearn.preprocessing import StandardScaler\n",
        "\n",
        "sc=StandardScaler()\n",
        "\n",
        "X_scaled=sc.fit_transform(X)\n",
        "X_scaled"
      ],
      "metadata": {
        "colab": {
          "base_uri": "https://localhost:8080/"
        },
        "id": "xPFOmr4ev93G",
        "outputId": "cd14f0d4-9f70-466f-9551-e9337b6e9d76"
      },
      "execution_count": null,
      "outputs": [
        {
          "output_type": "execute_result",
          "data": {
            "text/plain": [
              "array([[-1.31657656, -0.47807376,  0.96388   , ..., -0.58128326,\n",
              "        -0.42069939,  0.82148668],\n",
              "       [ 1.40855488, -0.47807376, -1.29816766, ..., -0.58128326,\n",
              "        -0.42069939,  0.82148668],\n",
              "       [ 1.40855488, -0.77183533, -0.54415177, ..., -0.58128326,\n",
              "         2.3769942 , -1.2173052 ],\n",
              "       ...,\n",
              "       [-0.65043332, -0.47807376, -1.29816766, ..., -0.58128326,\n",
              "        -0.42069939,  0.82148668],\n",
              "       [-1.01378417, -0.47807376,  0.96388   , ..., -0.58128326,\n",
              "        -0.42069939,  0.82148668],\n",
              "       [-0.40819941, -0.77183533,  0.20986411, ...,  1.72033167,\n",
              "        -0.42069939, -1.2173052 ]])"
            ]
          },
          "metadata": {},
          "execution_count": 20
        }
      ]
    },
    {
      "cell_type": "code",
      "source": [
        "from sklearn.model_selection import train_test_split\n",
        "X_train,X_test,y_train,y_test=train_test_split(X_scaled,y, test_size=0.2, random_state=10)\n",
        "\n",
        "X_train.shape,X_test.shape,y_train.shape,y_test.shape"
      ],
      "metadata": {
        "colab": {
          "base_uri": "https://localhost:8080/"
        },
        "id": "CaqjtbxVwar2",
        "outputId": "37b08f83-5944-463d-ef35-e0f86f4ef04b"
      },
      "execution_count": null,
      "outputs": [
        {
          "output_type": "execute_result",
          "data": {
            "text/plain": [
              "((5245, 21), (1312, 21), (5245,), (1312,))"
            ]
          },
          "metadata": {},
          "execution_count": 21
        }
      ]
    },
    {
      "cell_type": "markdown",
      "source": [
        "2.\tBuild a Multi-Layer Perceptron Neural Network model with only one hidden layer with validation data size to be 20%. Explain the reason of choosing the number of units in each layer, selection of activation function and loss function. Train and evaluate the model. Comment on the performance of the model."
      ],
      "metadata": {
        "id": "35jYJzjny089"
      }
    },
    {
      "cell_type": "markdown",
      "source": [
        "### Building the model"
      ],
      "metadata": {
        "id": "9H4Cv00fxAF1"
      }
    },
    {
      "cell_type": "code",
      "source": [
        "model_1=tf.keras.Sequential()\n",
        "#Hidden layer, therefore number of neuron can be anything, activation = relu since it is most widely used when not specified otherwise\n",
        "model_1.add(tf.keras.layers.Dense(10,activation='relu'))\n",
        "#Output layer; therefore number of neuron = number of classes, ie 4, since it is multicalss classification, therefore activation = softmax\n",
        "model_1.add(tf.keras.layers.Dense(4,activation='softmax'))\n",
        "\n",
        "# Compiling the model\n",
        "model_1.compile(loss=tf.keras.losses.SparseCategoricalCrossentropy(),optimizer=tf.keras.optimizers.Adam(),metrics=['accuracy'])\n",
        "#Loss fucntion = SparseCategoricalCrossentropy() since it is multiclass classification\n",
        "#Metric = 'accuracy' since it is a classification problem\n",
        "#optimizer = Adam() since that is the most widely used\n",
        "\n",
        "# Training\n",
        "tf.random.set_seed(10)\n",
        "## Validation split\n",
        "hist_1=model_1.fit(X_train,y_train,epochs=10, validation_split=0.2)\n",
        "pd.DataFrame(hist_1.history).plot();\n",
        "\n",
        "print(' Evaluation Result:\\n')\n",
        "model_1.evaluate(X_test,y_test)"
      ],
      "metadata": {
        "colab": {
          "base_uri": "https://localhost:8080/",
          "height": 682
        },
        "id": "3kV40AmfwzZm",
        "outputId": "f652cf5a-461b-47c9-e2e5-92add88bdddd"
      },
      "execution_count": null,
      "outputs": [
        {
          "output_type": "stream",
          "name": "stdout",
          "text": [
            "Epoch 1/10\n",
            "132/132 [==============================] - 2s 4ms/step - loss: 1.4433 - accuracy: 0.3360 - val_loss: 1.3374 - val_accuracy: 0.3985\n",
            "Epoch 2/10\n",
            "132/132 [==============================] - 0s 3ms/step - loss: 1.2438 - accuracy: 0.4418 - val_loss: 1.2222 - val_accuracy: 0.4566\n",
            "Epoch 3/10\n",
            "132/132 [==============================] - 0s 2ms/step - loss: 1.1691 - accuracy: 0.4805 - val_loss: 1.1758 - val_accuracy: 0.4652\n",
            "Epoch 4/10\n",
            "132/132 [==============================] - 0s 2ms/step - loss: 1.1378 - accuracy: 0.5007 - val_loss: 1.1547 - val_accuracy: 0.4814\n",
            "Epoch 5/10\n",
            "132/132 [==============================] - 0s 2ms/step - loss: 1.1207 - accuracy: 0.5110 - val_loss: 1.1418 - val_accuracy: 0.4909\n",
            "Epoch 6/10\n",
            "132/132 [==============================] - 0s 2ms/step - loss: 1.1089 - accuracy: 0.5176 - val_loss: 1.1325 - val_accuracy: 0.4938\n",
            "Epoch 7/10\n",
            "132/132 [==============================] - 0s 4ms/step - loss: 1.1002 - accuracy: 0.5241 - val_loss: 1.1251 - val_accuracy: 0.4976\n",
            "Epoch 8/10\n",
            "132/132 [==============================] - 1s 6ms/step - loss: 1.0933 - accuracy: 0.5255 - val_loss: 1.1202 - val_accuracy: 0.4948\n",
            "Epoch 9/10\n",
            "132/132 [==============================] - 1s 7ms/step - loss: 1.0885 - accuracy: 0.5274 - val_loss: 1.1164 - val_accuracy: 0.4957\n",
            "Epoch 10/10\n",
            "132/132 [==============================] - 0s 2ms/step - loss: 1.0849 - accuracy: 0.5243 - val_loss: 1.1116 - val_accuracy: 0.4976\n",
            " Evaluation Result:\n",
            "\n",
            "41/41 [==============================] - 0s 2ms/step - loss: 1.0857 - accuracy: 0.5183\n"
          ]
        },
        {
          "output_type": "execute_result",
          "data": {
            "text/plain": [
              "[1.0856956243515015, 0.5182926654815674]"
            ]
          },
          "metadata": {},
          "execution_count": 22
        },
        {
          "output_type": "display_data",
          "data": {
            "text/plain": [
              "<Figure size 432x288 with 1 Axes>"
            ],
            "image/png": "[encoded data removed]"
          },
          "metadata": {
            "needs_background": "light"
          }
        }
      ]
    },
    {
      "cell_type": "code",
      "source": [
        "print('Test Evaluation Result:\\n')\n",
        "model_1.evaluate(X_test,y_test)"
      ],
      "metadata": {
        "colab": {
          "base_uri": "https://localhost:8080/"
        },
        "id": "EMz4rxUQy-R8",
        "outputId": "19f9db5d-0284-422f-f681-e714c4009288"
      },
      "execution_count": null,
      "outputs": [
        {
          "output_type": "stream",
          "name": "stdout",
          "text": [
            "Test Evaluation Result:\n",
            "\n",
            "41/41 [==============================] - 0s 3ms/step - loss: 1.0857 - accuracy: 0.5183\n"
          ]
        },
        {
          "output_type": "execute_result",
          "data": {
            "text/plain": [
              "[1.0856956243515015, 0.5182926654815674]"
            ]
          },
          "metadata": {},
          "execution_count": 23
        }
      ]
    },
    {
      "cell_type": "markdown",
      "source": [
        "#Remark 1\n",
        "\n",
        "Train loss = 1.0849;\n",
        "Test loss = 1.0857\n",
        "\n",
        "The model does not seem to suffer from overfitting or underfitting"
      ],
      "metadata": {
        "id": "cOOpqoh6zlxc"
      }
    },
    {
      "cell_type": "markdown",
      "source": [
        "3.\tImprove the model by incorporating callbacks with patience value of 3. Comment on the result. Create another model by performing Dropout with a rate of 0.1. Does it help for getting better results? Briefly explain."
      ],
      "metadata": {
        "id": "DSzQL0Woz5KU"
      }
    },
    {
      "cell_type": "code",
      "source": [
        "model_2=tf.keras.Sequential()\n",
        "#Hidden layer, therefore number of neuron can be anything, activation = relu since it is most widely used when not specified otherwise\n",
        "model_2.add(tf.keras.layers.Dense(10,activation='relu'))\n",
        "#Output layer; therefore number of neuron = number of classes, ie 4, since it is multicalss classification, therefore activation = softmax\n",
        "model_2.add(tf.keras.layers.Dense(4,activation='softmax'))\n",
        "\n",
        "# Compiling the model\n",
        "model_2.compile(loss=tf.keras.losses.SparseCategoricalCrossentropy(),optimizer=tf.keras.optimizers.Adam(),metrics=['accuracy'])\n",
        "#Loss fucntion = SparseCategoricalCrossentropy() since it is multiclass classification\n",
        "#Metric = 'accuracy' since it is a classification problem\n",
        "#optimizer = Adam() since that is the most widely used\n",
        "\n",
        "#Adding earlystop on 'val_loss'\n",
        "early_stop=tf.keras.callbacks.EarlyStopping(monitor='val_loss',patience=3)\n",
        "\n",
        "# Training\n",
        "tf.random.set_seed(10)\n",
        "## Validation split\n",
        "hist_2=model_2.fit(X_train,y_train,epochs=10, validation_split=0.2,callbacks=[early_stop])\n",
        "pd.DataFrame(hist_2.history).plot();"
      ],
      "metadata": {
        "colab": {
          "base_uri": "https://localhost:8080/",
          "height": 612
        },
        "id": "Htco89KQzMC0",
        "outputId": "3228f318-1c52-421f-8bde-85644d121827"
      },
      "execution_count": null,
      "outputs": [
        {
          "output_type": "stream",
          "name": "stdout",
          "text": [
            "Epoch 1/10\n",
            "132/132 [==============================] - 4s 19ms/step - loss: 1.4205 - accuracy: 0.3489 - val_loss: 1.2585 - val_accuracy: 0.4194\n",
            "Epoch 2/10\n",
            "132/132 [==============================] - 1s 4ms/step - loss: 1.2089 - accuracy: 0.4440 - val_loss: 1.1736 - val_accuracy: 0.4824\n",
            "Epoch 3/10\n",
            "132/132 [==============================] - 0s 3ms/step - loss: 1.1526 - accuracy: 0.4878 - val_loss: 1.1475 - val_accuracy: 0.4890\n",
            "Epoch 4/10\n",
            "132/132 [==============================] - 0s 3ms/step - loss: 1.1301 - accuracy: 0.4945 - val_loss: 1.1342 - val_accuracy: 0.5024\n",
            "Epoch 5/10\n",
            "132/132 [==============================] - 0s 3ms/step - loss: 1.1165 - accuracy: 0.5074 - val_loss: 1.1260 - val_accuracy: 0.5100\n",
            "Epoch 6/10\n",
            "132/132 [==============================] - 0s 2ms/step - loss: 1.1073 - accuracy: 0.5131 - val_loss: 1.1215 - val_accuracy: 0.5129\n",
            "Epoch 7/10\n",
            "132/132 [==============================] - 0s 3ms/step - loss: 1.1009 - accuracy: 0.5186 - val_loss: 1.1170 - val_accuracy: 0.5148\n",
            "Epoch 8/10\n",
            "132/132 [==============================] - 0s 3ms/step - loss: 1.0956 - accuracy: 0.5222 - val_loss: 1.1134 - val_accuracy: 0.5071\n",
            "Epoch 9/10\n",
            "132/132 [==============================] - 0s 2ms/step - loss: 1.0915 - accuracy: 0.5257 - val_loss: 1.1105 - val_accuracy: 0.5043\n",
            "Epoch 10/10\n",
            "132/132 [==============================] - 0s 3ms/step - loss: 1.0881 - accuracy: 0.5298 - val_loss: 1.1063 - val_accuracy: 0.5100\n"
          ]
        },
        {
          "output_type": "display_data",
          "data": {
            "text/plain": [
              "<Figure size 432x288 with 1 Axes>"
            ],
            "image/png": "[encoded data removed]"
          },
          "metadata": {
            "needs_background": "light"
          }
        }
      ]
    },
    {
      "cell_type": "code",
      "source": [
        "print('Test Evaluation Result:\\n')\n",
        "model_2.evaluate(X_test,y_test)"
      ],
      "metadata": {
        "colab": {
          "base_uri": "https://localhost:8080/"
        },
        "id": "uCpo_Dye0Y6F",
        "outputId": "1139cb9b-fec3-417d-b34d-b42632323c50"
      },
      "execution_count": null,
      "outputs": [
        {
          "output_type": "stream",
          "name": "stdout",
          "text": [
            "Test Evaluation Result:\n",
            "\n",
            "41/41 [==============================] - 0s 4ms/step - loss: 1.0932 - accuracy: 0.5213\n"
          ]
        },
        {
          "output_type": "execute_result",
          "data": {
            "text/plain": [
              "[1.0931581258773804, 0.5213414430618286]"
            ]
          },
          "metadata": {},
          "execution_count": 25
        }
      ]
    },
    {
      "cell_type": "markdown",
      "source": [
        "#Remark 2\n",
        "\n",
        "Early stop was not executed\n",
        "\n",
        "model 2 train loss = 1.0881; test loss = 1.0932\n",
        "\n",
        "No overfitting observed\n",
        "\n",
        "Slight improvement in Accuracy so retaining Model 2"
      ],
      "metadata": {
        "id": "goI7fF_r0rfL"
      }
    },
    {
      "cell_type": "code",
      "source": [
        "model_3=tf.keras.Sequential()\n",
        "#Hidden layer, therefore number of neuron can be anything, activation = relu since it is most widely used when not specified otherwise\n",
        "model_3.add(tf.keras.layers.Dense(10,activation='relu'))\n",
        "\n",
        "# Dropout layer\n",
        "model_3.add(tf.keras.layers.Dropout(0.1)) # 10% of units will be dropped\n",
        "\n",
        "#Output layer; therefore number of neuron = number of classes, ie 4, since it is multicalss classification, therefore activation = softmax\n",
        "model_3.add(tf.keras.layers.Dense(4,activation='softmax'))\n",
        "\n",
        "# Compiling the model\n",
        "model_3.compile(loss=tf.keras.losses.SparseCategoricalCrossentropy(),optimizer=tf.keras.optimizers.Adam(),metrics=['accuracy'])\n",
        "#Loss fucntion = SparseCategoricalCrossentropy() since it is multiclass classification\n",
        "#Metric = 'accuracy' since it is a classification problem\n",
        "#optimizer = Adam() since that is the most widely used\n",
        "\n",
        "#Adding earlystop on 'val_loss'\n",
        "early_stop=tf.keras.callbacks.EarlyStopping(monitor='val_loss',patience=3)\n",
        "\n",
        "# Training\n",
        "tf.random.set_seed(10)\n",
        "## Validation split\n",
        "hist_3=model_3.fit(X_train,y_train,epochs=10, validation_split=0.2,callbacks=[early_stop])\n",
        "pd.DataFrame(hist_3.history).plot();"
      ],
      "metadata": {
        "colab": {
          "base_uri": "https://localhost:8080/",
          "height": 612
        },
        "id": "bsI5Gitu0fSk",
        "outputId": "8818c7b8-1550-4580-d465-d6039fce88f8"
      },
      "execution_count": null,
      "outputs": [
        {
          "output_type": "stream",
          "name": "stdout",
          "text": [
            "Epoch 1/10\n",
            "132/132 [==============================] - 2s 4ms/step - loss: 1.5832 - accuracy: 0.2948 - val_loss: 1.3361 - val_accuracy: 0.4061\n",
            "Epoch 2/10\n",
            "132/132 [==============================] - 0s 3ms/step - loss: 1.3162 - accuracy: 0.4035 - val_loss: 1.2182 - val_accuracy: 0.4557\n",
            "Epoch 3/10\n",
            "132/132 [==============================] - 0s 2ms/step - loss: 1.2327 - accuracy: 0.4409 - val_loss: 1.1711 - val_accuracy: 0.4766\n",
            "Epoch 4/10\n",
            "132/132 [==============================] - 0s 3ms/step - loss: 1.1956 - accuracy: 0.4514 - val_loss: 1.1503 - val_accuracy: 0.5043\n",
            "Epoch 5/10\n",
            "132/132 [==============================] - 0s 3ms/step - loss: 1.1642 - accuracy: 0.4638 - val_loss: 1.1375 - val_accuracy: 0.5043\n",
            "Epoch 6/10\n",
            "132/132 [==============================] - 0s 2ms/step - loss: 1.1450 - accuracy: 0.4752 - val_loss: 1.1261 - val_accuracy: 0.5138\n",
            "Epoch 7/10\n",
            "132/132 [==============================] - 0s 3ms/step - loss: 1.1345 - accuracy: 0.4907 - val_loss: 1.1198 - val_accuracy: 0.5091\n",
            "Epoch 8/10\n",
            "132/132 [==============================] - 1s 4ms/step - loss: 1.1295 - accuracy: 0.4914 - val_loss: 1.1169 - val_accuracy: 0.5119\n",
            "Epoch 9/10\n",
            "132/132 [==============================] - 1s 4ms/step - loss: 1.1221 - accuracy: 0.4929 - val_loss: 1.1129 - val_accuracy: 0.5091\n",
            "Epoch 10/10\n",
            "132/132 [==============================] - 0s 4ms/step - loss: 1.1125 - accuracy: 0.5000 - val_loss: 1.1088 - val_accuracy: 0.5138\n"
          ]
        },
        {
          "output_type": "display_data",
          "data": {
            "text/plain": [
              "<Figure size 432x288 with 1 Axes>"
            ],
            "image/png": "[encoded data removed]"
          },
          "metadata": {
            "needs_background": "light"
          }
        }
      ]
    },
    {
      "cell_type": "code",
      "source": [
        "print('Test Evaluation Result:\\n')\n",
        "model_3.evaluate(X_test,y_test)"
      ],
      "metadata": {
        "colab": {
          "base_uri": "https://localhost:8080/"
        },
        "id": "8SehwSbo1bPE",
        "outputId": "c2f34e74-24b7-47c2-e466-eab382ec7a5a"
      },
      "execution_count": null,
      "outputs": [
        {
          "output_type": "stream",
          "name": "stdout",
          "text": [
            "Test Evaluation Result:\n",
            "\n",
            "41/41 [==============================] - 0s 3ms/step - loss: 1.0883 - accuracy: 0.5183\n"
          ]
        },
        {
          "output_type": "execute_result",
          "data": {
            "text/plain": [
              "[1.088263988494873, 0.5182926654815674]"
            ]
          },
          "metadata": {},
          "execution_count": 27
        }
      ]
    },
    {
      "cell_type": "markdown",
      "source": [
        "#Remark 3\n",
        "\n",
        "Early stop was not executed\n",
        "\n",
        "model 3 train loss = 1.1125; test loss = 1.0883\n",
        "\n",
        "No overfitting observed, performace has dropped as Model 2 accuracy was 0.5298 and Model 3 accuracy is 0.5\n",
        "\n",
        "###Therefore retaining model 2"
      ],
      "metadata": {
        "id": "ZHog-W2I1krT"
      }
    },
    {
      "cell_type": "markdown",
      "source": [
        "4.\tRevise the model by first changing the no of layers and then number of units. Comment on the result each time."
      ],
      "metadata": {
        "id": "KmVMo8q8189c"
      }
    },
    {
      "cell_type": "code",
      "source": [
        "model_4=tf.keras.Sequential()\n",
        "#Hidden layer, therefore number of neuron can be anything, activation = relu since it is most widely used when not specified otherwise\n",
        "model_4.add(tf.keras.layers.Dense(10,activation='relu'))\n",
        "\n",
        "#Adding another hidden layer\n",
        "model_4.add(tf.keras.layers.Dense(10,activation='relu'))\n",
        "\n",
        "#Output layer; therefore number of neuron = number of classes, ie 4, since it is multicalss classification, therefore activation = softmax\n",
        "model_4.add(tf.keras.layers.Dense(4,activation='softmax'))\n",
        "\n",
        "# Compiling the model\n",
        "model_4.compile(loss=tf.keras.losses.SparseCategoricalCrossentropy(),optimizer=tf.keras.optimizers.Adam(),metrics=['accuracy'])\n",
        "#Loss fucntion = SparseCategoricalCrossentropy() since it is multiclass classification\n",
        "#Metric = 'accuracy' since it is a classification problem\n",
        "#optimizer = Adam() since that is the most widely used\n",
        "\n",
        "#Adding earlystop on 'val_loss'\n",
        "early_stop=tf.keras.callbacks.EarlyStopping(monitor='val_loss',patience=3)\n",
        "\n",
        "# Training\n",
        "tf.random.set_seed(10)\n",
        "## Validation split\n",
        "hist_4=model_4.fit(X_train,y_train,epochs=10, validation_split=0.2,callbacks=[early_stop])\n",
        "pd.DataFrame(hist_4.history).plot();"
      ],
      "metadata": {
        "colab": {
          "base_uri": "https://localhost:8080/",
          "height": 612
        },
        "id": "hu4exFaw1irj",
        "outputId": "bbd8f420-72f8-4db0-d9bf-bdeaa2ccd1d0"
      },
      "execution_count": null,
      "outputs": [
        {
          "output_type": "stream",
          "name": "stdout",
          "text": [
            "Epoch 1/10\n",
            "132/132 [==============================] - 2s 5ms/step - loss: 1.3741 - accuracy: 0.3632 - val_loss: 1.2937 - val_accuracy: 0.3985\n",
            "Epoch 2/10\n",
            "132/132 [==============================] - 1s 4ms/step - loss: 1.2288 - accuracy: 0.4304 - val_loss: 1.2154 - val_accuracy: 0.4519\n",
            "Epoch 3/10\n",
            "132/132 [==============================] - 0s 4ms/step - loss: 1.1666 - accuracy: 0.4738 - val_loss: 1.1700 - val_accuracy: 0.4805\n",
            "Epoch 4/10\n",
            "132/132 [==============================] - 0s 4ms/step - loss: 1.1353 - accuracy: 0.4995 - val_loss: 1.1492 - val_accuracy: 0.4843\n",
            "Epoch 5/10\n",
            "132/132 [==============================] - 1s 5ms/step - loss: 1.1185 - accuracy: 0.5088 - val_loss: 1.1385 - val_accuracy: 0.4900\n",
            "Epoch 6/10\n",
            "132/132 [==============================] - 0s 4ms/step - loss: 1.1086 - accuracy: 0.5107 - val_loss: 1.1324 - val_accuracy: 0.5043\n",
            "Epoch 7/10\n",
            "132/132 [==============================] - 0s 2ms/step - loss: 1.1018 - accuracy: 0.5174 - val_loss: 1.1272 - val_accuracy: 0.5005\n",
            "Epoch 8/10\n",
            "132/132 [==============================] - 0s 3ms/step - loss: 1.0970 - accuracy: 0.5205 - val_loss: 1.1246 - val_accuracy: 0.5033\n",
            "Epoch 9/10\n",
            "132/132 [==============================] - 0s 3ms/step - loss: 1.0932 - accuracy: 0.5224 - val_loss: 1.1218 - val_accuracy: 0.4976\n",
            "Epoch 10/10\n",
            "132/132 [==============================] - 0s 3ms/step - loss: 1.0891 - accuracy: 0.5236 - val_loss: 1.1164 - val_accuracy: 0.5052\n"
          ]
        },
        {
          "output_type": "display_data",
          "data": {
            "text/plain": [
              "<Figure size 432x288 with 1 Axes>"
            ],
            "image/png": "[encoded data removed]"
          },
          "metadata": {
            "needs_background": "light"
          }
        }
      ]
    },
    {
      "cell_type": "code",
      "source": [
        "print('Test Evaluation Result:\\n')\n",
        "model_4.evaluate(X_test,y_test)"
      ],
      "metadata": {
        "colab": {
          "base_uri": "https://localhost:8080/"
        },
        "id": "KZW8ThIM2mRc",
        "outputId": "90aa2233-23cd-4e82-aff5-c7ccb1c9a049"
      },
      "execution_count": null,
      "outputs": [
        {
          "output_type": "stream",
          "name": "stdout",
          "text": [
            "Test Evaluation Result:\n",
            "\n",
            "41/41 [==============================] - 0s 7ms/step - loss: 1.0880 - accuracy: 0.5152\n"
          ]
        },
        {
          "output_type": "execute_result",
          "data": {
            "text/plain": [
              "[1.0879738330841064, 0.5152438879013062]"
            ]
          },
          "metadata": {},
          "execution_count": 29
        }
      ]
    },
    {
      "cell_type": "markdown",
      "source": [
        "#Remark 4\n",
        "\n",
        "Early stop was not executed\n",
        "\n",
        "model 4 train loss = 1.0891; test loss = 1.0880\n",
        "\n",
        "No overfitting observed\n",
        "\n",
        "Since adding a new hidden layer did not improve performance (Accuracy), therefore retaining Model 2"
      ],
      "metadata": {
        "id": "fC91Z7fR21CT"
      }
    },
    {
      "cell_type": "code",
      "source": [
        "model_5=tf.keras.Sequential()\n",
        "#Hidden layer, therefore number of neuron can be anything, activation = relu since it is most widely used when not specified otherwise\n",
        "model_5.add(tf.keras.layers.Dense(15,activation='relu'))\n",
        "\n",
        "#Output layer; therefore number of neuron = number of classes, ie 4, since it is multicalss classification, therefore activation = softmax\n",
        "model_5.add(tf.keras.layers.Dense(4,activation='softmax'))\n",
        "\n",
        "# Compiling the model\n",
        "model_5.compile(loss=tf.keras.losses.SparseCategoricalCrossentropy(),optimizer=tf.keras.optimizers.Adam(),metrics=['accuracy'])\n",
        "#Loss fucntion = SparseCategoricalCrossentropy() since it is multiclass classification\n",
        "#Metric = 'accuracy' since it is a classification problem\n",
        "#optimizer = Adam() since that is the most widely used\n",
        "\n",
        "#Adding earlystop on 'val_loss'\n",
        "early_stop=tf.keras.callbacks.EarlyStopping(monitor='val_loss',patience=3)\n",
        "\n",
        "# Training\n",
        "tf.random.set_seed(10)\n",
        "## Validation split\n",
        "hist_5=model_5.fit(X_train,y_train,epochs=10, validation_split=0.2,callbacks=[early_stop])\n",
        "pd.DataFrame(hist_5.history).plot();"
      ],
      "metadata": {
        "colab": {
          "base_uri": "https://localhost:8080/",
          "height": 612
        },
        "id": "vmdWlFH82vQj",
        "outputId": "3af04c5d-b7d7-4e13-f88d-358538de6ecb"
      },
      "execution_count": null,
      "outputs": [
        {
          "output_type": "stream",
          "name": "stdout",
          "text": [
            "Epoch 1/10\n",
            "132/132 [==============================] - 3s 5ms/step - loss: 1.4720 - accuracy: 0.3482 - val_loss: 1.2712 - val_accuracy: 0.4471\n",
            "Epoch 2/10\n",
            "132/132 [==============================] - 0s 2ms/step - loss: 1.2179 - accuracy: 0.4621 - val_loss: 1.1797 - val_accuracy: 0.4929\n",
            "Epoch 3/10\n",
            "132/132 [==============================] - 0s 3ms/step - loss: 1.1543 - accuracy: 0.4857 - val_loss: 1.1497 - val_accuracy: 0.5071\n",
            "Epoch 4/10\n",
            "132/132 [==============================] - 0s 2ms/step - loss: 1.1273 - accuracy: 0.4959 - val_loss: 1.1355 - val_accuracy: 0.5167\n",
            "Epoch 5/10\n",
            "132/132 [==============================] - 0s 2ms/step - loss: 1.1106 - accuracy: 0.5055 - val_loss: 1.1271 - val_accuracy: 0.5129\n",
            "Epoch 6/10\n",
            "132/132 [==============================] - 0s 2ms/step - loss: 1.1001 - accuracy: 0.5133 - val_loss: 1.1196 - val_accuracy: 0.5167\n",
            "Epoch 7/10\n",
            "132/132 [==============================] - 0s 2ms/step - loss: 1.0927 - accuracy: 0.5176 - val_loss: 1.1160 - val_accuracy: 0.5129\n",
            "Epoch 8/10\n",
            "132/132 [==============================] - 0s 3ms/step - loss: 1.0865 - accuracy: 0.5267 - val_loss: 1.1118 - val_accuracy: 0.5195\n",
            "Epoch 9/10\n",
            "132/132 [==============================] - 0s 3ms/step - loss: 1.0821 - accuracy: 0.5262 - val_loss: 1.1097 - val_accuracy: 0.5195\n",
            "Epoch 10/10\n",
            "132/132 [==============================] - 0s 2ms/step - loss: 1.0780 - accuracy: 0.5236 - val_loss: 1.1063 - val_accuracy: 0.5186\n"
          ]
        },
        {
          "output_type": "display_data",
          "data": {
            "text/plain": [
              "<Figure size 432x288 with 1 Axes>"
            ],
            "image/png": "[encoded data removed]"
          },
          "metadata": {
            "needs_background": "light"
          }
        }
      ]
    },
    {
      "cell_type": "code",
      "source": [
        "print('Test Evaluation Result:\\n')\n",
        "model_5.evaluate(X_test,y_test)"
      ],
      "metadata": {
        "colab": {
          "base_uri": "https://localhost:8080/"
        },
        "id": "awG3860z3pFb",
        "outputId": "74ea04c8-3a0c-43f3-c30e-558c5f644683"
      },
      "execution_count": null,
      "outputs": [
        {
          "output_type": "stream",
          "name": "stdout",
          "text": [
            "Test Evaluation Result:\n",
            "\n",
            "41/41 [==============================] - 0s 5ms/step - loss: 1.0786 - accuracy: 0.5244\n"
          ]
        },
        {
          "output_type": "execute_result",
          "data": {
            "text/plain": [
              "[1.0786213874816895, 0.5243902206420898]"
            ]
          },
          "metadata": {},
          "execution_count": 31
        }
      ]
    },
    {
      "cell_type": "markdown",
      "source": [
        "#Remark 5\n",
        "\n",
        "Early stop was not executed\n",
        "\n",
        "model 5 train loss = 1.0780; test loss = 1.0786\n",
        "\n",
        "No overfitting observed\n",
        "\n",
        "Since changing the number of neurons has reduced the loss slightly, therefore retaining Model 5"
      ],
      "metadata": {
        "id": "IkA2VqWo31I5"
      }
    },
    {
      "cell_type": "markdown",
      "source": [
        "5.\tCreate a graph showing test losses corresponding to each model and suggest the best model. Does the best model show overfitting? If we increase the no of epochs by hundred times, will you get a better model? Justify the answer.  What is your final observation about the effectiveness of neural network for the problem?"
      ],
      "metadata": {
        "id": "D_lVfBmU4ecS"
      }
    },
    {
      "cell_type": "code",
      "source": [
        "#Building a model with 100 times the number of epochs as before\n",
        "\n",
        "model_6=tf.keras.Sequential()\n",
        "#Hidden layer, therefore number of neuron can be anything, activation = relu since it is most widely used when not specified otherwise\n",
        "model_6.add(tf.keras.layers.Dense(15,activation='relu'))\n",
        "\n",
        "#Output layer; therefore number of neuron = number of classes, ie 4, since it is multicalss classification, therefore activation = softmax\n",
        "model_6.add(tf.keras.layers.Dense(4,activation='softmax'))\n",
        "\n",
        "# Compiling the model\n",
        "model_6.compile(loss=tf.keras.losses.SparseCategoricalCrossentropy(),optimizer=tf.keras.optimizers.Adam(),metrics=['accuracy'])\n",
        "#Loss fucntion = SparseCategoricalCrossentropy() since it is multiclass classification\n",
        "#Metric = 'accuracy' since it is a classification problem\n",
        "#optimizer = Adam() since that is the most widely used\n",
        "\n",
        "#Adding earlystop on 'val_loss'\n",
        "early_stop=tf.keras.callbacks.EarlyStopping(monitor='val_loss',patience=3)\n",
        "\n",
        "# Training\n",
        "tf.random.set_seed(10)\n",
        "## Validation split\n",
        "hist_6=model_6.fit(X_train,y_train,epochs=1000, validation_split=0.2,callbacks=[early_stop],verbose=0)\n",
        "pd.DataFrame(hist_6.history).plot();"
      ],
      "metadata": {
        "colab": {
          "base_uri": "https://localhost:8080/",
          "height": 265
        },
        "id": "BpOPgENo3vVT",
        "outputId": "2b090920-71b5-498e-8f10-effb9833f157"
      },
      "execution_count": null,
      "outputs": [
        {
          "output_type": "display_data",
          "data": {
            "text/plain": [
              "<Figure size 432x288 with 1 Axes>"
            ],
            "image/png": "[encoded data removed]"
          },
          "metadata": {
            "needs_background": "light"
          }
        }
      ]
    },
    {
      "cell_type": "code",
      "source": [
        "pd.DataFrame(hist_6.history).tail()"
      ],
      "metadata": {
        "colab": {
          "base_uri": "https://localhost:8080/",
          "height": 206
        },
        "id": "ZHTWf_l_6h6B",
        "outputId": "25a57af8-7aa0-4667-bd8e-302a3f7f3eba"
      },
      "execution_count": null,
      "outputs": [
        {
          "output_type": "execute_result",
          "data": {
            "text/plain": [
              "        loss  accuracy  val_loss  val_accuracy\n",
              "39  1.039645  0.550763  1.083176      0.504290\n",
              "40  1.039165  0.557197  1.080284      0.498570\n",
              "41  1.037563  0.550048  1.080494      0.501430\n",
              "42  1.037460  0.548856  1.081507      0.494757\n",
              "43  1.036415  0.551478  1.080363      0.502383"
            ],
            "text/html": [
              "\n",
              "  <div id=\"df-7eed4ec3-1880-466c-8703-bb0b12375ad7\">\n",
              "    <div class=\"colab-df-container\">\n",
              "      <div>\n",
              "<style scoped>\n",
              "    .dataframe tbody tr th:only-of-type {\n",
              "        vertical-align: middle;\n",
              "    }\n",
              "\n",
              "    .dataframe tbody tr th {\n",
              "        vertical-align: top;\n",
              "    }\n",
              "\n",
              "    .dataframe thead th {\n",
              "        text-align: right;\n",
              "    }\n",
              "</style>\n",
              "<table border=\"1\" class=\"dataframe\">\n",
              "  <thead>\n",
              "    <tr style=\"text-align: right;\">\n",
              "      <th></th>\n",
              "      <th>loss</th>\n",
              "      <th>accuracy</th>\n",
              "      <th>val_loss</th>\n",
              "      <th>val_accuracy</th>\n",
              "    </tr>\n",
              "  </thead>\n",
              "  <tbody>\n",
              "    <tr>\n",
              "      <th>39</th>\n",
              "      <td>1.039645</td>\n",
              "      <td>0.550763</td>\n",
              "      <td>1.083176</td>\n",
              "      <td>0.504290</td>\n",
              "    </tr>\n",
              "    <tr>\n",
              "      <th>40</th>\n",
              "      <td>1.039165</td>\n",
              "      <td>0.557197</td>\n",
              "      <td>1.080284</td>\n",
              "      <td>0.498570</td>\n",
              "    </tr>\n",
              "    <tr>\n",
              "      <th>41</th>\n",
              "      <td>1.037563</td>\n",
              "      <td>0.550048</td>\n",
              "      <td>1.080494</td>\n",
              "      <td>0.501430</td>\n",
              "    </tr>\n",
              "    <tr>\n",
              "      <th>42</th>\n",
              "      <td>1.037460</td>\n",
              "      <td>0.548856</td>\n",
              "      <td>1.081507</td>\n",
              "      <td>0.494757</td>\n",
              "    </tr>\n",
              "    <tr>\n",
              "      <th>43</th>\n",
              "      <td>1.036415</td>\n",
              "      <td>0.551478</td>\n",
              "      <td>1.080363</td>\n",
              "      <td>0.502383</td>\n",
              "    </tr>\n",
              "  </tbody>\n",
              "</table>\n",
              "</div>\n",
              "      <button class=\"colab-df-convert\" onclick=\"convertToInteractive('df-7eed4ec3-1880-466c-8703-bb0b12375ad7')\"\n",
              "              title=\"Convert this dataframe to an interactive table.\"\n",
              "              style=\"display:none;\">\n",
              "        \n",
              "  <svg xmlns=\"http://www.w3.org/2000/svg\" height=\"24px\"viewBox=\"0 0 24 24\"\n",
              "       width=\"24px\">\n",
              "    <path d=\"M0 0h24v24H0V0z\" fill=\"none\"/>\n",
              "    <path d=\"M18.56 5.44l.94 2.06.94-2.06 2.06-.94-2.06-.94-.94-2.06-.94 2.06-2.06.94zm-11 1L8.5 8.5l.94-2.06 2.06-.94-2.06-.94L8.5 2.5l-.94 2.06-2.06.94zm10 10l.94 2.06.94-2.06 2.06-.94-2.06-.94-.94-2.06-.94 2.06-2.06.94z\"/><path d=\"M17.41 7.96l-1.37-1.37c-.4-.4-.92-.59-1.43-.59-.52 0-1.04.2-1.43.59L10.3 9.45l-7.72 7.72c-.78.78-.78 2.05 0 2.83L4 21.41c.39.39.9.59 1.41.59.51 0 1.02-.2 1.41-.59l7.78-7.78 2.81-2.81c.8-.78.8-2.07 0-2.86zM5.41 20L4 18.59l7.72-7.72 1.47 1.35L5.41 20z\"/>\n",
              "  </svg>\n",
              "      </button>\n",
              "      \n",
              "  <style>\n",
              "    .colab-df-container {\n",
              "      display:flex;\n",
              "      flex-wrap:wrap;\n",
              "      gap: 12px;\n",
              "    }\n",
              "\n",
              "    .colab-df-convert {\n",
              "      background-color: #E8F0FE;\n",
              "      border: none;\n",
              "      border-radius: 50%;\n",
              "      cursor: pointer;\n",
              "      display: none;\n",
              "      fill: #1967D2;\n",
              "      height: 32px;\n",
              "      padding: 0 0 0 0;\n",
              "      width: 32px;\n",
              "    }\n",
              "\n",
              "    .colab-df-convert:hover {\n",
              "      background-color: #E2EBFA;\n",
              "      box-shadow: 0px 1px 2px rgba(60, 64, 67, 0.3), 0px 1px 3px 1px rgba(60, 64, 67, 0.15);\n",
              "      fill: #174EA6;\n",
              "    }\n",
              "\n",
              "    [theme=dark] .colab-df-convert {\n",
              "      background-color: #3B4455;\n",
              "      fill: #D2E3FC;\n",
              "    }\n",
              "\n",
              "    [theme=dark] .colab-df-convert:hover {\n",
              "      background-color: #434B5C;\n",
              "      box-shadow: 0px 1px 3px 1px rgba(0, 0, 0, 0.15);\n",
              "      filter: drop-shadow(0px 1px 2px rgba(0, 0, 0, 0.3));\n",
              "      fill: #FFFFFF;\n",
              "    }\n",
              "  </style>\n",
              "\n",
              "      <script>\n",
              "        const buttonEl =\n",
              "          document.querySelector('#df-7eed4ec3-1880-466c-8703-bb0b12375ad7 button.colab-df-convert');\n",
              "        buttonEl.style.display =\n",
              "          google.colab.kernel.accessAllowed ? 'block' : 'none';\n",
              "\n",
              "        async function convertToInteractive(key) {\n",
              "          const element = document.querySelector('#df-7eed4ec3-1880-466c-8703-bb0b12375ad7');\n",
              "          const dataTable =\n",
              "            await google.colab.kernel.invokeFunction('convertToInteractive',\n",
              "                                                     [key], {});\n",
              "          if (!dataTable) return;\n",
              "\n",
              "          const docLinkHtml = 'Like what you see? Visit the ' +\n",
              "            '<a target=\"_blank\" href=https://colab.research.google.com/notebooks/data_table.ipynb>data table notebook</a>'\n",
              "            + ' to learn more about interactive tables.';\n",
              "          element.innerHTML = '';\n",
              "          dataTable['output_type'] = 'display_data';\n",
              "          await google.colab.output.renderOutput(dataTable, element);\n",
              "          const docLink = document.createElement('div');\n",
              "          docLink.innerHTML = docLinkHtml;\n",
              "          element.appendChild(docLink);\n",
              "        }\n",
              "      </script>\n",
              "    </div>\n",
              "  </div>\n",
              "  "
            ]
          },
          "metadata": {},
          "execution_count": 37
        }
      ]
    },
    {
      "cell_type": "code",
      "source": [
        "print('Test Evaluation Result:\\n')\n",
        "model_6.evaluate(X_test,y_test)"
      ],
      "metadata": {
        "colab": {
          "base_uri": "https://localhost:8080/"
        },
        "id": "LlMP0yBn4w9T",
        "outputId": "3446fa8f-55e5-4df6-8fa8-28b76fd81c37"
      },
      "execution_count": null,
      "outputs": [
        {
          "output_type": "stream",
          "name": "stdout",
          "text": [
            "Test Evaluation Result:\n",
            "\n",
            "41/41 [==============================] - 0s 2ms/step - loss: 1.0617 - accuracy: 0.5221\n"
          ]
        },
        {
          "output_type": "execute_result",
          "data": {
            "text/plain": [
              "[1.0617212057113647, 0.5221036672592163]"
            ]
          },
          "metadata": {},
          "execution_count": 36
        }
      ]
    },
    {
      "cell_type": "markdown",
      "source": [
        "#Remark 6\n",
        "\n",
        "When running with 1000 epochs, Early stop was executed at around epoch number 43\n",
        "\n",
        "model 6 train loss = 1.0364; test loss = 1.0617\n",
        "\n",
        "No overfitting observed\n",
        "\n",
        "Accuracy did not improve significantly\n",
        "\n",
        "Therefore running with high number of epochs does not seem benificial"
      ],
      "metadata": {
        "id": "_9Yt-BTX5GIa"
      }
    },
    {
      "cell_type": "code",
      "source": [
        "model_number = ['Model 1','Model 2','Model 3','Model 4','Model 5','Model 6']\n",
        "test_loss = [1.0857,1.0932,1.0883,1.0880,1.0786,1.0617]\n",
        "\n",
        "fig = plt.figure(figsize = (10, 5))\n",
        "\n",
        "# creating the bar plot\n",
        "plt.bar(model_number, test_loss,log = True)\n",
        "\n",
        "plt.xlabel(\"Model Number\")\n",
        "plt.ylabel(\"Test Loss\")\n",
        "plt.title(\"Performance of Different Models\")\n",
        "plt.show()"
      ],
      "metadata": {
        "colab": {
          "base_uri": "https://localhost:8080/",
          "height": 350
        },
        "id": "eSDoKbeo44gT",
        "outputId": "69e0bfe5-1092-443f-d3b4-70cc21e21163"
      },
      "execution_count": null,
      "outputs": [
        {
          "output_type": "display_data",
          "data": {
            "text/plain": [
              "<Figure size 720x360 with 1 Axes>"
            ],
            "image/png": "[encoded data removed]"
          },
          "metadata": {
            "needs_background": "light"
          }
        }
      ]
    },
    {
      "cell_type": "markdown",
      "source": [
        "As seen in the above graph, Model 6 has the minimum test loss but has to run for high number of epochs\n",
        "\n",
        "Model 5 with Cross Validation, Early Stopping, and one hidden layer with 15 units seems to give best results for only 10 number of epochs\n",
        "\n",
        "Therefore model 6 is best if processing power and compute time is not an issue, else model 5 is best"
      ],
      "metadata": {
        "id": "FCWTJYG-8-EA"
      }
    },
    {
      "cell_type": "code",
      "source": [],
      "metadata": {
        "id": "ryTZpjwx8p4B"
      },
      "execution_count": null,
      "outputs": []
    }
  ]
}